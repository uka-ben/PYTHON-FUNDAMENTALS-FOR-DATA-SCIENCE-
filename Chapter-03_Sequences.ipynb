{
  "nbformat": 4,
  "nbformat_minor": 0,
  "metadata": {
    "colab": {
      "name": "Chapter3-Sequences.ipynb",
      "provenance": [],
      "collapsed_sections": [],
      "toc_visible": true,
      "include_colab_link": true
    },
    "kernelspec": {
      "name": "python3",
      "display_name": "Python 3"
    }
  },
  "cells": [
    {
      "cell_type": "markdown",
      "metadata": {
        "id": "view-in-github",
        "colab_type": "text"
      },
      "source": [
        "<a href=\"https://colab.research.google.com/github/kbehrman/foundational-python-for-data-science/blob/main/Chapter3_Sequences.ipynb\" target=\"_parent\"><img src=\"https://colab.research.google.com/assets/colab-badge.svg\" alt=\"Open In Colab\"/></a>"
      ]
    },
    {
      "cell_type": "markdown",
      "metadata": {
        "id": "h7AXG5JS2nB9"
      },
      "source": [
        "# Sequences"
      ]
    },
    {
      "cell_type": "markdown",
      "metadata": {
        "id": "krRw89YW2tMx"
      },
      "source": [
        "## Shared Operations"
      ]
    },
    {
      "cell_type": "markdown",
      "metadata": {
        "id": "3GBEwxpF28NC"
      },
      "source": [
        "### Membership"
      ]
    },
    {
      "cell_type": "code",
      "metadata": {
        "id": "3anAoMjt2gMG",
        "colab": {
          "base_uri": "https://localhost:8080/"
        },
        "outputId": "22bf8c65-5e5e-46ca-9284-0e3f90abbea4"
      },
      "source": [
        "1 in range(10)"
      ],
      "execution_count": 4,
      "outputs": [
        {
          "output_type": "execute_result",
          "data": {
            "text/plain": [
              "True"
            ]
          },
          "metadata": {
            "tags": []
          },
          "execution_count": 4
        }
      ]
    },
    {
      "cell_type": "code",
      "metadata": {
        "id": "Ufu-VWoQ3IN-",
        "colab": {
          "base_uri": "https://localhost:8080/"
        },
        "outputId": "ba800a6a-3cdb-406f-b7b7-142405e0216a"
      },
      "source": [
        "'b'  in 'cat'"
      ],
      "execution_count": 5,
      "outputs": [
        {
          "output_type": "execute_result",
          "data": {
            "text/plain": [
              "False"
            ]
          },
          "metadata": {
            "tags": []
          },
          "execution_count": 5
        }
      ]
    },
    {
      "cell_type": "code",
      "metadata": {
        "id": "PK-F439_3Nye",
        "colab": {
          "base_uri": "https://localhost:8080/"
        },
        "outputId": "2fbfa5f3-864b-4357-c6a9-0e9436f81b14"
      },
      "source": [
        "'bat' in 'battery'"
      ],
      "execution_count": 6,
      "outputs": [
        {
          "output_type": "execute_result",
          "data": {
            "text/plain": [
              "True"
            ]
          },
          "metadata": {
            "tags": []
          },
          "execution_count": 6
        }
      ]
    },
    {
      "cell_type": "code",
      "metadata": {
        "id": "fe-YGq9T6G_l",
        "colab": {
          "base_uri": "https://localhost:8080/"
        },
        "outputId": "f41a69f0-f91b-4767-f16e-8791174a7894"
      },
      "source": [
        "'first' in ['first', 'second', 'third']\n"
      ],
      "execution_count": 7,
      "outputs": [
        {
          "output_type": "execute_result",
          "data": {
            "text/plain": [
              "True"
            ]
          },
          "metadata": {
            "tags": []
          },
          "execution_count": 7
        }
      ]
    },
    {
      "cell_type": "code",
      "metadata": {
        "id": "70MIr0EE9l3g",
        "colab": {
          "base_uri": "https://localhost:8080/"
        },
        "outputId": "82a0ea97-c5b2-4c3e-c209-a174b891d915"
      },
      "source": [
        "23 in (23,)"
      ],
      "execution_count": 8,
      "outputs": [
        {
          "output_type": "execute_result",
          "data": {
            "text/plain": [
              "True"
            ]
          },
          "metadata": {
            "tags": []
          },
          "execution_count": 8
        }
      ]
    },
    {
      "cell_type": "code",
      "metadata": {
        "id": "4lAhDg8l9rgi",
        "colab": {
          "base_uri": "https://localhost:8080/"
        },
        "outputId": "2c19ff89-9981-49f3-cf67-c5bce87fc02d"
      },
      "source": [
        "b'a' in b'ieojjza'"
      ],
      "execution_count": 9,
      "outputs": [
        {
          "output_type": "execute_result",
          "data": {
            "text/plain": [
              "True"
            ]
          },
          "metadata": {
            "tags": []
          },
          "execution_count": 9
        }
      ]
    },
    {
      "cell_type": "markdown",
      "metadata": {
        "id": "GOUkKkjQa3tE"
      },
      "source": [
        "### Indexing"
      ]
    },
    {
      "cell_type": "code",
      "metadata": {
        "id": "6nIKx9I6Y_IO"
      },
      "source": [
        "name = \"Ignatius\""
      ],
      "execution_count": 10,
      "outputs": []
    },
    {
      "cell_type": "code",
      "metadata": {
        "id": "c3pw6N6eZiKR",
        "colab": {
          "base_uri": "https://localhost:8080/",
          "height": 35
        },
        "outputId": "e1b3b031-2510-4fa0-af34-a405098a87c1"
      },
      "source": [
        "name[0]"
      ],
      "execution_count": 11,
      "outputs": [
        {
          "output_type": "execute_result",
          "data": {
            "application/vnd.google.colaboratory.intrinsic+json": {
              "type": "string"
            },
            "text/plain": [
              "'I'"
            ]
          },
          "metadata": {
            "tags": []
          },
          "execution_count": 11
        }
      ]
    },
    {
      "cell_type": "code",
      "metadata": {
        "id": "txQ8PGTGZkH7",
        "colab": {
          "base_uri": "https://localhost:8080/",
          "height": 35
        },
        "outputId": "5a9a7a75-c078-4b61-8b8a-43417cf83b1b"
      },
      "source": [
        "name[4]"
      ],
      "execution_count": 12,
      "outputs": [
        {
          "output_type": "execute_result",
          "data": {
            "application/vnd.google.colaboratory.intrinsic+json": {
              "type": "string"
            },
            "text/plain": [
              "'t'"
            ]
          },
          "metadata": {
            "tags": []
          },
          "execution_count": 12
        }
      ]
    },
    {
      "cell_type": "code",
      "metadata": {
        "id": "mAwBVnlTZl6J",
        "colab": {
          "base_uri": "https://localhost:8080/",
          "height": 35
        },
        "outputId": "9804cd6c-7e61-448e-8d7f-dd4dbab29f92"
      },
      "source": [
        "name[-1]"
      ],
      "execution_count": 13,
      "outputs": [
        {
          "output_type": "execute_result",
          "data": {
            "application/vnd.google.colaboratory.intrinsic+json": {
              "type": "string"
            },
            "text/plain": [
              "'s'"
            ]
          },
          "metadata": {
            "tags": []
          },
          "execution_count": 13
        }
      ]
    },
    {
      "cell_type": "code",
      "metadata": {
        "id": "huRl5zfBZnuZ",
        "colab": {
          "base_uri": "https://localhost:8080/",
          "height": 35
        },
        "outputId": "7014741f-1876-46a9-c1de-97dbf7302d7d"
      },
      "source": [
        "name[-2]"
      ],
      "execution_count": 14,
      "outputs": [
        {
          "output_type": "execute_result",
          "data": {
            "application/vnd.google.colaboratory.intrinsic+json": {
              "type": "string"
            },
            "text/plain": [
              "'u'"
            ]
          },
          "metadata": {
            "tags": []
          },
          "execution_count": 14
        }
      ]
    },
    {
      "cell_type": "code",
      "metadata": {
        "id": "DWu3HcvQZqep",
        "colab": {
          "base_uri": "https://localhost:8080/",
          "height": 35
        },
        "outputId": "6da9f56b-42d5-42ae-e8cb-3c08cc14232d"
      },
      "source": [
        "name[2:5]"
      ],
      "execution_count": 15,
      "outputs": [
        {
          "output_type": "execute_result",
          "data": {
            "application/vnd.google.colaboratory.intrinsic+json": {
              "type": "string"
            },
            "text/plain": [
              "'nat'"
            ]
          },
          "metadata": {
            "tags": []
          },
          "execution_count": 15
        }
      ]
    },
    {
      "cell_type": "code",
      "metadata": {
        "id": "9U9mKmkZZ8dj",
        "colab": {
          "base_uri": "https://localhost:8080/",
          "height": 35
        },
        "outputId": "ec002fbb-dcaf-468b-cd0d-12ee4d12cd54"
      },
      "source": [
        "name[:5]"
      ],
      "execution_count": 16,
      "outputs": [
        {
          "output_type": "execute_result",
          "data": {
            "application/vnd.google.colaboratory.intrinsic+json": {
              "type": "string"
            },
            "text/plain": [
              "'Ignat'"
            ]
          },
          "metadata": {
            "tags": []
          },
          "execution_count": 16
        }
      ]
    },
    {
      "cell_type": "code",
      "metadata": {
        "id": "d6FnJnBxaEQ2",
        "colab": {
          "base_uri": "https://localhost:8080/",
          "height": 35
        },
        "outputId": "c34b389a-aad3-4617-eac6-a6802f01289f"
      },
      "source": [
        "name[4:]"
      ],
      "execution_count": 17,
      "outputs": [
        {
          "output_type": "execute_result",
          "data": {
            "application/vnd.google.colaboratory.intrinsic+json": {
              "type": "string"
            },
            "text/plain": [
              "'tius'"
            ]
          },
          "metadata": {
            "tags": []
          },
          "execution_count": 17
        }
      ]
    },
    {
      "cell_type": "code",
      "metadata": {
        "id": "p1Yy_otHaF0l",
        "colab": {
          "base_uri": "https://localhost:8080/",
          "height": 35
        },
        "outputId": "9af7d7bf-7af8-4fe6-da62-bfbd240e3cee"
      },
      "source": [
        "name[-3:]"
      ],
      "execution_count": 18,
      "outputs": [
        {
          "output_type": "execute_result",
          "data": {
            "application/vnd.google.colaboratory.intrinsic+json": {
              "type": "string"
            },
            "text/plain": [
              "'ius'"
            ]
          },
          "metadata": {
            "tags": []
          },
          "execution_count": 18
        }
      ]
    },
    {
      "cell_type": "code",
      "metadata": {
        "id": "iGkG4kpqaH8G"
      },
      "source": [
        "scores = [0, 1, 2, 3, 4, 5, 6, 7, 8, 9, 10, 11, 12, 13, 14, 15, 16, 17, 18, 19]"
      ],
      "execution_count": 19,
      "outputs": []
    },
    {
      "cell_type": "code",
      "metadata": {
        "id": "0qdufFpiajAe",
        "colab": {
          "base_uri": "https://localhost:8080/"
        },
        "outputId": "7e4c8a5b-2282-4499-e6d3-963d168e3ef2"
      },
      "source": [
        "scores[3:15]"
      ],
      "execution_count": 20,
      "outputs": [
        {
          "output_type": "execute_result",
          "data": {
            "text/plain": [
              "[3, 4, 5, 6, 7, 8, 9, 10, 11, 12, 13, 14]"
            ]
          },
          "metadata": {
            "tags": []
          },
          "execution_count": 20
        }
      ]
    },
    {
      "cell_type": "code",
      "metadata": {
        "id": "ZePiINpXazdA",
        "colab": {
          "base_uri": "https://localhost:8080/"
        },
        "outputId": "219e860c-584f-4fdf-b16e-2a87e3d7b5f2"
      },
      "source": [
        "scores[3:15:3]"
      ],
      "execution_count": 21,
      "outputs": [
        {
          "output_type": "execute_result",
          "data": {
            "text/plain": [
              "[3, 6, 9, 12]"
            ]
          },
          "metadata": {
            "tags": []
          },
          "execution_count": 21
        }
      ]
    },
    {
      "cell_type": "code",
      "metadata": {
        "id": "cyyBymEij72v",
        "colab": {
          "base_uri": "https://localhost:8080/"
        },
        "outputId": "4e83deb4-6aea-4afc-8709-5740c54c0d6b"
      },
      "source": [
        "scores[18:0:-4]"
      ],
      "execution_count": 22,
      "outputs": [
        {
          "output_type": "execute_result",
          "data": {
            "text/plain": [
              "[18, 14, 10, 6, 2]"
            ]
          },
          "metadata": {
            "tags": []
          },
          "execution_count": 22
        }
      ]
    },
    {
      "cell_type": "markdown",
      "metadata": {
        "id": "eQZYWoDWjO2S"
      },
      "source": [
        "### Interrogation"
      ]
    },
    {
      "cell_type": "code",
      "metadata": {
        "id": "BcYvkG_YjcMs"
      },
      "source": [
        ""
      ],
      "execution_count": 22,
      "outputs": []
    },
    {
      "cell_type": "code",
      "metadata": {
        "id": "zuUmXsp4dt1Z",
        "colab": {
          "base_uri": "https://localhost:8080/"
        },
        "outputId": "ffe324e5-d708-4e24-dcc7-ce6d67ddc169"
      },
      "source": [
        "len(name)"
      ],
      "execution_count": 23,
      "outputs": [
        {
          "output_type": "execute_result",
          "data": {
            "text/plain": [
              "8"
            ]
          },
          "metadata": {
            "tags": []
          },
          "execution_count": 23
        }
      ]
    },
    {
      "cell_type": "code",
      "metadata": {
        "id": "8vCK0T-E0y22",
        "colab": {
          "base_uri": "https://localhost:8080/",
          "height": 35
        },
        "outputId": "5936da1a-ad1f-4dbd-aec2-604c2cab4e6a"
      },
      "source": [
        "name[2:len(name)]"
      ],
      "execution_count": 24,
      "outputs": [
        {
          "output_type": "execute_result",
          "data": {
            "application/vnd.google.colaboratory.intrinsic+json": {
              "type": "string"
            },
            "text/plain": [
              "'natius'"
            ]
          },
          "metadata": {
            "tags": []
          },
          "execution_count": 24
        }
      ]
    },
    {
      "cell_type": "code",
      "metadata": {
        "id": "TsPy-tvVdhDu",
        "colab": {
          "base_uri": "https://localhost:8080/"
        },
        "outputId": "4ff9c86a-4d04-447c-dfbc-70bfcc78bce1"
      },
      "source": [
        "min(scores)"
      ],
      "execution_count": 25,
      "outputs": [
        {
          "output_type": "execute_result",
          "data": {
            "text/plain": [
              "0"
            ]
          },
          "metadata": {
            "tags": []
          },
          "execution_count": 25
        }
      ]
    },
    {
      "cell_type": "code",
      "metadata": {
        "id": "XlBkaLi6dl1q",
        "colab": {
          "base_uri": "https://localhost:8080/",
          "height": 35
        },
        "outputId": "db7acb58-0151-40b2-f4db-987a3c98b284"
      },
      "source": [
        "max(name)"
      ],
      "execution_count": 26,
      "outputs": [
        {
          "output_type": "execute_result",
          "data": {
            "application/vnd.google.colaboratory.intrinsic+json": {
              "type": "string"
            },
            "text/plain": [
              "'u'"
            ]
          },
          "metadata": {
            "tags": []
          },
          "execution_count": 26
        }
      ]
    },
    {
      "cell_type": "code",
      "metadata": {
        "id": "zPD-iwG0xniX",
        "colab": {
          "base_uri": "https://localhost:8080/",
          "height": 164
        },
        "outputId": "c23f6485-b7e5-4c80-84ed-8781ef105846"
      },
      "source": [
        "max(['Free', 2, 'b'])"
      ],
      "execution_count": 27,
      "outputs": [
        {
          "output_type": "error",
          "ename": "TypeError",
          "evalue": "ignored",
          "traceback": [
            "\u001b[0;31m---------------------------------------------------------------------------\u001b[0m",
            "\u001b[0;31mTypeError\u001b[0m                                 Traceback (most recent call last)",
            "\u001b[0;32m<ipython-input-27-d8babe38f9d9>\u001b[0m in \u001b[0;36m<module>\u001b[0;34m()\u001b[0m\n\u001b[0;32m----> 1\u001b[0;31m \u001b[0mmax\u001b[0m\u001b[0;34m(\u001b[0m\u001b[0;34m[\u001b[0m\u001b[0;34m'Free'\u001b[0m\u001b[0;34m,\u001b[0m \u001b[0;36m2\u001b[0m\u001b[0;34m,\u001b[0m \u001b[0;34m'b'\u001b[0m\u001b[0;34m]\u001b[0m\u001b[0;34m)\u001b[0m\u001b[0;34m\u001b[0m\u001b[0;34m\u001b[0m\u001b[0m\n\u001b[0m",
            "\u001b[0;31mTypeError\u001b[0m: '>' not supported between instances of 'int' and 'str'"
          ]
        }
      ]
    },
    {
      "cell_type": "code",
      "metadata": {
        "id": "dBnI6DRudq6g",
        "colab": {
          "base_uri": "https://localhost:8080/"
        },
        "outputId": "b9aae78c-9346-4462-cb0f-18cdfd6e46c6"
      },
      "source": [
        "name.count('a')"
      ],
      "execution_count": 28,
      "outputs": [
        {
          "output_type": "execute_result",
          "data": {
            "text/plain": [
              "1"
            ]
          },
          "metadata": {
            "tags": []
          },
          "execution_count": 28
        }
      ]
    },
    {
      "cell_type": "code",
      "metadata": {
        "id": "GKl4tExqd8i0",
        "colab": {
          "base_uri": "https://localhost:8080/"
        },
        "outputId": "47185635-7369-4feb-c2b8-305582464a1c"
      },
      "source": [
        "name.index('s')"
      ],
      "execution_count": 29,
      "outputs": [
        {
          "output_type": "execute_result",
          "data": {
            "text/plain": [
              "7"
            ]
          },
          "metadata": {
            "tags": []
          },
          "execution_count": 29
        }
      ]
    },
    {
      "cell_type": "code",
      "metadata": {
        "id": "fjezii8nd-x9",
        "colab": {
          "base_uri": "https://localhost:8080/",
          "height": 35
        },
        "outputId": "ee410190-c5e0-4090-dd33-b8c9f2667023"
      },
      "source": [
        "name[:name.index('u')]"
      ],
      "execution_count": 30,
      "outputs": [
        {
          "output_type": "execute_result",
          "data": {
            "application/vnd.google.colaboratory.intrinsic+json": {
              "type": "string"
            },
            "text/plain": [
              "'Ignati'"
            ]
          },
          "metadata": {
            "tags": []
          },
          "execution_count": 30
        }
      ]
    },
    {
      "cell_type": "code",
      "metadata": {
        "id": "5qVOIY3DeFAW",
        "colab": {
          "base_uri": "https://localhost:8080/"
        },
        "outputId": "9c08ac4d-6d5b-4a1b-d86e-c1af7738f728"
      },
      "source": [
        "len(name)"
      ],
      "execution_count": 31,
      "outputs": [
        {
          "output_type": "execute_result",
          "data": {
            "text/plain": [
              "8"
            ]
          },
          "metadata": {
            "tags": []
          },
          "execution_count": 31
        }
      ]
    },
    {
      "cell_type": "code",
      "metadata": {
        "id": "jNJBq_kGeHrN",
        "colab": {
          "base_uri": "https://localhost:8080/",
          "height": 35
        },
        "outputId": "c775d256-7b05-4c5a-82c0-b3191af78fce"
      },
      "source": [
        "\"prefix\" + \"-\" + \"postfix\""
      ],
      "execution_count": 32,
      "outputs": [
        {
          "output_type": "execute_result",
          "data": {
            "application/vnd.google.colaboratory.intrinsic+json": {
              "type": "string"
            },
            "text/plain": [
              "'prefix-postfix'"
            ]
          },
          "metadata": {
            "tags": []
          },
          "execution_count": 32
        }
      ]
    },
    {
      "cell_type": "code",
      "metadata": {
        "id": "8n6sGpMgePKc",
        "colab": {
          "base_uri": "https://localhost:8080/"
        },
        "outputId": "fb690f6b-e26d-48b2-ca34-24c275ab13b1"
      },
      "source": [
        "[0,2] * 4\n"
      ],
      "execution_count": 33,
      "outputs": [
        {
          "output_type": "execute_result",
          "data": {
            "text/plain": [
              "[0, 2, 0, 2, 0, 2, 0, 2]"
            ]
          },
          "metadata": {
            "tags": []
          },
          "execution_count": 33
        }
      ]
    },
    {
      "cell_type": "code",
      "metadata": {
        "id": "s3Cujc1mvRml",
        "colab": {
          "base_uri": "https://localhost:8080/"
        },
        "outputId": "04b74a0d-cc9c-4d29-d9a0-70408f5e2e2b"
      },
      "source": [
        "[1,2] + [3,4]"
      ],
      "execution_count": 34,
      "outputs": [
        {
          "output_type": "execute_result",
          "data": {
            "text/plain": [
              "[1, 2, 3, 4]"
            ]
          },
          "metadata": {
            "tags": []
          },
          "execution_count": 34
        }
      ]
    },
    {
      "cell_type": "code",
      "metadata": {
        "id": "Xep7lCC74zb4",
        "colab": {
          "base_uri": "https://localhost:8080/"
        },
        "outputId": "c5b6f8da-548d-4d4c-fcca-388a8d26c725"
      },
      "source": [
        "num_participants = 10\n",
        "scores = [0] * num_participants\n",
        "scores"
      ],
      "execution_count": 35,
      "outputs": [
        {
          "output_type": "execute_result",
          "data": {
            "text/plain": [
              "[0, 0, 0, 0, 0, 0, 0, 0, 0, 0]"
            ]
          },
          "metadata": {
            "tags": []
          },
          "execution_count": 35
        }
      ]
    },
    {
      "cell_type": "code",
      "metadata": {
        "id": "QkAL7s_5Shr7"
      },
      "source": [
        ""
      ],
      "execution_count": 35,
      "outputs": []
    },
    {
      "cell_type": "markdown",
      "metadata": {
        "id": "VwCAOxsQTKrV"
      },
      "source": [
        "## Lists and Tuples"
      ]
    },
    {
      "cell_type": "markdown",
      "metadata": {
        "id": "jAmOE3OiTXLd"
      },
      "source": [
        "### Creation"
      ]
    },
    {
      "cell_type": "code",
      "metadata": {
        "id": "fFoDxBLriuYy",
        "colab": {
          "base_uri": "https://localhost:8080/"
        },
        "outputId": "36a8ccae-89ec-44f4-c1f5-9127faf49b58"
      },
      "source": [
        "tuple()"
      ],
      "execution_count": 36,
      "outputs": [
        {
          "output_type": "execute_result",
          "data": {
            "text/plain": [
              "()"
            ]
          },
          "metadata": {
            "tags": []
          },
          "execution_count": 36
        }
      ]
    },
    {
      "cell_type": "code",
      "metadata": {
        "id": "SAgYheSKiv51",
        "colab": {
          "base_uri": "https://localhost:8080/"
        },
        "outputId": "baaead72-cbf8-472f-db3f-e0469082c793"
      },
      "source": [
        "list()"
      ],
      "execution_count": 37,
      "outputs": [
        {
          "output_type": "execute_result",
          "data": {
            "text/plain": [
              "[]"
            ]
          },
          "metadata": {
            "tags": []
          },
          "execution_count": 37
        }
      ]
    },
    {
      "cell_type": "code",
      "metadata": {
        "id": "QmFuWW7cixdr",
        "colab": {
          "base_uri": "https://localhost:8080/"
        },
        "outputId": "c849eeff-0ddb-4adf-efba-39ff966c8858"
      },
      "source": [
        "tup = (1,2)\n",
        "tup"
      ],
      "execution_count": 38,
      "outputs": [
        {
          "output_type": "execute_result",
          "data": {
            "text/plain": [
              "(1, 2)"
            ]
          },
          "metadata": {
            "tags": []
          },
          "execution_count": 38
        }
      ]
    },
    {
      "cell_type": "code",
      "metadata": {
        "id": "yHPBtTvNjx9r",
        "colab": {
          "base_uri": "https://localhost:8080/"
        },
        "outputId": "956e4dcb-1837-4dbe-d359-02a98cbe06a7"
      },
      "source": [
        "some_list = [1,2,3]\n",
        "some_list     "
      ],
      "execution_count": 39,
      "outputs": [
        {
          "output_type": "execute_result",
          "data": {
            "text/plain": [
              "[1, 2, 3]"
            ]
          },
          "metadata": {
            "tags": []
          },
          "execution_count": 39
        }
      ]
    },
    {
      "cell_type": "code",
      "metadata": {
        "id": "McAFD5QKkf1E",
        "colab": {
          "base_uri": "https://localhost:8080/"
        },
        "outputId": "1e8e0520-6c0b-491b-f803-03475c03302c"
      },
      "source": [
        "empty_tuple = (1,)\n",
        "empty_tuple "
      ],
      "execution_count": 40,
      "outputs": [
        {
          "output_type": "execute_result",
          "data": {
            "text/plain": [
              "(1,)"
            ]
          },
          "metadata": {
            "tags": []
          },
          "execution_count": 40
        }
      ]
    },
    {
      "cell_type": "code",
      "metadata": {
        "id": "s_DagIVzk7-y",
        "colab": {
          "base_uri": "https://localhost:8080/"
        },
        "outputId": "570a42dc-9268-457a-e7fb-63ccca0df174"
      },
      "source": [
        "tup = 1,2,\n",
        "tup"
      ],
      "execution_count": 41,
      "outputs": [
        {
          "output_type": "execute_result",
          "data": {
            "text/plain": [
              "(1, 2)"
            ]
          },
          "metadata": {
            "tags": []
          },
          "execution_count": 41
        }
      ]
    },
    {
      "cell_type": "code",
      "metadata": {
        "id": "zxTkKUEMkiXy",
        "colab": {
          "base_uri": "https://localhost:8080/"
        },
        "outputId": "20b911b0-03db-4561-d3a7-e4240e12fc8f"
      },
      "source": [
        "name = \"Ignatius\"\n",
        "letters = list(name)\n",
        "letters"
      ],
      "execution_count": 42,
      "outputs": [
        {
          "output_type": "execute_result",
          "data": {
            "text/plain": [
              "['I', 'g', 'n', 'a', 't', 'i', 'u', 's']"
            ]
          },
          "metadata": {
            "tags": []
          },
          "execution_count": 42
        }
      ]
    },
    {
      "cell_type": "code",
      "metadata": {
        "id": "S6-OIAsgU7T0",
        "colab": {
          "base_uri": "https://localhost:8080/"
        },
        "outputId": "550c54d7-457c-4a98-96d0-1f6aee76d7a1"
      },
      "source": [
        "tuple(name)"
      ],
      "execution_count": 43,
      "outputs": [
        {
          "output_type": "execute_result",
          "data": {
            "text/plain": [
              "('I', 'g', 'n', 'a', 't', 'i', 'u', 's')"
            ]
          },
          "metadata": {
            "tags": []
          },
          "execution_count": 43
        }
      ]
    },
    {
      "cell_type": "markdown",
      "metadata": {
        "id": "nC6ryrg0TcCi"
      },
      "source": [
        "### Adding and Removing Items"
      ]
    },
    {
      "cell_type": "code",
      "metadata": {
        "id": "yaVS6orUlTf1",
        "colab": {
          "base_uri": "https://localhost:8080/"
        },
        "outputId": "809bfd0b-1d3f-411d-d345-e9e861b7d18d"
      },
      "source": [
        "flavours = ['Chocolate', 'Vanilla']\n",
        "flavours"
      ],
      "execution_count": 44,
      "outputs": [
        {
          "output_type": "execute_result",
          "data": {
            "text/plain": [
              "['Chocolate', 'Vanilla']"
            ]
          },
          "metadata": {
            "tags": []
          },
          "execution_count": 44
        }
      ]
    },
    {
      "cell_type": "code",
      "metadata": {
        "id": "SR5O0okbl3hg",
        "colab": {
          "base_uri": "https://localhost:8080/"
        },
        "outputId": "471bf20b-acbc-494c-97fe-2b8d6ff8745f"
      },
      "source": [
        "flavours.append('SuperFudgeNutPretzelTwist')\n",
        "flavours"
      ],
      "execution_count": 45,
      "outputs": [
        {
          "output_type": "execute_result",
          "data": {
            "text/plain": [
              "['Chocolate', 'Vanilla', 'SuperFudgeNutPretzelTwist']"
            ]
          },
          "metadata": {
            "tags": []
          },
          "execution_count": 45
        }
      ]
    },
    {
      "cell_type": "code",
      "metadata": {
        "id": "X_oXTIX3A3T2",
        "colab": {
          "base_uri": "https://localhost:8080/"
        },
        "outputId": "ad924f1d-76ce-45fe-daa3-8b95f49a3f56"
      },
      "source": [
        "flavours.insert(0,\"sourMash\")\n",
        "flavours"
      ],
      "execution_count": 46,
      "outputs": [
        {
          "output_type": "execute_result",
          "data": {
            "text/plain": [
              "['sourMash', 'Chocolate', 'Vanilla', 'SuperFudgeNutPretzelTwist']"
            ]
          },
          "metadata": {
            "tags": []
          },
          "execution_count": 46
        }
      ]
    },
    {
      "cell_type": "code",
      "metadata": {
        "id": "K8c3818al_kE",
        "colab": {
          "base_uri": "https://localhost:8080/",
          "height": 35
        },
        "outputId": "02f817fe-4f60-4753-bf7f-459675358590"
      },
      "source": [
        "flavours.pop()"
      ],
      "execution_count": 47,
      "outputs": [
        {
          "output_type": "execute_result",
          "data": {
            "application/vnd.google.colaboratory.intrinsic+json": {
              "type": "string"
            },
            "text/plain": [
              "'SuperFudgeNutPretzelTwist'"
            ]
          },
          "metadata": {
            "tags": []
          },
          "execution_count": 47
        }
      ]
    },
    {
      "cell_type": "code",
      "metadata": {
        "id": "SnLxDoawVigB",
        "colab": {
          "base_uri": "https://localhost:8080/",
          "height": 35
        },
        "outputId": "f50e6e29-c3cd-401f-d05f-e1a10e4493f8"
      },
      "source": [
        "flavours.pop(0)"
      ],
      "execution_count": 48,
      "outputs": [
        {
          "output_type": "execute_result",
          "data": {
            "application/vnd.google.colaboratory.intrinsic+json": {
              "type": "string"
            },
            "text/plain": [
              "'sourMash'"
            ]
          },
          "metadata": {
            "tags": []
          },
          "execution_count": 48
        }
      ]
    },
    {
      "cell_type": "code",
      "metadata": {
        "id": "klnG2WhGBSKo",
        "colab": {
          "base_uri": "https://localhost:8080/"
        },
        "outputId": "c21c58df-3dfa-41ce-df30-e635b82b7f67"
      },
      "source": [
        "flavours"
      ],
      "execution_count": 49,
      "outputs": [
        {
          "output_type": "execute_result",
          "data": {
            "text/plain": [
              "['Chocolate', 'Vanilla']"
            ]
          },
          "metadata": {
            "tags": []
          },
          "execution_count": 49
        }
      ]
    },
    {
      "cell_type": "code",
      "metadata": {
        "id": "2j_LXigImL1Z",
        "colab": {
          "base_uri": "https://localhost:8080/"
        },
        "outputId": "229feb62-d515-49ce-b5b6-a653dc1a9a7c"
      },
      "source": [
        "desserts = [ 'Cookies', 'Water Melon']\n",
        "desserts"
      ],
      "execution_count": 50,
      "outputs": [
        {
          "output_type": "execute_result",
          "data": {
            "text/plain": [
              "['Cookies', 'Water Melon']"
            ]
          },
          "metadata": {
            "tags": []
          },
          "execution_count": 50
        }
      ]
    },
    {
      "cell_type": "code",
      "metadata": {
        "id": "VBlN6OyAlBkK",
        "colab": {
          "base_uri": "https://localhost:8080/"
        },
        "outputId": "c9e94a14-ac59-486b-af23-5d50b9e96a73"
      },
      "source": [
        "desserts.extend(flavours)\n",
        "desserts"
      ],
      "execution_count": 51,
      "outputs": [
        {
          "output_type": "execute_result",
          "data": {
            "text/plain": [
              "['Cookies', 'Water Melon', 'Chocolate', 'Vanilla']"
            ]
          },
          "metadata": {
            "tags": []
          },
          "execution_count": 51
        }
      ]
    },
    {
      "cell_type": "code",
      "metadata": {
        "id": "_3D_FWP2Ubm_",
        "colab": {
          "base_uri": "https://localhost:8080/"
        },
        "outputId": "169be4b7-595b-48ee-a20e-407b62585ca4"
      },
      "source": [
        "lists = [[]] * 4\n",
        "lists"
      ],
      "execution_count": 52,
      "outputs": [
        {
          "output_type": "execute_result",
          "data": {
            "text/plain": [
              "[[], [], [], []]"
            ]
          },
          "metadata": {
            "tags": []
          },
          "execution_count": 52
        }
      ]
    },
    {
      "cell_type": "code",
      "metadata": {
        "id": "9_TLQQMzUnxH",
        "colab": {
          "base_uri": "https://localhost:8080/"
        },
        "outputId": "2c673e15-5912-43f6-c653-e3c1b55fad1f"
      },
      "source": [
        "lists[-1].append(4)\n",
        "lists"
      ],
      "execution_count": 53,
      "outputs": [
        {
          "output_type": "execute_result",
          "data": {
            "text/plain": [
              "[[4], [4], [4], [4]]"
            ]
          },
          "metadata": {
            "tags": []
          },
          "execution_count": 53
        }
      ]
    },
    {
      "cell_type": "code",
      "metadata": {
        "id": "RQn8KHCMUue9",
        "colab": {
          "base_uri": "https://localhost:8080/"
        },
        "outputId": "e767341c-3188-4496-fdee-a76fe5130e20"
      },
      "source": [
        "lists = [[] for _ in range(4)]\n",
        "lists[-1].append(4)\n",
        "lists"
      ],
      "execution_count": 54,
      "outputs": [
        {
          "output_type": "execute_result",
          "data": {
            "text/plain": [
              "[[], [], [], [4]]"
            ]
          },
          "metadata": {
            "tags": []
          },
          "execution_count": 54
        }
      ]
    },
    {
      "cell_type": "markdown",
      "metadata": {
        "id": "_9eZiE4GThm7"
      },
      "source": [
        "### Unpacking"
      ]
    },
    {
      "cell_type": "code",
      "metadata": {
        "id": "OKGZlgd6nj03"
      },
      "source": [
        "a, b, c = (1,3,4)"
      ],
      "execution_count": 55,
      "outputs": []
    },
    {
      "cell_type": "code",
      "metadata": {
        "id": "KzWVJlExnsYS",
        "colab": {
          "base_uri": "https://localhost:8080/"
        },
        "outputId": "1749e03d-d892-4319-8780-e0da0257d446"
      },
      "source": [
        "a"
      ],
      "execution_count": 56,
      "outputs": [
        {
          "output_type": "execute_result",
          "data": {
            "text/plain": [
              "1"
            ]
          },
          "metadata": {
            "tags": []
          },
          "execution_count": 56
        }
      ]
    },
    {
      "cell_type": "code",
      "metadata": {
        "id": "zSrq7kSXns4K",
        "colab": {
          "base_uri": "https://localhost:8080/"
        },
        "outputId": "1b875b65-b6d2-4895-f32d-b7644dd786f9"
      },
      "source": [
        "b"
      ],
      "execution_count": 57,
      "outputs": [
        {
          "output_type": "execute_result",
          "data": {
            "text/plain": [
              "3"
            ]
          },
          "metadata": {
            "tags": []
          },
          "execution_count": 57
        }
      ]
    },
    {
      "cell_type": "code",
      "metadata": {
        "id": "I_UufbuHntfR",
        "colab": {
          "base_uri": "https://localhost:8080/"
        },
        "outputId": "0a3b8528-ba56-4a62-a375-50c0217449a9"
      },
      "source": [
        "c"
      ],
      "execution_count": 58,
      "outputs": [
        {
          "output_type": "execute_result",
          "data": {
            "text/plain": [
              "4"
            ]
          },
          "metadata": {
            "tags": []
          },
          "execution_count": 58
        }
      ]
    },
    {
      "cell_type": "code",
      "metadata": {
        "id": "33bjvfZhn6mB"
      },
      "source": [
        "*first, middle, last = ['horse', 'carrot', 'swan', 'burrito', 'fly']"
      ],
      "execution_count": 59,
      "outputs": []
    },
    {
      "cell_type": "code",
      "metadata": {
        "id": "U6AMimopB9Sf",
        "colab": {
          "base_uri": "https://localhost:8080/"
        },
        "outputId": "8459bbd3-2463-4a93-e3f8-db25a9821ffa"
      },
      "source": [
        "first"
      ],
      "execution_count": 60,
      "outputs": [
        {
          "output_type": "execute_result",
          "data": {
            "text/plain": [
              "['horse', 'carrot', 'swan']"
            ]
          },
          "metadata": {
            "tags": []
          },
          "execution_count": 60
        }
      ]
    },
    {
      "cell_type": "code",
      "metadata": {
        "id": "D_mFzIWWB_q4",
        "colab": {
          "base_uri": "https://localhost:8080/",
          "height": 35
        },
        "outputId": "4ba8a828-24f2-46e0-b046-ecae841d4ace"
      },
      "source": [
        "last"
      ],
      "execution_count": 61,
      "outputs": [
        {
          "output_type": "execute_result",
          "data": {
            "application/vnd.google.colaboratory.intrinsic+json": {
              "type": "string"
            },
            "text/plain": [
              "'fly'"
            ]
          },
          "metadata": {
            "tags": []
          },
          "execution_count": 61
        }
      ]
    },
    {
      "cell_type": "code",
      "metadata": {
        "id": "Q8SqsEAXCBzl",
        "colab": {
          "base_uri": "https://localhost:8080/",
          "height": 35
        },
        "outputId": "8d0012b3-cb00-4d84-e6ce-44b5d3ce9d2e"
      },
      "source": [
        "middle"
      ],
      "execution_count": 62,
      "outputs": [
        {
          "output_type": "execute_result",
          "data": {
            "application/vnd.google.colaboratory.intrinsic+json": {
              "type": "string"
            },
            "text/plain": [
              "'burrito'"
            ]
          },
          "metadata": {
            "tags": []
          },
          "execution_count": 62
        }
      ]
    },
    {
      "cell_type": "code",
      "metadata": {
        "id": "EOUYPZ5kIIKE"
      },
      "source": [
        "name = \"Ignatius\""
      ],
      "execution_count": 63,
      "outputs": []
    },
    {
      "cell_type": "code",
      "metadata": {
        "id": "C4HTBlyqfBIi"
      },
      "source": [
        "letters = list(name)"
      ],
      "execution_count": 64,
      "outputs": []
    },
    {
      "cell_type": "code",
      "metadata": {
        "id": "LSNaSBgjfEuR",
        "colab": {
          "base_uri": "https://localhost:8080/"
        },
        "outputId": "6a67ab36-c4c5-4141-ecfb-0dcbae86afad"
      },
      "source": [
        "letters"
      ],
      "execution_count": 65,
      "outputs": [
        {
          "output_type": "execute_result",
          "data": {
            "text/plain": [
              "['I', 'g', 'n', 'a', 't', 'i', 'u', 's']"
            ]
          },
          "metadata": {
            "tags": []
          },
          "execution_count": 65
        }
      ]
    },
    {
      "cell_type": "code",
      "metadata": {
        "id": "z-NLTzXdIOzC"
      },
      "source": [
        "letters.sort()"
      ],
      "execution_count": 66,
      "outputs": []
    },
    {
      "cell_type": "code",
      "metadata": {
        "id": "gNkEIjfnIWqX",
        "colab": {
          "base_uri": "https://localhost:8080/"
        },
        "outputId": "a51cae78-ca78-4817-914d-534ba1607275"
      },
      "source": [
        "letters"
      ],
      "execution_count": 67,
      "outputs": [
        {
          "output_type": "execute_result",
          "data": {
            "text/plain": [
              "['I', 'a', 'g', 'i', 'n', 's', 't', 'u']"
            ]
          },
          "metadata": {
            "tags": []
          },
          "execution_count": 67
        }
      ]
    },
    {
      "cell_type": "code",
      "metadata": {
        "id": "xTiDaLS_IZH4",
        "colab": {
          "base_uri": "https://localhost:8080/"
        },
        "outputId": "f9b862ea-7a8a-4714-e6f4-17acb6648d05"
      },
      "source": [
        "letters.reverse()\n",
        "letters"
      ],
      "execution_count": 68,
      "outputs": [
        {
          "output_type": "execute_result",
          "data": {
            "text/plain": [
              "['u', 't', 's', 'n', 'i', 'g', 'a', 'I']"
            ]
          },
          "metadata": {
            "tags": []
          },
          "execution_count": 68
        }
      ]
    },
    {
      "cell_type": "code",
      "metadata": {
        "id": "t6iRipnvX1t3"
      },
      "source": [
        ""
      ],
      "execution_count": 68,
      "outputs": []
    },
    {
      "cell_type": "markdown",
      "metadata": {
        "id": "k6Pr90dQ5-3K"
      },
      "source": [
        "## Strings"
      ]
    },
    {
      "cell_type": "code",
      "metadata": {
        "id": "1lgW3xygwZG7",
        "colab": {
          "base_uri": "https://localhost:8080/",
          "height": 35
        },
        "outputId": "e287f775-5054-4444-dda0-ac478fa7d3c3"
      },
      "source": [
        "'Here is a string'"
      ],
      "execution_count": 69,
      "outputs": [
        {
          "output_type": "execute_result",
          "data": {
            "application/vnd.google.colaboratory.intrinsic+json": {
              "type": "string"
            },
            "text/plain": [
              "'Here is a string'"
            ]
          },
          "metadata": {
            "tags": []
          },
          "execution_count": 69
        }
      ]
    },
    {
      "cell_type": "code",
      "metadata": {
        "id": "OFKfbG4_wd0k",
        "colab": {
          "base_uri": "https://localhost:8080/"
        },
        "outputId": "13d8db6f-08ad-4fa6-b4fe-01ac1070cecb"
      },
      "source": [
        "\"Here is a string\" == 'Here is a string'"
      ],
      "execution_count": 70,
      "outputs": [
        {
          "output_type": "execute_result",
          "data": {
            "text/plain": [
              "True"
            ]
          },
          "metadata": {
            "tags": []
          },
          "execution_count": 70
        }
      ]
    },
    {
      "cell_type": "code",
      "metadata": {
        "id": "tUEs60Xa7idu",
        "colab": {
          "base_uri": "https://localhost:8080/",
          "height": 35
        },
        "outputId": "e477b75d-521c-4ed1-9bd4-03546313d1f0"
      },
      "source": [
        "'Here \"is\" a string'"
      ],
      "execution_count": 71,
      "outputs": [
        {
          "output_type": "execute_result",
          "data": {
            "application/vnd.google.colaboratory.intrinsic+json": {
              "type": "string"
            },
            "text/plain": [
              "'Here \"is\" a string'"
            ]
          },
          "metadata": {
            "tags": []
          },
          "execution_count": 71
        }
      ]
    },
    {
      "cell_type": "code",
      "metadata": {
        "id": "spMcAUfWTxB7",
        "colab": {
          "base_uri": "https://localhost:8080/",
          "height": 52
        },
        "outputId": "2efef44a-aa8b-4125-9b36-7c6cb3cff58b"
      },
      "source": [
        "a_very_large_phrase = \"\"\"\n",
        "Wikipedia is hosted by the Wikimedia Foundation, \n",
        "a non-profit organization that also hosts a range of other projects.\n",
        "\"\"\"\n",
        "\n",
        "a_very_large_phrase"
      ],
      "execution_count": 72,
      "outputs": [
        {
          "output_type": "execute_result",
          "data": {
            "application/vnd.google.colaboratory.intrinsic+json": {
              "type": "string"
            },
            "text/plain": [
              "'\\nWikipedia is hosted by the Wikimedia Foundation, \\na non-profit organization that also hosts a range of other projects.\\n'"
            ]
          },
          "metadata": {
            "tags": []
          },
          "execution_count": 72
        }
      ]
    },
    {
      "cell_type": "code",
      "metadata": {
        "id": "vYjwxFnBS9m1",
        "colab": {
          "base_uri": "https://localhost:8080/"
        },
        "outputId": "3206a467-b68d-4c4d-9bae-735994d44451"
      },
      "source": [
        "windows_path = \"c:\\row\\the\\boat\\now\"\n",
        "print(windows_path)"
      ],
      "execution_count": 73,
      "outputs": [
        {
          "output_type": "stream",
          "text": [
            "c:\row\the\boat\n",
            "ow\n"
          ],
          "name": "stdout"
        }
      ]
    },
    {
      "cell_type": "code",
      "metadata": {
        "id": "3-pEpRp8TGlf",
        "colab": {
          "base_uri": "https://localhost:8080/"
        },
        "outputId": "1e75e075-2bff-4c66-a7ba-050fe12cd1b6"
      },
      "source": [
        "windows_path = r\"c:\\row\\the\\boat\\now\"\n",
        "print(windows_path)"
      ],
      "execution_count": 74,
      "outputs": [
        {
          "output_type": "stream",
          "text": [
            "c:\\row\\the\\boat\\now\n"
          ],
          "name": "stdout"
        }
      ]
    },
    {
      "cell_type": "code",
      "metadata": {
        "id": "lV8w3ltf6DO8"
      },
      "source": [
        ""
      ],
      "execution_count": 74,
      "outputs": []
    },
    {
      "cell_type": "code",
      "metadata": {
        "id": "1ZnmUYK8fI9V",
        "colab": {
          "base_uri": "https://localhost:8080/",
          "height": 35
        },
        "outputId": "034ae75c-48fc-4503-bf12-2c117daf7941"
      },
      "source": [
        "captain = \"Patrick Tayluer\"\n",
        "\n",
        "captain"
      ],
      "execution_count": 75,
      "outputs": [
        {
          "output_type": "execute_result",
          "data": {
            "application/vnd.google.colaboratory.intrinsic+json": {
              "type": "string"
            },
            "text/plain": [
              "'Patrick Tayluer'"
            ]
          },
          "metadata": {
            "tags": []
          },
          "execution_count": 75
        }
      ]
    },
    {
      "cell_type": "code",
      "metadata": {
        "id": "zpgza2QByRP1",
        "colab": {
          "base_uri": "https://localhost:8080/",
          "height": 35
        },
        "outputId": "c84bfc92-34a7-489f-dc28-3b7726035cc5"
      },
      "source": [
        "captain.capitalize()"
      ],
      "execution_count": 76,
      "outputs": [
        {
          "output_type": "execute_result",
          "data": {
            "application/vnd.google.colaboratory.intrinsic+json": {
              "type": "string"
            },
            "text/plain": [
              "'Patrick tayluer'"
            ]
          },
          "metadata": {
            "tags": []
          },
          "execution_count": 76
        }
      ]
    },
    {
      "cell_type": "code",
      "metadata": {
        "id": "sPgdoiu-tWrp",
        "colab": {
          "base_uri": "https://localhost:8080/",
          "height": 35
        },
        "outputId": "1a21cbd6-7d98-4df7-c43c-f8a099e6c062"
      },
      "source": [
        "captain.lower()"
      ],
      "execution_count": 77,
      "outputs": [
        {
          "output_type": "execute_result",
          "data": {
            "application/vnd.google.colaboratory.intrinsic+json": {
              "type": "string"
            },
            "text/plain": [
              "'patrick tayluer'"
            ]
          },
          "metadata": {
            "tags": []
          },
          "execution_count": 77
        }
      ]
    },
    {
      "cell_type": "code",
      "metadata": {
        "id": "-K13_7fmtxjw",
        "colab": {
          "base_uri": "https://localhost:8080/",
          "height": 35
        },
        "outputId": "e896fbb4-e5b3-46d9-f2c2-b98490aaba16"
      },
      "source": [
        "captain.upper()"
      ],
      "execution_count": 78,
      "outputs": [
        {
          "output_type": "execute_result",
          "data": {
            "application/vnd.google.colaboratory.intrinsic+json": {
              "type": "string"
            },
            "text/plain": [
              "'PATRICK TAYLUER'"
            ]
          },
          "metadata": {
            "tags": []
          },
          "execution_count": 78
        }
      ]
    },
    {
      "cell_type": "code",
      "metadata": {
        "id": "6jlry9S4tcEj",
        "colab": {
          "base_uri": "https://localhost:8080/",
          "height": 35
        },
        "outputId": "5d372344-4b7f-4266-e6f7-1a09ae75d42f"
      },
      "source": [
        "captain.swapcase()"
      ],
      "execution_count": 79,
      "outputs": [
        {
          "output_type": "execute_result",
          "data": {
            "application/vnd.google.colaboratory.intrinsic+json": {
              "type": "string"
            },
            "text/plain": [
              "'pATRICK tAYLUER'"
            ]
          },
          "metadata": {
            "tags": []
          },
          "execution_count": 79
        }
      ]
    },
    {
      "cell_type": "code",
      "metadata": {
        "id": "IoCZQxuutvYA",
        "colab": {
          "base_uri": "https://localhost:8080/",
          "height": 35
        },
        "outputId": "7a4c44b3-a6c8-487b-859b-fb462aad193b"
      },
      "source": [
        "captain = 'patrick tayluer'\n",
        "captain.title()"
      ],
      "execution_count": 80,
      "outputs": [
        {
          "output_type": "execute_result",
          "data": {
            "application/vnd.google.colaboratory.intrinsic+json": {
              "type": "string"
            },
            "text/plain": [
              "'Patrick Tayluer'"
            ]
          },
          "metadata": {
            "tags": []
          },
          "execution_count": 80
        }
      ]
    },
    {
      "cell_type": "code",
      "metadata": {
        "id": "t9x7_Cmvx-ta"
      },
      "source": [
        ""
      ],
      "execution_count": 80,
      "outputs": []
    },
    {
      "cell_type": "markdown",
      "metadata": {
        "id": "8CjgNkacldql"
      },
      "source": [
        "##### Interrogation"
      ]
    },
    {
      "cell_type": "code",
      "metadata": {
        "id": "TjQozbkOlnmI"
      },
      "source": [
        "river = 'Mississippi'\n"
      ],
      "execution_count": 81,
      "outputs": []
    },
    {
      "cell_type": "code",
      "metadata": {
        "id": "JiicVyEgmEZK",
        "colab": {
          "base_uri": "https://localhost:8080/"
        },
        "outputId": "176f94b5-1105-4b6a-de1f-f773a1be0b31"
      },
      "source": [
        "river.index('pp')"
      ],
      "execution_count": 82,
      "outputs": [
        {
          "output_type": "execute_result",
          "data": {
            "text/plain": [
              "8"
            ]
          },
          "metadata": {
            "tags": []
          },
          "execution_count": 82
        }
      ]
    },
    {
      "cell_type": "code",
      "metadata": {
        "id": "H3RK0w0NmZwg",
        "colab": {
          "base_uri": "https://localhost:8080/",
          "height": 164
        },
        "outputId": "0c29535f-c5a5-4c21-8c73-f27bd02de06a"
      },
      "source": [
        "river.index('r')"
      ],
      "execution_count": 83,
      "outputs": [
        {
          "output_type": "error",
          "ename": "ValueError",
          "evalue": "ignored",
          "traceback": [
            "\u001b[0;31m---------------------------------------------------------------------------\u001b[0m",
            "\u001b[0;31mValueError\u001b[0m                                Traceback (most recent call last)",
            "\u001b[0;32m<ipython-input-83-fcd85454de2b>\u001b[0m in \u001b[0;36m<module>\u001b[0;34m()\u001b[0m\n\u001b[0;32m----> 1\u001b[0;31m \u001b[0mriver\u001b[0m\u001b[0;34m.\u001b[0m\u001b[0mindex\u001b[0m\u001b[0;34m(\u001b[0m\u001b[0;34m'r'\u001b[0m\u001b[0;34m)\u001b[0m\u001b[0;34m\u001b[0m\u001b[0;34m\u001b[0m\u001b[0m\n\u001b[0m",
            "\u001b[0;31mValueError\u001b[0m: substring not found"
          ]
        }
      ]
    },
    {
      "cell_type": "code",
      "metadata": {
        "id": "YFW7wFi5mzRw",
        "colab": {
          "base_uri": "https://localhost:8080/"
        },
        "outputId": "c7a527c9-b744-4d40-e503-251d7590e85c"
      },
      "source": [
        "river.find('r')"
      ],
      "execution_count": 84,
      "outputs": [
        {
          "output_type": "execute_result",
          "data": {
            "text/plain": [
              "-1"
            ]
          },
          "metadata": {
            "tags": []
          },
          "execution_count": 84
        }
      ]
    },
    {
      "cell_type": "code",
      "metadata": {
        "id": "qk70XczYm1x4",
        "colab": {
          "base_uri": "https://localhost:8080/"
        },
        "outputId": "09ca0467-ff8d-4d20-986e-d10ae22806ad"
      },
      "source": [
        "river.startswith('Mis')"
      ],
      "execution_count": 85,
      "outputs": [
        {
          "output_type": "execute_result",
          "data": {
            "text/plain": [
              "True"
            ]
          },
          "metadata": {
            "tags": []
          },
          "execution_count": 85
        }
      ]
    },
    {
      "cell_type": "code",
      "metadata": {
        "id": "BOh9jjnwm7GQ",
        "colab": {
          "base_uri": "https://localhost:8080/"
        },
        "outputId": "b77909de-a09c-4a70-cf7e-0dd330e686ad"
      },
      "source": [
        "river.endswith('pi')"
      ],
      "execution_count": 86,
      "outputs": [
        {
          "output_type": "execute_result",
          "data": {
            "text/plain": [
              "True"
            ]
          },
          "metadata": {
            "tags": []
          },
          "execution_count": 86
        }
      ]
    },
    {
      "cell_type": "markdown",
      "metadata": {
        "id": "NHcQp9irnPdB"
      },
      "source": [
        "##### Content Type"
      ]
    },
    {
      "cell_type": "code",
      "metadata": {
        "id": "UJcGL9BgnSzJ",
        "colab": {
          "base_uri": "https://localhost:8080/"
        },
        "outputId": "e88f56f3-9e07-438f-a2aa-bc4fef51896f"
      },
      "source": [
        "'abc123'.isalpha()"
      ],
      "execution_count": 87,
      "outputs": [
        {
          "output_type": "execute_result",
          "data": {
            "text/plain": [
              "False"
            ]
          },
          "metadata": {
            "tags": []
          },
          "execution_count": 87
        }
      ]
    },
    {
      "cell_type": "code",
      "metadata": {
        "id": "lEEfmohingDN",
        "colab": {
          "base_uri": "https://localhost:8080/"
        },
        "outputId": "90b54469-ab9e-4bcf-d1b9-21ae336f662e"
      },
      "source": [
        "'abc123'.isalnum()"
      ],
      "execution_count": 88,
      "outputs": [
        {
          "output_type": "execute_result",
          "data": {
            "text/plain": [
              "True"
            ]
          },
          "metadata": {
            "tags": []
          },
          "execution_count": 88
        }
      ]
    },
    {
      "cell_type": "code",
      "metadata": {
        "id": "YUhkecIbnmGd",
        "colab": {
          "base_uri": "https://localhost:8080/"
        },
        "outputId": "85a6cb05-7dbf-4236-8a21-cfafb7ab9edb"
      },
      "source": [
        "'lowercase'.islower()"
      ],
      "execution_count": 89,
      "outputs": [
        {
          "output_type": "execute_result",
          "data": {
            "text/plain": [
              "True"
            ]
          },
          "metadata": {
            "tags": []
          },
          "execution_count": 89
        }
      ]
    },
    {
      "cell_type": "code",
      "metadata": {
        "id": "C0CduPhknrUs",
        "colab": {
          "base_uri": "https://localhost:8080/"
        },
        "outputId": "1905415e-8bd7-4fe7-af93-7f02668196af"
      },
      "source": [
        "'lowercase'.isupper()"
      ],
      "execution_count": 90,
      "outputs": [
        {
          "output_type": "execute_result",
          "data": {
            "text/plain": [
              "False"
            ]
          },
          "metadata": {
            "tags": []
          },
          "execution_count": 90
        }
      ]
    },
    {
      "cell_type": "code",
      "metadata": {
        "id": "EFS9jh8IntrM",
        "colab": {
          "base_uri": "https://localhost:8080/"
        },
        "outputId": "455da128-adac-4fe1-f79f-b3b4780e1c95"
      },
      "source": [
        "'The Good Ship'.istitle()"
      ],
      "execution_count": 91,
      "outputs": [
        {
          "output_type": "execute_result",
          "data": {
            "text/plain": [
              "True"
            ]
          },
          "metadata": {
            "tags": []
          },
          "execution_count": 91
        }
      ]
    },
    {
      "cell_type": "code",
      "metadata": {
        "id": "GxHy9RU_UEgA",
        "colab": {
          "base_uri": "https://localhost:8080/"
        },
        "outputId": "7584ee63-5593-409b-da32-036d29927381"
      },
      "source": [
        "'The bad seed'.istitle()"
      ],
      "execution_count": 92,
      "outputs": [
        {
          "output_type": "execute_result",
          "data": {
            "text/plain": [
              "False"
            ]
          },
          "metadata": {
            "tags": []
          },
          "execution_count": 92
        }
      ]
    },
    {
      "cell_type": "code",
      "metadata": {
        "id": "Zc0oj4cayjha"
      },
      "source": [
        "one = '1'"
      ],
      "execution_count": 93,
      "outputs": []
    },
    {
      "cell_type": "code",
      "metadata": {
        "id": "6r4faWWpyoCS",
        "colab": {
          "base_uri": "https://localhost:8080/"
        },
        "outputId": "d20c2a2d-b299-403a-c69c-ac5cdb88fb81"
      },
      "source": [
        "one.isnumeric()"
      ],
      "execution_count": 94,
      "outputs": [
        {
          "output_type": "execute_result",
          "data": {
            "text/plain": [
              "True"
            ]
          },
          "metadata": {
            "tags": []
          },
          "execution_count": 94
        }
      ]
    },
    {
      "cell_type": "markdown",
      "metadata": {
        "id": "ITOkUfVNSoHC"
      },
      "source": [
        "#### Format strings\n",
        "F-strings where introduced in Python 3.6. They prefixed by either a 'F' or 'f' before the beginning quotation mark. Values can be inserted into F-strings at runtime using replacement fields which are deliminated by curly braces."
      ]
    },
    {
      "cell_type": "markdown",
      "metadata": {
        "id": "8s8hh-Z6Cp_K"
      },
      "source": [
        "##### Insert variable into replacement field"
      ]
    },
    {
      "cell_type": "code",
      "metadata": {
        "id": "LZDftZDKT0eI",
        "colab": {
          "base_uri": "https://localhost:8080/",
          "height": 35
        },
        "outputId": "a9988c9b-3a22-4476-8d3f-8da0dd7d0c40"
      },
      "source": [
        "strings_count = 5\n",
        "frets_count = 24\n",
        "f\"Noam Pikelny's banjo has {strings_count} strings and {frets_count} frets\""
      ],
      "execution_count": 95,
      "outputs": [
        {
          "output_type": "execute_result",
          "data": {
            "application/vnd.google.colaboratory.intrinsic+json": {
              "type": "string"
            },
            "text/plain": [
              "\"Noam Pikelny's banjo has 5 strings and 24 frets\""
            ]
          },
          "metadata": {
            "tags": []
          },
          "execution_count": 95
        }
      ]
    },
    {
      "cell_type": "markdown",
      "metadata": {
        "id": "1TE5TEr8Cu6j"
      },
      "source": [
        "##### Insert expression into replacement field"
      ]
    },
    {
      "cell_type": "code",
      "metadata": {
        "id": "Vp4gLnKIUn8d",
        "colab": {
          "base_uri": "https://localhost:8080/",
          "height": 35
        },
        "outputId": "97420aad-3b5c-4249-b6fe-16b17b02334a"
      },
      "source": [
        "a = 12\n",
        "b = 32\n",
        "f\"{a} times {b} equals {a*b}\""
      ],
      "execution_count": 96,
      "outputs": [
        {
          "output_type": "execute_result",
          "data": {
            "application/vnd.google.colaboratory.intrinsic+json": {
              "type": "string"
            },
            "text/plain": [
              "'12 times 32 equals 384'"
            ]
          },
          "metadata": {
            "tags": []
          },
          "execution_count": 96
        }
      ]
    },
    {
      "cell_type": "markdown",
      "metadata": {
        "id": "D5Nwsc3uDGEA"
      },
      "source": [
        "##### Index list in string replacement fields"
      ]
    },
    {
      "cell_type": "code",
      "metadata": {
        "id": "0SINPS8VUGES",
        "colab": {
          "base_uri": "https://localhost:8080/",
          "height": 35
        },
        "outputId": "b2dba87e-1fab-4553-9f54-30c361650f80"
      },
      "source": [
        "players = [\"Tony Trischka\", \"Bill Evans\", \"Alan Munde\"]\n",
        "f\"Performances will be held by {players[1]}, {players[0]}, and {players[2]}\""
      ],
      "execution_count": 97,
      "outputs": [
        {
          "output_type": "execute_result",
          "data": {
            "application/vnd.google.colaboratory.intrinsic+json": {
              "type": "string"
            },
            "text/plain": [
              "'Performances will be held by Bill Evans, Tony Trischka, and Alan Munde'"
            ]
          },
          "metadata": {
            "tags": []
          },
          "execution_count": 97
        }
      ]
    },
    {
      "cell_type": "markdown",
      "metadata": {
        "id": "_dLRgBigEWxy"
      },
      "source": [
        "##### Conversion flags\n",
        "A conversion flag can be specified to convert the type of the value before formatting. The three available flags are 's', 'r' and 'a'."
      ]
    },
    {
      "cell_type": "markdown",
      "metadata": {
        "id": "LEaUFbNPG3q3"
      },
      "source": [
        "##### Using str conversion"
      ]
    },
    {
      "cell_type": "code",
      "metadata": {
        "id": "XMkyQGaOGF43",
        "colab": {
          "base_uri": "https://localhost:8080/",
          "height": 35
        },
        "outputId": "bbae8daa-942f-43fb-f64c-e0001f5c9589"
      },
      "source": [
        "nuts = [1,2,3,4,5]\n",
        "f\"Calling str() on a the list {nuts} produces {nuts!s}\""
      ],
      "execution_count": 98,
      "outputs": [
        {
          "output_type": "execute_result",
          "data": {
            "application/vnd.google.colaboratory.intrinsic+json": {
              "type": "string"
            },
            "text/plain": [
              "'Calling str() on a the list [1, 2, 3, 4, 5] produces [1, 2, 3, 4, 5]'"
            ]
          },
          "metadata": {
            "tags": []
          },
          "execution_count": 98
        }
      ]
    },
    {
      "cell_type": "markdown",
      "metadata": {
        "id": "7yKhXIB9HHAG"
      },
      "source": [
        "##### Using repr conversiont"
      ]
    },
    {
      "cell_type": "code",
      "metadata": {
        "id": "3KHOPzFpUiYt",
        "colab": {
          "base_uri": "https://localhost:8080/",
          "height": 35
        },
        "outputId": "c201a5b6-758c-403e-c47d-53d83daf14c2"
      },
      "source": [
        "nut = 'pistacio'\n",
        "f\"Calling repr() on the string {nut} results in {nut!r}\""
      ],
      "execution_count": 99,
      "outputs": [
        {
          "output_type": "execute_result",
          "data": {
            "application/vnd.google.colaboratory.intrinsic+json": {
              "type": "string"
            },
            "text/plain": [
              "\"Calling repr() on the string pistacio results in 'pistacio'\""
            ]
          },
          "metadata": {
            "tags": []
          },
          "execution_count": 99
        }
      ]
    },
    {
      "cell_type": "markdown",
      "metadata": {
        "id": "QGL3jaPRHLL6"
      },
      "source": [
        "##### Using ascii conversion"
      ]
    },
    {
      "cell_type": "code",
      "metadata": {
        "id": "h8HvErGWVaRm",
        "colab": {
          "base_uri": "https://localhost:8080/",
          "height": 35
        },
        "outputId": "883e5c17-8869-4204-adc2-2c6914048b6e"
      },
      "source": [
        "check = \"√\"\n",
        "f\"The ascii version of {check} is {check!a}\""
      ],
      "execution_count": 100,
      "outputs": [
        {
          "output_type": "execute_result",
          "data": {
            "application/vnd.google.colaboratory.intrinsic+json": {
              "type": "string"
            },
            "text/plain": [
              "\"The ascii version of √ is '\\\\u221a'\""
            ]
          },
          "metadata": {
            "tags": []
          },
          "execution_count": 100
        }
      ]
    },
    {
      "cell_type": "markdown",
      "metadata": {
        "id": "pppmK_qKIzMf"
      },
      "source": [
        "##### Padding a number"
      ]
    },
    {
      "cell_type": "code",
      "metadata": {
        "id": "L9OiDcEVI2Ck",
        "colab": {
          "base_uri": "https://localhost:8080/",
          "height": 35
        },
        "outputId": "57859062-3227-458b-fd5a-5fd9059c409c"
      },
      "source": [
        "lucky_num = 13\n",
        "f\"To pad the number {lucky_num} to 5 places:{lucky_num:5d}\""
      ],
      "execution_count": 101,
      "outputs": [
        {
          "output_type": "execute_result",
          "data": {
            "application/vnd.google.colaboratory.intrinsic+json": {
              "type": "string"
            },
            "text/plain": [
              "'To pad the number 13 to 5 places:   13'"
            ]
          },
          "metadata": {
            "tags": []
          },
          "execution_count": 101
        }
      ]
    },
    {
      "cell_type": "markdown",
      "metadata": {
        "id": "vj9FpG5DH2hr"
      },
      "source": [
        "##### Setting padding value at runtime"
      ]
    },
    {
      "cell_type": "code",
      "metadata": {
        "id": "RPuBc-tZVhRN",
        "colab": {
          "base_uri": "https://localhost:8080/",
          "height": 35
        },
        "outputId": "9fcf0306-85c0-4e7b-dae1-23a8fe3aacc0"
      },
      "source": [
        "luckey_num = 13\n",
        "padding = 5\n",
        "f\"To pad the number {lucky_num} to {padding} places:{lucky_num:{padding}d}\""
      ],
      "execution_count": 102,
      "outputs": [
        {
          "output_type": "execute_result",
          "data": {
            "application/vnd.google.colaboratory.intrinsic+json": {
              "type": "string"
            },
            "text/plain": [
              "'To pad the number 13 to 5 places:   13'"
            ]
          },
          "metadata": {
            "tags": []
          },
          "execution_count": 102
        }
      ]
    },
    {
      "cell_type": "markdown",
      "metadata": {
        "id": "7d0IbqU8Sslw"
      },
      "source": [
        "####  Manipulate strings "
      ]
    },
    {
      "cell_type": "markdown",
      "metadata": {
        "id": "lLXpq0e5rvDL"
      },
      "source": [
        "##### Removing Whitespace"
      ]
    },
    {
      "cell_type": "code",
      "metadata": {
        "id": "S7s2L8NRTyYK",
        "colab": {
          "base_uri": "https://localhost:8080/",
          "height": 35
        },
        "outputId": "04da3b18-6025-407e-a0d2-3be3800ea8a2"
      },
      "source": [
        "ship = \" The Yankee Clipper \"\n",
        "ship"
      ],
      "execution_count": 103,
      "outputs": [
        {
          "output_type": "execute_result",
          "data": {
            "application/vnd.google.colaboratory.intrinsic+json": {
              "type": "string"
            },
            "text/plain": [
              "' The Yankee Clipper '"
            ]
          },
          "metadata": {
            "tags": []
          },
          "execution_count": 103
        }
      ]
    },
    {
      "cell_type": "code",
      "metadata": {
        "id": "PM4r28sTT86o",
        "colab": {
          "base_uri": "https://localhost:8080/",
          "height": 35
        },
        "outputId": "e4311441-970b-4563-9ca8-02dc7ec3b96d"
      },
      "source": [
        "ship.strip()"
      ],
      "execution_count": 104,
      "outputs": [
        {
          "output_type": "execute_result",
          "data": {
            "application/vnd.google.colaboratory.intrinsic+json": {
              "type": "string"
            },
            "text/plain": [
              "'The Yankee Clipper'"
            ]
          },
          "metadata": {
            "tags": []
          },
          "execution_count": 104
        }
      ]
    },
    {
      "cell_type": "code",
      "metadata": {
        "id": "wKtcldcRUCoo",
        "colab": {
          "base_uri": "https://localhost:8080/",
          "height": 35
        },
        "outputId": "718c14fe-dfe8-48ae-91ba-a040d967a60d"
      },
      "source": [
        "ship.lstrip()"
      ],
      "execution_count": 105,
      "outputs": [
        {
          "output_type": "execute_result",
          "data": {
            "application/vnd.google.colaboratory.intrinsic+json": {
              "type": "string"
            },
            "text/plain": [
              "'The Yankee Clipper '"
            ]
          },
          "metadata": {
            "tags": []
          },
          "execution_count": 105
        }
      ]
    },
    {
      "cell_type": "code",
      "metadata": {
        "id": "ILdKPDCGT_Tw",
        "colab": {
          "base_uri": "https://localhost:8080/",
          "height": 35
        },
        "outputId": "3ae023b9-6ee5-4d39-a8ca-bd53baed870c"
      },
      "source": [
        "ship.rstrip()"
      ],
      "execution_count": 106,
      "outputs": [
        {
          "output_type": "execute_result",
          "data": {
            "application/vnd.google.colaboratory.intrinsic+json": {
              "type": "string"
            },
            "text/plain": [
              "' The Yankee Clipper'"
            ]
          },
          "metadata": {
            "tags": []
          },
          "execution_count": 106
        }
      ]
    },
    {
      "cell_type": "markdown",
      "metadata": {
        "id": "7rwU5mm9Aoju"
      },
      "source": [
        "##### Add padding"
      ]
    },
    {
      "cell_type": "code",
      "metadata": {
        "id": "Z_RBTJMDdCJY"
      },
      "source": [
        "port = \"Boston\""
      ],
      "execution_count": 107,
      "outputs": []
    },
    {
      "cell_type": "code",
      "metadata": {
        "id": "dYFeX5XTBLtx",
        "colab": {
          "base_uri": "https://localhost:8080/",
          "height": 35
        },
        "outputId": "f2fa1a81-fc4c-4919-c669-32289e696001"
      },
      "source": [
        "port.center(12, '*')"
      ],
      "execution_count": 108,
      "outputs": [
        {
          "output_type": "execute_result",
          "data": {
            "application/vnd.google.colaboratory.intrinsic+json": {
              "type": "string"
            },
            "text/plain": [
              "'***Boston***'"
            ]
          },
          "metadata": {
            "tags": []
          },
          "execution_count": 108
        }
      ]
    },
    {
      "cell_type": "code",
      "metadata": {
        "id": "UIvvLZxNdysE",
        "colab": {
          "base_uri": "https://localhost:8080/",
          "height": 35
        },
        "outputId": "9e5bbb7d-446a-4676-ad66-bd355e62c57e"
      },
      "source": [
        "port.ljust(12, '*')"
      ],
      "execution_count": 109,
      "outputs": [
        {
          "output_type": "execute_result",
          "data": {
            "application/vnd.google.colaboratory.intrinsic+json": {
              "type": "string"
            },
            "text/plain": [
              "'Boston******'"
            ]
          },
          "metadata": {
            "tags": []
          },
          "execution_count": 109
        }
      ]
    },
    {
      "cell_type": "code",
      "metadata": {
        "id": "mjcsTvfXd4eL",
        "colab": {
          "base_uri": "https://localhost:8080/",
          "height": 35
        },
        "outputId": "3a994969-607c-4047-ae40-a60e7a7e94ee"
      },
      "source": [
        "port.rjust(12, '*')"
      ],
      "execution_count": 110,
      "outputs": [
        {
          "output_type": "execute_result",
          "data": {
            "application/vnd.google.colaboratory.intrinsic+json": {
              "type": "string"
            },
            "text/plain": [
              "'******Boston'"
            ]
          },
          "metadata": {
            "tags": []
          },
          "execution_count": 110
        }
      ]
    },
    {
      "cell_type": "code",
      "metadata": {
        "id": "pSr3PaxHd6hd",
        "colab": {
          "base_uri": "https://localhost:8080/"
        },
        "outputId": "67340da2-e5f9-42ad-fd62-37b26662e194"
      },
      "source": [
        "for port_city in ['Liverpool', 'Boston', 'New York', 'Philadelphia']:\n",
        "  print(port_city.rjust(12))"
      ],
      "execution_count": 111,
      "outputs": [
        {
          "output_type": "stream",
          "text": [
            "   Liverpool\n",
            "      Boston\n",
            "    New York\n",
            "Philadelphia\n"
          ],
          "name": "stdout"
        }
      ]
    },
    {
      "cell_type": "code",
      "metadata": {
        "id": "9GoV_hGxfXQn",
        "colab": {
          "base_uri": "https://localhost:8080/",
          "height": 35
        },
        "outputId": "63a1d018-6db8-459f-d0e4-e7267b38ab09"
      },
      "source": [
        "'-5'.zfill(4)"
      ],
      "execution_count": 112,
      "outputs": [
        {
          "output_type": "execute_result",
          "data": {
            "application/vnd.google.colaboratory.intrinsic+json": {
              "type": "string"
            },
            "text/plain": [
              "'-005'"
            ]
          },
          "metadata": {
            "tags": []
          },
          "execution_count": 112
        }
      ]
    },
    {
      "cell_type": "code",
      "metadata": {
        "id": "b3ovfxR0eSHg",
        "colab": {
          "base_uri": "https://localhost:8080/",
          "height": 35
        },
        "outputId": "d5669e47-a640-4cfb-f15e-77ea42cd1465"
      },
      "source": [
        "\"FILADELFIA\".replace(\"F\", \"PH\")"
      ],
      "execution_count": 113,
      "outputs": [
        {
          "output_type": "execute_result",
          "data": {
            "application/vnd.google.colaboratory.intrinsic+json": {
              "type": "string"
            },
            "text/plain": [
              "'PHILADELPHIA'"
            ]
          },
          "metadata": {
            "tags": []
          },
          "execution_count": 113
        }
      ]
    },
    {
      "cell_type": "markdown",
      "metadata": {
        "id": "rlkG5_YmfxII"
      },
      "source": [
        "##### Spitting and Joining"
      ]
    },
    {
      "cell_type": "code",
      "metadata": {
        "id": "BELRTH31fVWn",
        "colab": {
          "base_uri": "https://localhost:8080/",
          "height": 35
        },
        "outputId": "3a9f8678-44e2-431a-97b7-b970292a2177"
      },
      "source": [
        "words_string = \"Here,Are,Some,Words\"\n",
        "words_string"
      ],
      "execution_count": 114,
      "outputs": [
        {
          "output_type": "execute_result",
          "data": {
            "application/vnd.google.colaboratory.intrinsic+json": {
              "type": "string"
            },
            "text/plain": [
              "'Here,Are,Some,Words'"
            ]
          },
          "metadata": {
            "tags": []
          },
          "execution_count": 114
        }
      ]
    },
    {
      "cell_type": "markdown",
      "metadata": {
        "id": "jSIUiLHuBnoF"
      },
      "source": [
        "##### Split on comma"
      ]
    },
    {
      "cell_type": "code",
      "metadata": {
        "id": "azqJSUvbjT3L",
        "colab": {
          "base_uri": "https://localhost:8080/"
        },
        "outputId": "c0c56bb0-a22b-4481-f4a5-b4b9a70e85e5"
      },
      "source": [
        "words = words_string.split(',')\n",
        "words"
      ],
      "execution_count": 115,
      "outputs": [
        {
          "output_type": "execute_result",
          "data": {
            "text/plain": [
              "['Here', 'Are', 'Some', 'Words']"
            ]
          },
          "metadata": {
            "tags": []
          },
          "execution_count": 115
        }
      ]
    },
    {
      "cell_type": "markdown",
      "metadata": {
        "id": "D2-yh4ZCB6DC"
      },
      "source": [
        "##### Joining"
      ]
    },
    {
      "cell_type": "code",
      "metadata": {
        "id": "B26tHfU9jWID",
        "colab": {
          "base_uri": "https://localhost:8080/",
          "height": 35
        },
        "outputId": "eac2ffd3-4d57-4819-bc1d-f39d25a6e1c7"
      },
      "source": [
        "':'.join(words)"
      ],
      "execution_count": 116,
      "outputs": [
        {
          "output_type": "execute_result",
          "data": {
            "application/vnd.google.colaboratory.intrinsic+json": {
              "type": "string"
            },
            "text/plain": [
              "'Here:Are:Some:Words'"
            ]
          },
          "metadata": {
            "tags": []
          },
          "execution_count": 116
        }
      ]
    },
    {
      "cell_type": "markdown",
      "metadata": {
        "id": "9pGK5ua-Burk"
      },
      "source": [
        "##### Split on newline"
      ]
    },
    {
      "cell_type": "code",
      "metadata": {
        "id": "6GrBwbwokddj",
        "colab": {
          "base_uri": "https://localhost:8080/",
          "height": 35
        },
        "outputId": "5dd49df4-dd4b-4539-86e4-22a4ff54d57b"
      },
      "source": [
        "multiline = \"Sometimes we are given\\na multiline document\\nas a single string\"\n",
        "multiline"
      ],
      "execution_count": 117,
      "outputs": [
        {
          "output_type": "execute_result",
          "data": {
            "application/vnd.google.colaboratory.intrinsic+json": {
              "type": "string"
            },
            "text/plain": [
              "'Sometimes we are given\\na multiline document\\nas a single string'"
            ]
          },
          "metadata": {
            "tags": []
          },
          "execution_count": 117
        }
      ]
    },
    {
      "cell_type": "code",
      "metadata": {
        "id": "IZBYgEV3HKGC",
        "colab": {
          "base_uri": "https://localhost:8080/"
        },
        "outputId": "05f911d1-d99d-4bf1-8c5c-40490921a1a4"
      },
      "source": [
        "multiline.splitlines()"
      ],
      "execution_count": 118,
      "outputs": [
        {
          "output_type": "execute_result",
          "data": {
            "text/plain": [
              "['Sometimes we are given', 'a multiline document', 'as a single string']"
            ]
          },
          "metadata": {
            "tags": []
          },
          "execution_count": 118
        }
      ]
    },
    {
      "cell_type": "code",
      "metadata": {
        "id": "WJ0MDyfmkyLI",
        "colab": {
          "base_uri": "https://localhost:8080/"
        },
        "outputId": "358a9429-80bf-49db-ae5e-f05744b5e5f5"
      },
      "source": [
        "for line in multiline.splitlines():\n",
        "  print(line)"
      ],
      "execution_count": 119,
      "outputs": [
        {
          "output_type": "stream",
          "text": [
            "Sometimes we are given\n",
            "a multiline document\n",
            "as a single string\n"
          ],
          "name": "stdout"
        }
      ]
    },
    {
      "cell_type": "markdown",
      "metadata": {
        "id": "XIU5mjMIYuvu"
      },
      "source": [
        "#### range"
      ]
    },
    {
      "cell_type": "code",
      "metadata": {
        "id": "Q2SFa6DUV6sU",
        "colab": {
          "base_uri": "https://localhost:8080/"
        },
        "outputId": "960246c9-d433-4d92-88ca-8012dc45f916"
      },
      "source": [
        "range(10)"
      ],
      "execution_count": 120,
      "outputs": [
        {
          "output_type": "execute_result",
          "data": {
            "text/plain": [
              "range(0, 10)"
            ]
          },
          "metadata": {
            "tags": []
          },
          "execution_count": 120
        }
      ]
    },
    {
      "cell_type": "code",
      "metadata": {
        "id": "o2hImcN3V9oU",
        "colab": {
          "base_uri": "https://localhost:8080/"
        },
        "outputId": "890fc6a8-d851-42a8-a856-5d9d5c6407d1"
      },
      "source": [
        "list(range(1, 10))"
      ],
      "execution_count": 121,
      "outputs": [
        {
          "output_type": "execute_result",
          "data": {
            "text/plain": [
              "[1, 2, 3, 4, 5, 6, 7, 8, 9]"
            ]
          },
          "metadata": {
            "tags": []
          },
          "execution_count": 121
        }
      ]
    },
    {
      "cell_type": "code",
      "metadata": {
        "id": "z_1ONXUZWrHr",
        "colab": {
          "base_uri": "https://localhost:8080/"
        },
        "outputId": "14f27b26-49dd-4512-ad42-33464c18db5e"
      },
      "source": [
        "list(range(0,10,2))"
      ],
      "execution_count": 122,
      "outputs": [
        {
          "output_type": "execute_result",
          "data": {
            "text/plain": [
              "[0, 2, 4, 6, 8]"
            ]
          },
          "metadata": {
            "tags": []
          },
          "execution_count": 122
        }
      ]
    },
    {
      "cell_type": "code",
      "metadata": {
        "id": "RRUdu4yyWtDo",
        "colab": {
          "base_uri": "https://localhost:8080/"
        },
        "outputId": "2e817ea0-61ef-4c48-ae02-5eb1c5286252"
      },
      "source": [
        "list(range(10, 0, -2))"
      ],
      "execution_count": 123,
      "outputs": [
        {
          "output_type": "execute_result",
          "data": {
            "text/plain": [
              "[10, 8, 6, 4, 2]"
            ]
          },
          "metadata": {
            "tags": []
          },
          "execution_count": 123
        }
      ]
    },
    {
      "cell_type": "code",
      "metadata": {
        "id": "7iuZ6jTR8qF1"
      },
      "source": [
        ""
      ],
      "execution_count": 123,
      "outputs": []
    }
  ]
}
