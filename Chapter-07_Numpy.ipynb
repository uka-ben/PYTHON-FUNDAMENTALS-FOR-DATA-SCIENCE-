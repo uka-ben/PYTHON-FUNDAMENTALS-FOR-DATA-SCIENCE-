{
  "nbformat": 4,
  "nbformat_minor": 0,
  "metadata": {
    "colab": {
      "name": "Chapter-07:Numpy.ipynb",
      "provenance": [],
      "include_colab_link": true
    },
    "kernelspec": {
      "display_name": "Python 3",
      "language": "python",
      "name": "python3"
    },
    "language_info": {
      "codemirror_mode": {
        "name": "ipython",
        "version": 3
      },
      "file_extension": ".py",
      "mimetype": "text/x-python",
      "name": "python",
      "nbconvert_exporter": "python",
      "pygments_lexer": "ipython3",
      "version": "3.6.5"
    }
  },
  "cells": [
    {
      "cell_type": "markdown",
      "metadata": {
        "id": "view-in-github",
        "colab_type": "text"
      },
      "source": [
        "<a href=\"https://colab.research.google.com/github/kbehrman/foundational-python-for-data-science/blob/main/Chapter_07_Numpy.ipynb\" target=\"_parent\"><img src=\"https://colab.research.google.com/assets/colab-badge.svg\" alt=\"Open In Colab\"/></a>"
      ]
    },
    {
      "cell_type": "markdown",
      "metadata": {
        "id": "PTjealdL6HT4"
      },
      "source": [
        "# NumPy\n",
        "\n",
        "[numpy.org](https://numpy.org/)\n",
        "\n",
        "[Documentation](https://numpy.org/doc/stable/contents.html)\n",
        "\n",
        "[wikipedia](https://en.wikipedia.org/wiki/NumPy)\n"
      ]
    },
    {
      "cell_type": "markdown",
      "metadata": {
        "id": "eHlPABS_8umB"
      },
      "source": [
        "## Installation\n",
        "If you are using Google Colab, numpy is already available in your environment, just import it. If you are working locally you may need to install it the package. There are many ways to install NumPy, depending on your system and Python installation, see [Installation](https://scipy.org/install.html). But the simplest way is usually to use pip.\n",
        "\n",
        "```bash\n",
        "pip install numpy\n",
        "```"
      ]
    },
    {
      "cell_type": "code",
      "metadata": {
        "id": "wj6nl1Ma6Gg0"
      },
      "source": [
        "import numpy as np"
      ],
      "execution_count": null,
      "outputs": []
    },
    {
      "cell_type": "markdown",
      "metadata": {
        "id": "uEvlRB_QH-7q"
      },
      "source": [
        "## ndarray vs standard library sequences\n",
        "\n",
        "- fixed size\n",
        "- must contain one type (with exception of objects, will have be same size)\n",
        "- designed to perform operations on large amounts of data, generally more efficiently and simply than standard library\n",
        "- large number of scientific libraries use ndarrys as input and output"
      ]
    },
    {
      "cell_type": "markdown",
      "metadata": {
        "id": "ULimOUNXWEYA"
      },
      "source": [
        "## Creating an Array"
      ]
    },
    {
      "cell_type": "code",
      "metadata": {
        "id": "7_PipJoQWEYB",
        "colab": {
          "base_uri": "https://localhost:8080/"
        },
        "outputId": "3c4cfe71-acf6-445c-e00c-d592fa8dc6c7"
      },
      "source": [
        "np.array([1,2,3])"
      ],
      "execution_count": null,
      "outputs": [
        {
          "output_type": "execute_result",
          "data": {
            "text/plain": [
              "array([1, 2, 3])"
            ]
          },
          "metadata": {
            "tags": []
          },
          "execution_count": 2
        }
      ]
    },
    {
      "cell_type": "code",
      "metadata": {
        "id": "GjpzytP8WEYC",
        "colab": {
          "base_uri": "https://localhost:8080/"
        },
        "outputId": "7b5495b6-5a26-4f05-bd0a-ba1ed2421eff"
      },
      "source": [
        "np.zeros(3)"
      ],
      "execution_count": null,
      "outputs": [
        {
          "output_type": "execute_result",
          "data": {
            "text/plain": [
              "array([0., 0., 0.])"
            ]
          },
          "metadata": {
            "tags": []
          },
          "execution_count": 3
        }
      ]
    },
    {
      "cell_type": "code",
      "metadata": {
        "id": "pbkUM_h6WEYD",
        "colab": {
          "base_uri": "https://localhost:8080/"
        },
        "outputId": "d9cf79bb-a067-4077-9d1a-f496c70353a2"
      },
      "source": [
        "np.ones(3)"
      ],
      "execution_count": null,
      "outputs": [
        {
          "output_type": "execute_result",
          "data": {
            "text/plain": [
              "array([1., 1., 1.])"
            ]
          },
          "metadata": {
            "tags": []
          },
          "execution_count": 4
        }
      ]
    },
    {
      "cell_type": "code",
      "metadata": {
        "id": "8v_elII5WEYE",
        "colab": {
          "base_uri": "https://localhost:8080/"
        },
        "outputId": "31b42799-0ec2-4e73-8267-803233e9dc5c"
      },
      "source": [
        "np.empty(3)"
      ],
      "execution_count": null,
      "outputs": [
        {
          "output_type": "execute_result",
          "data": {
            "text/plain": [
              "array([1., 1., 1.])"
            ]
          },
          "metadata": {
            "tags": []
          },
          "execution_count": 5
        }
      ]
    },
    {
      "cell_type": "code",
      "metadata": {
        "id": "ylkmbqpmWEYF",
        "colab": {
          "base_uri": "https://localhost:8080/"
        },
        "outputId": "95986f23-fc15-4e3e-b79f-073cc0bc1ab3"
      },
      "source": [
        "np.arange(3)"
      ],
      "execution_count": null,
      "outputs": [
        {
          "output_type": "execute_result",
          "data": {
            "text/plain": [
              "array([0, 1, 2])"
            ]
          },
          "metadata": {
            "tags": []
          },
          "execution_count": 6
        }
      ]
    },
    {
      "cell_type": "code",
      "metadata": {
        "id": "IE9EW2N2WEYG",
        "colab": {
          "base_uri": "https://localhost:8080/"
        },
        "outputId": "d7f5ce05-51e7-4946-f184-19f7967b8725"
      },
      "source": [
        "np.arange(0, 12, 3)"
      ],
      "execution_count": null,
      "outputs": [
        {
          "output_type": "execute_result",
          "data": {
            "text/plain": [
              "array([0, 3, 6, 9])"
            ]
          },
          "metadata": {
            "tags": []
          },
          "execution_count": 7
        }
      ]
    },
    {
      "cell_type": "code",
      "metadata": {
        "id": "Hpo8iTVVWEYH",
        "colab": {
          "base_uri": "https://localhost:8080/"
        },
        "outputId": "8d5362b5-e9d8-4c80-b350-c838e3114917"
      },
      "source": [
        "np.linspace(0, 21, 7)"
      ],
      "execution_count": null,
      "outputs": [
        {
          "output_type": "execute_result",
          "data": {
            "text/plain": [
              "array([ 0. ,  3.5,  7. , 10.5, 14. , 17.5, 21. ])"
            ]
          },
          "metadata": {
            "tags": []
          },
          "execution_count": 8
        }
      ]
    },
    {
      "cell_type": "code",
      "metadata": {
        "id": "tayrkufyWEYJ"
      },
      "source": [
        ""
      ],
      "execution_count": null,
      "outputs": []
    },
    {
      "cell_type": "code",
      "metadata": {
        "id": "bXl0tiaqWEYK"
      },
      "source": [
        ""
      ],
      "execution_count": null,
      "outputs": []
    },
    {
      "cell_type": "code",
      "metadata": {
        "id": "by9fzB8vWEYL",
        "colab": {
          "base_uri": "https://localhost:8080/"
        },
        "outputId": "3b6fef32-4688-4f19-84a3-6587a3058028"
      },
      "source": [
        "oned = np.arange(21)\n",
        "oned"
      ],
      "execution_count": null,
      "outputs": [
        {
          "output_type": "execute_result",
          "data": {
            "text/plain": [
              "array([ 0,  1,  2,  3,  4,  5,  6,  7,  8,  9, 10, 11, 12, 13, 14, 15, 16,\n",
              "       17, 18, 19, 20])"
            ]
          },
          "metadata": {
            "tags": []
          },
          "execution_count": 9
        }
      ]
    },
    {
      "cell_type": "code",
      "metadata": {
        "id": "FjCBUaQBWEYM",
        "colab": {
          "base_uri": "https://localhost:8080/"
        },
        "outputId": "9a805406-08e8-41ae-c8bd-c5af78b44bf5"
      },
      "source": [
        "oned.dtype"
      ],
      "execution_count": null,
      "outputs": [
        {
          "output_type": "execute_result",
          "data": {
            "text/plain": [
              "dtype('int64')"
            ]
          },
          "metadata": {
            "tags": []
          },
          "execution_count": 10
        }
      ]
    },
    {
      "cell_type": "code",
      "metadata": {
        "id": "MW3VcAwQWEYN",
        "colab": {
          "base_uri": "https://localhost:8080/"
        },
        "outputId": "4a7ed067-8c93-467c-d519-9c7bacac131f"
      },
      "source": [
        "oned.size"
      ],
      "execution_count": null,
      "outputs": [
        {
          "output_type": "execute_result",
          "data": {
            "text/plain": [
              "21"
            ]
          },
          "metadata": {
            "tags": []
          },
          "execution_count": 11
        }
      ]
    },
    {
      "cell_type": "code",
      "metadata": {
        "id": "IFkWcHyRWEYN",
        "colab": {
          "base_uri": "https://localhost:8080/"
        },
        "outputId": "0be4f9f9-bb22-41b5-9753-3c2bedd7f7c4"
      },
      "source": [
        "oned.nbytes"
      ],
      "execution_count": null,
      "outputs": [
        {
          "output_type": "execute_result",
          "data": {
            "text/plain": [
              "168"
            ]
          },
          "metadata": {
            "tags": []
          },
          "execution_count": 12
        }
      ]
    },
    {
      "cell_type": "markdown",
      "metadata": {
        "id": "ThID6QZlWEYO"
      },
      "source": [
        "## N-Dimensions"
      ]
    },
    {
      "cell_type": "code",
      "metadata": {
        "id": "i1E2-aCbWEYP",
        "colab": {
          "base_uri": "https://localhost:8080/"
        },
        "outputId": "e30f0895-7b6c-4dbf-b143-3c4300d4ef44"
      },
      "source": [
        "type(oned)"
      ],
      "execution_count": null,
      "outputs": [
        {
          "output_type": "execute_result",
          "data": {
            "text/plain": [
              "numpy.ndarray"
            ]
          },
          "metadata": {
            "tags": []
          },
          "execution_count": 13
        }
      ]
    },
    {
      "cell_type": "code",
      "metadata": {
        "id": "6AD8ACnXWEYP",
        "colab": {
          "base_uri": "https://localhost:8080/"
        },
        "outputId": "d6fbbf01-1534-4348-946c-4d38ff3654cd"
      },
      "source": [
        "oned.shape"
      ],
      "execution_count": null,
      "outputs": [
        {
          "output_type": "execute_result",
          "data": {
            "text/plain": [
              "(21,)"
            ]
          },
          "metadata": {
            "tags": []
          },
          "execution_count": 14
        }
      ]
    },
    {
      "cell_type": "code",
      "metadata": {
        "id": "Roq59d4zWEYQ",
        "colab": {
          "base_uri": "https://localhost:8080/"
        },
        "outputId": "3129e10b-8aaf-49c0-d0b1-20e8eafe1ea4"
      },
      "source": [
        "oned.ndim"
      ],
      "execution_count": null,
      "outputs": [
        {
          "output_type": "execute_result",
          "data": {
            "text/plain": [
              "1"
            ]
          },
          "metadata": {
            "tags": []
          },
          "execution_count": 15
        }
      ]
    },
    {
      "cell_type": "code",
      "metadata": {
        "id": "JbQCJYNnWEYS",
        "colab": {
          "base_uri": "https://localhost:8080/"
        },
        "outputId": "2ee85525-7335-4bec-9342-52478a654d36"
      },
      "source": [
        "list_o_lists = [[1,2,3], [4,5,6], [7,8,9]]\n",
        "twod = np.array(list_o_lists)\n",
        "twod"
      ],
      "execution_count": null,
      "outputs": [
        {
          "output_type": "execute_result",
          "data": {
            "text/plain": [
              "array([[1, 2, 3],\n",
              "       [4, 5, 6],\n",
              "       [7, 8, 9]])"
            ]
          },
          "metadata": {
            "tags": []
          },
          "execution_count": 16
        }
      ]
    },
    {
      "cell_type": "code",
      "metadata": {
        "id": "PxDNGHtjWEYT",
        "colab": {
          "base_uri": "https://localhost:8080/"
        },
        "outputId": "e204a0d5-0e6e-417f-9b11-00291f73dfb9"
      },
      "source": [
        "twod.shape"
      ],
      "execution_count": null,
      "outputs": [
        {
          "output_type": "execute_result",
          "data": {
            "text/plain": [
              "(3, 3)"
            ]
          },
          "metadata": {
            "tags": []
          },
          "execution_count": 17
        }
      ]
    },
    {
      "cell_type": "code",
      "metadata": {
        "id": "l-gfdLk_WEYU",
        "colab": {
          "base_uri": "https://localhost:8080/"
        },
        "outputId": "c5a187b7-3af0-4c3e-8188-eea436652260"
      },
      "source": [
        "twod.ndim"
      ],
      "execution_count": null,
      "outputs": [
        {
          "output_type": "execute_result",
          "data": {
            "text/plain": [
              "2"
            ]
          },
          "metadata": {
            "tags": []
          },
          "execution_count": 18
        }
      ]
    },
    {
      "cell_type": "markdown",
      "metadata": {
        "id": "AgI0Ir23WEYV"
      },
      "source": [
        "### Reshape"
      ]
    },
    {
      "cell_type": "code",
      "metadata": {
        "id": "TAVE2FenWEYV",
        "colab": {
          "base_uri": "https://localhost:8080/"
        },
        "outputId": "884a8042-a46e-400b-e78d-97db3f8e0a89"
      },
      "source": [
        "oned = np.arange(12)\n",
        "oned"
      ],
      "execution_count": null,
      "outputs": [
        {
          "output_type": "execute_result",
          "data": {
            "text/plain": [
              "array([ 0,  1,  2,  3,  4,  5,  6,  7,  8,  9, 10, 11])"
            ]
          },
          "metadata": {
            "tags": []
          },
          "execution_count": 19
        }
      ]
    },
    {
      "cell_type": "code",
      "metadata": {
        "id": "6cQFFcHwWEYW",
        "colab": {
          "base_uri": "https://localhost:8080/"
        },
        "outputId": "7c8f8af5-dcc1-44ac-b65d-f0dee1bd27ea"
      },
      "source": [
        "twod = oned.reshape(3,4)\n",
        "twod"
      ],
      "execution_count": null,
      "outputs": [
        {
          "output_type": "execute_result",
          "data": {
            "text/plain": [
              "array([[ 0,  1,  2,  3],\n",
              "       [ 4,  5,  6,  7],\n",
              "       [ 8,  9, 10, 11]])"
            ]
          },
          "metadata": {
            "tags": []
          },
          "execution_count": 20
        }
      ]
    },
    {
      "cell_type": "code",
      "metadata": {
        "id": "-DwLni_nWEYZ",
        "colab": {
          "base_uri": "https://localhost:8080/"
        },
        "outputId": "e0cc594c-0032-49b6-f892-21947cff1128"
      },
      "source": [
        "twod.reshape(12)"
      ],
      "execution_count": null,
      "outputs": [
        {
          "output_type": "execute_result",
          "data": {
            "text/plain": [
              "array([ 0,  1,  2,  3,  4,  5,  6,  7,  8,  9, 10, 11])"
            ]
          },
          "metadata": {
            "tags": []
          },
          "execution_count": 21
        }
      ]
    },
    {
      "cell_type": "code",
      "metadata": {
        "id": "oCYw-zM9QdXq",
        "colab": {
          "base_uri": "https://localhost:8080/"
        },
        "outputId": "9b91205b-332e-40ae-9747-f44c7a8a3030"
      },
      "source": [
        "twod.reshape(2,2,3)"
      ],
      "execution_count": null,
      "outputs": [
        {
          "output_type": "execute_result",
          "data": {
            "text/plain": [
              "array([[[ 0,  1,  2],\n",
              "        [ 3,  4,  5]],\n",
              "\n",
              "       [[ 6,  7,  8],\n",
              "        [ 9, 10, 11]]])"
            ]
          },
          "metadata": {
            "tags": []
          },
          "execution_count": 22
        }
      ]
    },
    {
      "cell_type": "code",
      "metadata": {
        "id": "Aqqnokg8QdXr",
        "colab": {
          "base_uri": "https://localhost:8080/",
          "height": 165
        },
        "outputId": "801c526b-a696-46c2-f284-a3536f0f2018"
      },
      "source": [
        "twod.reshape(2,3)"
      ],
      "execution_count": null,
      "outputs": [
        {
          "output_type": "error",
          "ename": "ValueError",
          "evalue": "ignored",
          "traceback": [
            "\u001b[0;31m---------------------------------------------------------------------------\u001b[0m",
            "\u001b[0;31mValueError\u001b[0m                                Traceback (most recent call last)",
            "\u001b[0;32m<ipython-input-23-0b0517f762ed>\u001b[0m in \u001b[0;36m<module>\u001b[0;34m()\u001b[0m\n\u001b[0;32m----> 1\u001b[0;31m \u001b[0mtwod\u001b[0m\u001b[0;34m.\u001b[0m\u001b[0mreshape\u001b[0m\u001b[0;34m(\u001b[0m\u001b[0;36m2\u001b[0m\u001b[0;34m,\u001b[0m\u001b[0;36m3\u001b[0m\u001b[0;34m)\u001b[0m\u001b[0;34m\u001b[0m\u001b[0;34m\u001b[0m\u001b[0m\n\u001b[0m",
            "\u001b[0;31mValueError\u001b[0m: cannot reshape array of size 12 into shape (2,3)"
          ]
        }
      ]
    },
    {
      "cell_type": "code",
      "metadata": {
        "id": "6XJlSBHFbn4_"
      },
      "source": [
        "np.ones(12).reshape(2,3,2)"
      ],
      "execution_count": null,
      "outputs": []
    },
    {
      "cell_type": "markdown",
      "metadata": {
        "id": "GJbvBOUtWEYa"
      },
      "source": [
        "### Slicing"
      ]
    },
    {
      "cell_type": "code",
      "metadata": {
        "id": "J631x1NpWEYa"
      },
      "source": [
        "oned = np.arange(21)\n",
        "oned"
      ],
      "execution_count": null,
      "outputs": []
    },
    {
      "cell_type": "code",
      "metadata": {
        "id": "mDrxpqPsWEYb"
      },
      "source": [
        "oned[3]"
      ],
      "execution_count": null,
      "outputs": []
    },
    {
      "cell_type": "code",
      "metadata": {
        "id": "CzN3ijLxWEYd"
      },
      "source": [
        "oned[-1]"
      ],
      "execution_count": null,
      "outputs": []
    },
    {
      "cell_type": "code",
      "metadata": {
        "id": "IDfsnEpsWEYe"
      },
      "source": [
        "oned[3:9]"
      ],
      "execution_count": null,
      "outputs": []
    },
    {
      "cell_type": "code",
      "metadata": {
        "id": "ynINrezFWEYe"
      },
      "source": [
        "twod = np.arange(21).reshape(3,7)\n",
        "twod"
      ],
      "execution_count": null,
      "outputs": []
    },
    {
      "cell_type": "code",
      "metadata": {
        "id": "RmgxUl0fWEYg"
      },
      "source": [
        "twod[2]"
      ],
      "execution_count": null,
      "outputs": []
    },
    {
      "cell_type": "code",
      "metadata": {
        "id": "RSNT5w2oWEYg"
      },
      "source": [
        "twod[2, 3]"
      ],
      "execution_count": null,
      "outputs": []
    },
    {
      "cell_type": "code",
      "metadata": {
        "id": "i7bGyWhMWEYh"
      },
      "source": [
        "twod[0:2]"
      ],
      "execution_count": null,
      "outputs": []
    },
    {
      "cell_type": "code",
      "metadata": {
        "id": "irKN6MJNWEYi"
      },
      "source": [
        "twod[:, 3]"
      ],
      "execution_count": null,
      "outputs": []
    },
    {
      "cell_type": "code",
      "metadata": {
        "id": "kA9ws1riWEYj"
      },
      "source": [
        "twod[0:2,-3:]"
      ],
      "execution_count": null,
      "outputs": []
    },
    {
      "cell_type": "code",
      "metadata": {
        "id": "eQBH9v02WEYk"
      },
      "source": [
        "twod = np.arange(21).reshape(3,7)\n",
        "twod"
      ],
      "execution_count": null,
      "outputs": []
    },
    {
      "cell_type": "code",
      "metadata": {
        "id": "JSD1uZSIWEYk"
      },
      "source": [
        "twod[0,0] = 33\n",
        "twod"
      ],
      "execution_count": null,
      "outputs": []
    },
    {
      "cell_type": "code",
      "metadata": {
        "id": "HxJGouG8WEYl"
      },
      "source": [
        "twod[1:,:3] = 0\n",
        "twod"
      ],
      "execution_count": null,
      "outputs": []
    },
    {
      "cell_type": "markdown",
      "metadata": {
        "id": "0ZNqcPW4WEYm"
      },
      "source": [
        "## Filtering"
      ]
    },
    {
      "cell_type": "code",
      "metadata": {
        "id": "jxDXHId1WEYm"
      },
      "source": [
        "twod = np.arange(21).reshape(3,7)\n",
        "twod"
      ],
      "execution_count": null,
      "outputs": []
    },
    {
      "cell_type": "code",
      "metadata": {
        "id": "uTbi_GRSWEYp"
      },
      "source": [
        "mask = np.array([[ True,  False,  True,  True,  False, True, False],\n",
        "       [ True,  False,  True,  True,  False, True, False],\n",
        "       [ True,  False,  True,  True,  False, True, False]])"
      ],
      "execution_count": null,
      "outputs": []
    },
    {
      "cell_type": "code",
      "metadata": {
        "id": "pDuXeEW0WEYq"
      },
      "source": [
        "twod[mask]"
      ],
      "execution_count": null,
      "outputs": []
    },
    {
      "cell_type": "code",
      "metadata": {
        "id": "lCr4wQQ3WEYq"
      },
      "source": [
        "mask = twod < 5\n",
        "mask"
      ],
      "execution_count": null,
      "outputs": []
    },
    {
      "cell_type": "code",
      "metadata": {
        "id": "ziR_zkPrWEYr"
      },
      "source": [
        "twod[mask]"
      ],
      "execution_count": null,
      "outputs": []
    },
    {
      "cell_type": "code",
      "metadata": {
        "id": "S_nSW7JWWEYs"
      },
      "source": [
        "mask = (twod < 5) & (twod%2 == 0)\n",
        "mask"
      ],
      "execution_count": null,
      "outputs": []
    },
    {
      "cell_type": "code",
      "metadata": {
        "id": "ZCHaMO1cWEYu"
      },
      "source": [
        "twod[mask]"
      ],
      "execution_count": null,
      "outputs": []
    },
    {
      "cell_type": "markdown",
      "metadata": {
        "id": "8xBhq3KKWEYu"
      },
      "source": [
        "## view vs copy"
      ]
    },
    {
      "cell_type": "code",
      "metadata": {
        "id": "_AglvOSxWEYv"
      },
      "source": [
        "data1 = np.arange(24).reshape(4,6)\n",
        "data1"
      ],
      "execution_count": null,
      "outputs": []
    },
    {
      "cell_type": "code",
      "metadata": {
        "id": "3N7fq1K6WEYw"
      },
      "source": [
        "data2 = data1[:2,3:]\n",
        "data2"
      ],
      "execution_count": null,
      "outputs": []
    },
    {
      "cell_type": "code",
      "metadata": {
        "id": "JDer9q46WEYz"
      },
      "source": [
        "data2[1,2] = -1\n",
        "data2"
      ],
      "execution_count": null,
      "outputs": []
    },
    {
      "cell_type": "code",
      "metadata": {
        "id": "zaNg3AVdWEY0"
      },
      "source": [
        "data1"
      ],
      "execution_count": null,
      "outputs": []
    },
    {
      "cell_type": "code",
      "metadata": {
        "id": "aKFQGJtnWEY1"
      },
      "source": [
        "data1 = np.arange(24).reshape(4,6)\n",
        "data1"
      ],
      "execution_count": null,
      "outputs": []
    },
    {
      "cell_type": "code",
      "metadata": {
        "id": "76uWDlqoWEY2"
      },
      "source": [
        "data2 = data1[:2,3:].copy()\n",
        "data2"
      ],
      "execution_count": null,
      "outputs": []
    },
    {
      "cell_type": "code",
      "metadata": {
        "id": "6hVXi7T2WEY3"
      },
      "source": [
        "data2[1,2] = -1\n",
        "data2"
      ],
      "execution_count": null,
      "outputs": []
    },
    {
      "cell_type": "code",
      "metadata": {
        "id": "fbdh9-_-WEY4"
      },
      "source": [
        "data1"
      ],
      "execution_count": null,
      "outputs": []
    },
    {
      "cell_type": "markdown",
      "metadata": {
        "id": "rVUhYlR6QdYJ"
      },
      "source": [
        "## Introspection"
      ]
    },
    {
      "cell_type": "code",
      "metadata": {
        "id": "-glmPHG1QdYJ"
      },
      "source": [
        "data = np.arange(12).reshape(3,4)\n",
        "data"
      ],
      "execution_count": null,
      "outputs": []
    },
    {
      "cell_type": "code",
      "metadata": {
        "id": "lLhYsqaIQdYK"
      },
      "source": [
        "data.max()"
      ],
      "execution_count": null,
      "outputs": []
    },
    {
      "cell_type": "code",
      "metadata": {
        "id": "SPWXBgfDQdYK"
      },
      "source": [
        "data.min()"
      ],
      "execution_count": null,
      "outputs": []
    },
    {
      "cell_type": "code",
      "metadata": {
        "id": "G0bdUnLJQdYL"
      },
      "source": [
        "data.sum()"
      ],
      "execution_count": null,
      "outputs": []
    },
    {
      "cell_type": "code",
      "metadata": {
        "id": "ilU14SuVQdYN"
      },
      "source": [
        "data.sum(axis=1)"
      ],
      "execution_count": null,
      "outputs": []
    },
    {
      "cell_type": "code",
      "metadata": {
        "id": "tncc8AOoQdYO"
      },
      "source": [
        "data.sum(axis=0)"
      ],
      "execution_count": null,
      "outputs": []
    },
    {
      "cell_type": "code",
      "metadata": {
        "id": "ZGi-C2gjQdYP"
      },
      "source": [
        "data.mean()"
      ],
      "execution_count": null,
      "outputs": []
    },
    {
      "cell_type": "code",
      "metadata": {
        "id": "vVykwF_uQdYT"
      },
      "source": [
        "data.std()"
      ],
      "execution_count": null,
      "outputs": []
    },
    {
      "cell_type": "code",
      "metadata": {
        "id": "g4tMJa4LQdYV"
      },
      "source": [
        "data.std(axis=0)"
      ],
      "execution_count": null,
      "outputs": []
    },
    {
      "cell_type": "code",
      "metadata": {
        "id": "UWQ-MsZ_QdYW"
      },
      "source": [
        "data.std(axis=1)"
      ],
      "execution_count": null,
      "outputs": []
    },
    {
      "cell_type": "markdown",
      "metadata": {
        "id": "HSUezRqOWEY4"
      },
      "source": [
        "## Element by Element Operations"
      ]
    },
    {
      "cell_type": "code",
      "metadata": {
        "id": "4UEGHolM8E4A"
      },
      "source": [
        "L1 = list(range(10))\n",
        "L2 = list(range(10, 0, -1))"
      ],
      "execution_count": null,
      "outputs": []
    },
    {
      "cell_type": "code",
      "metadata": {
        "id": "-Tbpwoonbn5u",
        "colab": {
          "base_uri": "https://localhost:8080/"
        },
        "outputId": "d816ae44-12cd-400f-9a7b-d16459684a16"
      },
      "source": [
        "L1*0"
      ],
      "execution_count": null,
      "outputs": [
        {
          "output_type": "execute_result",
          "data": {
            "text/plain": [
              "[]"
            ]
          },
          "metadata": {},
          "execution_count": 4
        }
      ]
    },
    {
      "cell_type": "code",
      "metadata": {
        "id": "2qyOzc8BWEY_",
        "colab": {
          "base_uri": "https://localhost:8080/"
        },
        "outputId": "147900e4-95f8-4917-dd35-fc7afc661116"
      },
      "source": [
        "L1"
      ],
      "execution_count": null,
      "outputs": [
        {
          "output_type": "execute_result",
          "data": {
            "text/plain": [
              "[0, 1, 2, 3, 4, 5, 6, 7, 8, 9]"
            ]
          },
          "metadata": {},
          "execution_count": 5
        }
      ]
    },
    {
      "cell_type": "code",
      "metadata": {
        "id": "WdXByVu8WEY_",
        "colab": {
          "base_uri": "https://localhost:8080/"
        },
        "outputId": "eb2829f9-165e-4241-ca59-ffc7f24f1077"
      },
      "source": [
        "L2"
      ],
      "execution_count": null,
      "outputs": [
        {
          "output_type": "execute_result",
          "data": {
            "text/plain": [
              "[10, 9, 8, 7, 6, 5, 4, 3, 2, 1]"
            ]
          },
          "metadata": {},
          "execution_count": 6
        }
      ]
    },
    {
      "cell_type": "code",
      "metadata": {
        "id": "ZT1E7wwjKAHC",
        "colab": {
          "base_uri": "https://localhost:8080/"
        },
        "outputId": "4e5032af-afe5-4211-912f-c94103c995a3"
      },
      "source": [
        "L3 = []\n",
        "for i, j in zip(L1, L2):\n",
        "    L3.append(i*j)\n",
        "L3"
      ],
      "execution_count": null,
      "outputs": [
        {
          "output_type": "execute_result",
          "data": {
            "text/plain": [
              "[0, 9, 16, 21, 24, 25, 24, 21, 16, 9]"
            ]
          },
          "metadata": {},
          "execution_count": 7
        }
      ]
    },
    {
      "cell_type": "code",
      "metadata": {
        "id": "BOHyhnGHWEZB",
        "colab": {
          "base_uri": "https://localhost:8080/",
          "height": 166
        },
        "outputId": "9c88cf75-2043-4b6d-dc5e-a92bbd4c7a70"
      },
      "source": [
        "L1*L2"
      ],
      "execution_count": null,
      "outputs": [
        {
          "output_type": "error",
          "ename": "TypeError",
          "evalue": "ignored",
          "traceback": [
            "\u001b[0;31m---------------------------------------------------------------------------\u001b[0m",
            "\u001b[0;31mTypeError\u001b[0m                                 Traceback (most recent call last)",
            "\u001b[0;32m<ipython-input-8-f525a1e96937>\u001b[0m in \u001b[0;36m<module>\u001b[0;34m()\u001b[0m\n\u001b[0;32m----> 1\u001b[0;31m \u001b[0mL1\u001b[0m\u001b[0;34m*\u001b[0m\u001b[0mL2\u001b[0m\u001b[0;34m\u001b[0m\u001b[0;34m\u001b[0m\u001b[0m\n\u001b[0m",
            "\u001b[0;31mTypeError\u001b[0m: can't multiply sequence by non-int of type 'list'"
          ]
        }
      ]
    },
    {
      "cell_type": "code",
      "metadata": {
        "id": "5d3_0cPSKtRt",
        "colab": {
          "base_uri": "https://localhost:8080/"
        },
        "outputId": "a82c08e8-6e7b-4a94-fd6c-a899a9c2c94f"
      },
      "source": [
        "array1 = np.array(L1)\n",
        "array2 = np.array(L2)\n",
        "\n",
        "array1*array2"
      ],
      "execution_count": null,
      "outputs": [
        {
          "output_type": "execute_result",
          "data": {
            "text/plain": [
              "array([ 0,  9, 16, 21, 24, 25, 24, 21, 16,  9])"
            ]
          },
          "metadata": {},
          "execution_count": 9
        }
      ]
    },
    {
      "cell_type": "code",
      "metadata": {
        "id": "8ps6pODuWEZD"
      },
      "source": [
        "array1 + array2"
      ],
      "execution_count": null,
      "outputs": []
    },
    {
      "cell_type": "code",
      "metadata": {
        "id": "UItu4O0HK-Mu"
      },
      "source": [
        "array1 / array2"
      ],
      "execution_count": null,
      "outputs": []
    },
    {
      "cell_type": "markdown",
      "metadata": {
        "id": "yvGsHTbkWEZF"
      },
      "source": [
        "## Setting type"
      ]
    },
    {
      "cell_type": "code",
      "metadata": {
        "id": "XWnNMrHLWEZF"
      },
      "source": [
        "darray = np.arange(100)\n",
        "darray"
      ],
      "execution_count": null,
      "outputs": []
    },
    {
      "cell_type": "code",
      "metadata": {
        "id": "xX1GoWrQWEZG"
      },
      "source": [
        "darray.dtype"
      ],
      "execution_count": null,
      "outputs": []
    },
    {
      "cell_type": "code",
      "metadata": {
        "id": "y-HcncnHWEZH"
      },
      "source": [
        "darray.nbytes"
      ],
      "execution_count": null,
      "outputs": []
    },
    {
      "cell_type": "code",
      "metadata": {
        "id": "ujvib1qkWEZI"
      },
      "source": [
        "darray = np.arange(100, dtype=np.int8)\n",
        "darray"
      ],
      "execution_count": null,
      "outputs": []
    },
    {
      "cell_type": "code",
      "metadata": {
        "id": "oRWalk0RWEZJ"
      },
      "source": [
        "darray.dtype"
      ],
      "execution_count": null,
      "outputs": []
    },
    {
      "cell_type": "code",
      "metadata": {
        "id": "M0cmxG7DWEZK"
      },
      "source": [
        "darray.nbytes"
      ],
      "execution_count": null,
      "outputs": []
    },
    {
      "cell_type": "code",
      "metadata": {
        "id": "ovGZuFfEWEZL"
      },
      "source": [
        "darray[14] = 'a'"
      ],
      "execution_count": null,
      "outputs": []
    },
    {
      "cell_type": "code",
      "metadata": {
        "id": "8xj7mXRKWEZO"
      },
      "source": [
        "darray[14] = 0.5\n",
        "darray[14]"
      ],
      "execution_count": null,
      "outputs": []
    },
    {
      "cell_type": "markdown",
      "metadata": {
        "id": "7XjdzcfOWEZP"
      },
      "source": [
        "## Broadcasting"
      ]
    },
    {
      "cell_type": "code",
      "metadata": {
        "id": "7ZcF_xMGWEZP"
      },
      "source": [
        "A1 = np.array([[1,2,3],\n",
        "               [4,5,6],\n",
        "               [7,8,9]])"
      ],
      "execution_count": null,
      "outputs": []
    },
    {
      "cell_type": "code",
      "metadata": {
        "id": "jQtvXecwWEZQ",
        "colab": {
          "base_uri": "https://localhost:8080/"
        },
        "outputId": "249b3162-6fb4-4b41-ba86-5274e2da7f4c"
      },
      "source": [
        "A2 = np.array([[1,1,1],\n",
        "               [1,1,1],\n",
        "               [1,1,1]])\n",
        "A1 + A2"
      ],
      "execution_count": null,
      "outputs": [
        {
          "output_type": "execute_result",
          "data": {
            "text/plain": [
              "array([[ 2,  3,  4],\n",
              "       [ 5,  6,  7],\n",
              "       [ 8,  9, 10]])"
            ]
          },
          "metadata": {},
          "execution_count": 11
        }
      ]
    },
    {
      "cell_type": "code",
      "metadata": {
        "id": "vGni_zxyWEZR",
        "colab": {
          "base_uri": "https://localhost:8080/"
        },
        "outputId": "fdc28b71-3578-4639-87cf-c72cb4a9af9f"
      },
      "source": [
        "A2 = np.array([1,1,1])\n",
        "A1 + A2"
      ],
      "execution_count": null,
      "outputs": [
        {
          "output_type": "execute_result",
          "data": {
            "text/plain": [
              "array([[ 2,  3,  4],\n",
              "       [ 5,  6,  7],\n",
              "       [ 8,  9, 10]])"
            ]
          },
          "metadata": {},
          "execution_count": 12
        }
      ]
    },
    {
      "cell_type": "code",
      "metadata": {
        "id": "gx7CxRPsWEZS",
        "colab": {
          "base_uri": "https://localhost:8080/"
        },
        "outputId": "2e95a014-a494-477a-9860-352ed4af5fa0"
      },
      "source": [
        "A1 + 1"
      ],
      "execution_count": null,
      "outputs": [
        {
          "output_type": "execute_result",
          "data": {
            "text/plain": [
              "array([[ 2,  3,  4],\n",
              "       [ 5,  6,  7],\n",
              "       [ 8,  9, 10]])"
            ]
          },
          "metadata": {},
          "execution_count": 13
        }
      ]
    },
    {
      "cell_type": "code",
      "metadata": {
        "id": "FG4i1fGyWEZT",
        "colab": {
          "base_uri": "https://localhost:8080/"
        },
        "outputId": "bbe0600c-9e31-4cc1-9b47-2d2a5a4fc522"
      },
      "source": [
        "A4 = np.arange(10).reshape(2,1,5)\n",
        "A4"
      ],
      "execution_count": null,
      "outputs": [
        {
          "output_type": "execute_result",
          "data": {
            "text/plain": [
              "array([[[0, 1, 2, 3, 4]],\n",
              "\n",
              "       [[5, 6, 7, 8, 9]]])"
            ]
          },
          "metadata": {},
          "execution_count": 14
        }
      ]
    },
    {
      "cell_type": "code",
      "metadata": {
        "id": "2bSFh90rWEZU",
        "colab": {
          "base_uri": "https://localhost:8080/"
        },
        "outputId": "55cfdaf9-2851-4af8-9929-66a75c4487cc"
      },
      "source": [
        "A5 = np.arange(14).reshape(2,7,1)\n",
        "A5"
      ],
      "execution_count": null,
      "outputs": [
        {
          "output_type": "execute_result",
          "data": {
            "text/plain": [
              "array([[[ 0],\n",
              "        [ 1],\n",
              "        [ 2],\n",
              "        [ 3],\n",
              "        [ 4],\n",
              "        [ 5],\n",
              "        [ 6]],\n",
              "\n",
              "       [[ 7],\n",
              "        [ 8],\n",
              "        [ 9],\n",
              "        [10],\n",
              "        [11],\n",
              "        [12],\n",
              "        [13]]])"
            ]
          },
          "metadata": {},
          "execution_count": 15
        }
      ]
    },
    {
      "cell_type": "code",
      "metadata": {
        "id": "3ry5_2TiWEZW",
        "colab": {
          "base_uri": "https://localhost:8080/"
        },
        "outputId": "2f922424-1343-4676-ffb6-dfca29297472"
      },
      "source": [
        "A6 = A4 - A5\n",
        "A6"
      ],
      "execution_count": null,
      "outputs": [
        {
          "output_type": "execute_result",
          "data": {
            "text/plain": [
              "array([[[ 0,  1,  2,  3,  4],\n",
              "        [-1,  0,  1,  2,  3],\n",
              "        [-2, -1,  0,  1,  2],\n",
              "        [-3, -2, -1,  0,  1],\n",
              "        [-4, -3, -2, -1,  0],\n",
              "        [-5, -4, -3, -2, -1],\n",
              "        [-6, -5, -4, -3, -2]],\n",
              "\n",
              "       [[-2, -1,  0,  1,  2],\n",
              "        [-3, -2, -1,  0,  1],\n",
              "        [-4, -3, -2, -1,  0],\n",
              "        [-5, -4, -3, -2, -1],\n",
              "        [-6, -5, -4, -3, -2],\n",
              "        [-7, -6, -5, -4, -3],\n",
              "        [-8, -7, -6, -5, -4]]])"
            ]
          },
          "metadata": {},
          "execution_count": 16
        }
      ]
    },
    {
      "cell_type": "code",
      "metadata": {
        "id": "IY6F-SmkWEZX",
        "colab": {
          "base_uri": "https://localhost:8080/"
        },
        "outputId": "d2e5a4d7-08cb-4a38-ed0c-f511f081d702"
      },
      "source": [
        "A6.shape"
      ],
      "execution_count": null,
      "outputs": [
        {
          "output_type": "execute_result",
          "data": {
            "text/plain": [
              "(2, 7, 5)"
            ]
          },
          "metadata": {},
          "execution_count": 17
        }
      ]
    },
    {
      "cell_type": "code",
      "metadata": {
        "id": "ALBgJ_IiWEZY"
      },
      "source": [
        "## Matrix Operations"
      ],
      "execution_count": null,
      "outputs": []
    },
    {
      "cell_type": "code",
      "metadata": {
        "id": "B3ibk52QQdY_",
        "colab": {
          "base_uri": "https://localhost:8080/"
        },
        "outputId": "a27e5c9c-3c6e-48d8-869c-9439197ab2d1"
      },
      "source": [
        "A1 = np.arange(9).reshape(3,3)\n",
        "A1"
      ],
      "execution_count": null,
      "outputs": [
        {
          "output_type": "execute_result",
          "data": {
            "text/plain": [
              "array([[0, 1, 2],\n",
              "       [3, 4, 5],\n",
              "       [6, 7, 8]])"
            ]
          },
          "metadata": {},
          "execution_count": 19
        }
      ]
    },
    {
      "cell_type": "code",
      "metadata": {
        "id": "-KtvcPbFQdZA",
        "colab": {
          "base_uri": "https://localhost:8080/"
        },
        "outputId": "38c742fd-0263-4b22-ba8a-410841d904c6"
      },
      "source": [
        "A1.T"
      ],
      "execution_count": null,
      "outputs": [
        {
          "output_type": "execute_result",
          "data": {
            "text/plain": [
              "array([[0, 3, 6],\n",
              "       [1, 4, 7],\n",
              "       [2, 5, 8]])"
            ]
          },
          "metadata": {},
          "execution_count": 20
        }
      ]
    },
    {
      "cell_type": "code",
      "metadata": {
        "id": "xUPjc_s7QdZB",
        "colab": {
          "base_uri": "https://localhost:8080/"
        },
        "outputId": "2fc949a4-e3a4-48fd-a2ed-ca5d74002c19"
      },
      "source": [
        "A2 = np.ones(9).reshape(3,3)\n",
        "A2"
      ],
      "execution_count": null,
      "outputs": [
        {
          "output_type": "execute_result",
          "data": {
            "text/plain": [
              "array([[1., 1., 1.],\n",
              "       [1., 1., 1.],\n",
              "       [1., 1., 1.]])"
            ]
          },
          "metadata": {},
          "execution_count": 21
        }
      ]
    },
    {
      "cell_type": "code",
      "metadata": {
        "id": "Z6jciomYQdZC",
        "colab": {
          "base_uri": "https://localhost:8080/"
        },
        "outputId": "5c28dc6a-583b-489f-ac65-295591ba44c5"
      },
      "source": [
        "A1 @ A2 # matrix product"
      ],
      "execution_count": null,
      "outputs": [
        {
          "output_type": "execute_result",
          "data": {
            "text/plain": [
              "array([[ 3.,  3.,  3.],\n",
              "       [12., 12., 12.],\n",
              "       [21., 21., 21.]])"
            ]
          },
          "metadata": {},
          "execution_count": 22
        }
      ]
    },
    {
      "cell_type": "code",
      "metadata": {
        "id": "FpDMqRQYQdZD",
        "colab": {
          "base_uri": "https://localhost:8080/"
        },
        "outputId": "70204999-723d-4fd1-83a3-ba82ab2eed58"
      },
      "source": [
        "A1.dot(A2)"
      ],
      "execution_count": null,
      "outputs": [
        {
          "output_type": "execute_result",
          "data": {
            "text/plain": [
              "array([[ 3.,  3.,  3.],\n",
              "       [12., 12., 12.],\n",
              "       [21., 21., 21.]])"
            ]
          },
          "metadata": {},
          "execution_count": 23
        }
      ]
    },
    {
      "cell_type": "code",
      "metadata": {
        "id": "7eaMr58JQdZD"
      },
      "source": [
        "A1.diagonal()"
      ],
      "execution_count": null,
      "outputs": []
    },
    {
      "cell_type": "markdown",
      "metadata": {
        "id": "Eh7Elq7nQdZE"
      },
      "source": [
        ""
      ]
    },
    {
      "cell_type": "code",
      "metadata": {
        "id": "zKCqDHyvQdZE",
        "colab": {
          "base_uri": "https://localhost:8080/"
        },
        "outputId": "94f552aa-1ad9-4486-b5b8-be0625a3c1d3"
      },
      "source": [
        "d1 = np.array([[0, 1, 3], \n",
        "               [4, 2, 9]])\n",
        "d1\n"
      ],
      "execution_count": null,
      "outputs": [
        {
          "output_type": "execute_result",
          "data": {
            "text/plain": [
              "array([[0, 1, 3],\n",
              "       [4, 2, 9]])"
            ]
          },
          "metadata": {
            "tags": []
          },
          "execution_count": 2
        }
      ]
    },
    {
      "cell_type": "code",
      "metadata": {
        "id": "fD2HL2ngQdZF",
        "colab": {
          "base_uri": "https://localhost:8080/"
        },
        "outputId": "ed71b164-7d49-4128-fbf0-5f7c0e2177c6"
      },
      "source": [
        "d2 = d1[:, 1:]\n",
        "d2"
      ],
      "execution_count": null,
      "outputs": [
        {
          "output_type": "execute_result",
          "data": {
            "text/plain": [
              "array([[1, 3],\n",
              "       [2, 9]])"
            ]
          },
          "metadata": {
            "tags": []
          },
          "execution_count": 3
        }
      ]
    },
    {
      "cell_type": "code",
      "metadata": {
        "id": "fUEZwFnUtAYF",
        "colab": {
          "base_uri": "https://localhost:8080/"
        },
        "outputId": "0e2a7523-4879-4ed1-a84f-a814adb8c669"
      },
      "source": [
        "d2[0,1] = 0\n",
        "d2"
      ],
      "execution_count": null,
      "outputs": [
        {
          "output_type": "execute_result",
          "data": {
            "text/plain": [
              "array([[1, 0],\n",
              "       [2, 9]])"
            ]
          },
          "metadata": {
            "tags": []
          },
          "execution_count": 4
        }
      ]
    },
    {
      "cell_type": "code",
      "metadata": {
        "id": "lSFxF4xutAYG",
        "colab": {
          "base_uri": "https://localhost:8080/"
        },
        "outputId": "d3e41b57-316a-4e74-d062-c84d9a526ab1"
      },
      "source": [
        "d1"
      ],
      "execution_count": null,
      "outputs": [
        {
          "output_type": "execute_result",
          "data": {
            "text/plain": [
              "array([[0, 1, 0],\n",
              "       [4, 2, 9]])"
            ]
          },
          "metadata": {
            "tags": []
          },
          "execution_count": 5
        }
      ]
    },
    {
      "cell_type": "code",
      "metadata": {
        "id": "gtOd7WDftAYH"
      },
      "source": [
        "d1[0,2]"
      ],
      "execution_count": null,
      "outputs": []
    },
    {
      "cell_type": "code",
      "metadata": {
        "id": "8q8GB6PPtAYJ",
        "colab": {
          "base_uri": "https://localhost:8080/"
        },
        "outputId": "c4546592-cd6a-4821-fa60-d860bbce7c03"
      },
      "source": [
        "import numpy as np\n",
        "np.arange(9) + 2\n"
      ],
      "execution_count": null,
      "outputs": [
        {
          "output_type": "execute_result",
          "data": {
            "text/plain": [
              "array([ 2,  3,  4,  5,  6,  7,  8,  9, 10])"
            ]
          },
          "metadata": {
            "tags": []
          },
          "execution_count": 2
        }
      ]
    }
  ]
}
