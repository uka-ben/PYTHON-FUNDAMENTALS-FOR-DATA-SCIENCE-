{
  "nbformat": 4,
  "nbformat_minor": 0,
  "metadata": {
    "colab": {
      "name": "Copy of Chpt12-NLTK.ipynb",
      "provenance": [],
      "toc_visible": true,
      "authorship_tag": "ABX9TyOmHzpoaWMUT3UI8HAUZPp7",
      "include_colab_link": true
    },
    "kernelspec": {
      "name": "python3",
      "display_name": "Python 3"
    }
  },
  "cells": [
    {
      "cell_type": "markdown",
      "metadata": {
        "id": "view-in-github",
        "colab_type": "text"
      },
      "source": [
        "<a href=\"https://colab.research.google.com/github/kbehrman/foundational-python-for-data-science/blob/main/Chapter-12%3ANLTK.ipynb\" target=\"_parent\"><img src=\"https://colab.research.google.com/assets/colab-badge.svg\" alt=\"Open In Colab\"/></a>"
      ]
    },
    {
      "cell_type": "code",
      "metadata": {
        "colab": {
          "base_uri": "https://localhost:8080/"
        },
        "id": "snmebH8KRGMa",
        "outputId": "bf714ffc-4f8d-45b6-8e26-07567c77fa91"
      },
      "source": [
        "!python --version"
      ],
      "execution_count": null,
      "outputs": [
        {
          "output_type": "stream",
          "name": "stdout",
          "text": [
            "Python 3.7.13\n"
          ]
        }
      ]
    },
    {
      "cell_type": "markdown",
      "metadata": {
        "id": "wjybrk_TVxzI"
      },
      "source": [
        "Using a computer to derive insights into text is widely useful. The subset of data science which addresses this is natural language processing. The natural language tookkit, nltk, is a python package for all things language processing. In this chapter we'll take a quick look at this powerful package. "
      ]
    },
    {
      "cell_type": "markdown",
      "metadata": {
        "id": "79Fk0QwPXtCu"
      },
      "source": [
        "## Sample texts\n",
        "\n",
        "The nltk package offers sample texts from many sources. These can be downloaded and then used to explore language processing. [Project Gutenberg](http://www.gutenberg.org/) is a project to put books online. It is comprised largely of books in the public domain. A subset of this collection is available for download for use with nltk. First we download the data using the nltk.download() function. This function will download the data into a nltk_data/corpora directry in our homedrive. "
      ]
    },
    {
      "cell_type": "code",
      "metadata": {
        "id": "ZDpn7qVZBlsu"
      },
      "source": [
        "import nltk"
      ],
      "execution_count": null,
      "outputs": []
    },
    {
      "cell_type": "code",
      "metadata": {
        "colab": {
          "base_uri": "https://localhost:8080/"
        },
        "id": "VQ1Grj5dkLCC",
        "outputId": "b54ae8ee-6b85-4892-a05a-348ef2535b80"
      },
      "source": [
        "nltk.download('gutenberg')"
      ],
      "execution_count": null,
      "outputs": [
        {
          "output_type": "stream",
          "name": "stdout",
          "text": [
            "[nltk_data] Downloading package gutenberg to /root/nltk_data...\n",
            "[nltk_data]   Unzipping corpora/gutenberg.zip.\n"
          ]
        },
        {
          "output_type": "execute_result",
          "data": {
            "text/plain": [
              "True"
            ]
          },
          "metadata": {},
          "execution_count": 3
        }
      ]
    },
    {
      "cell_type": "markdown",
      "metadata": {
        "id": "eEyYcNbYaMHS"
      },
      "source": [
        "We can then import the data into our python session as a corpus reader object. "
      ]
    },
    {
      "cell_type": "code",
      "metadata": {
        "colab": {
          "base_uri": "https://localhost:8080/"
        },
        "id": "kkvmX-rtbfyY",
        "outputId": "7bae3236-f79a-4f7e-9dd0-aaf6ca6e3761"
      },
      "source": [
        "from nltk.corpus import gutenberg\n",
        "gutenberg"
      ],
      "execution_count": null,
      "outputs": [
        {
          "output_type": "execute_result",
          "data": {
            "text/plain": [
              "<PlaintextCorpusReader in '/root/nltk_data/corpora/gutenberg'>"
            ]
          },
          "metadata": {},
          "execution_count": 4
        }
      ]
    },
    {
      "cell_type": "markdown",
      "metadata": {
        "id": "BCBJhXiqa8pg"
      },
      "source": [
        "There are corpus readers for different type of text source, in this case we are using a PlantextCorpusReader. We can list the individual texts using the fileids() method. This lists the file names, which can be used to load the texts themselves."
      ]
    },
    {
      "cell_type": "code",
      "metadata": {
        "colab": {
          "base_uri": "https://localhost:8080/"
        },
        "id": "_DsSpHp1oFSZ",
        "outputId": "a8fa40e8-79db-43d0-f166-eb296bfc95fe"
      },
      "source": [
        "gutenberg.fileids()"
      ],
      "execution_count": null,
      "outputs": [
        {
          "output_type": "execute_result",
          "data": {
            "text/plain": [
              "['austen-emma.txt',\n",
              " 'austen-persuasion.txt',\n",
              " 'austen-sense.txt',\n",
              " 'bible-kjv.txt',\n",
              " 'blake-poems.txt',\n",
              " 'bryant-stories.txt',\n",
              " 'burgess-busterbrown.txt',\n",
              " 'carroll-alice.txt',\n",
              " 'chesterton-ball.txt',\n",
              " 'chesterton-brown.txt',\n",
              " 'chesterton-thursday.txt',\n",
              " 'edgeworth-parents.txt',\n",
              " 'melville-moby_dick.txt',\n",
              " 'milton-paradise.txt',\n",
              " 'shakespeare-caesar.txt',\n",
              " 'shakespeare-hamlet.txt',\n",
              " 'shakespeare-macbeth.txt',\n",
              " 'whitman-leaves.txt']"
            ]
          },
          "metadata": {},
          "execution_count": 5
        }
      ]
    },
    {
      "cell_type": "markdown",
      "metadata": {
        "id": "q6708VXOasfG"
      },
      "source": [
        "The corpus reader has different methods for reading the text. We can load the text broken into individual words, sentences, or paragraphs. In fig... we demonstrate opening the text to William Shakespeares Julius Casear in all three formats."
      ]
    },
    {
      "cell_type": "code",
      "metadata": {
        "id": "LnUE02N7lzTM",
        "colab": {
          "base_uri": "https://localhost:8080/"
        },
        "outputId": "8fc95eeb-eea5-48e5-d35c-112e47556135"
      },
      "source": [
        "caesar_w = gutenberg.words('shakespeare-caesar.txt')\n",
        "caesar_w"
      ],
      "execution_count": null,
      "outputs": [
        {
          "output_type": "execute_result",
          "data": {
            "text/plain": [
              "['[', 'The', 'Tragedie', 'of', 'Julius', 'Caesar', ...]"
            ]
          },
          "metadata": {},
          "execution_count": 6
        }
      ]
    },
    {
      "cell_type": "code",
      "metadata": {
        "colab": {
          "base_uri": "https://localhost:8080/"
        },
        "id": "kkHIwDFlnsks",
        "outputId": "b2262d48-47ab-4076-c55b-cdae65096145"
      },
      "source": [
        "nltk.download('punkt')"
      ],
      "execution_count": null,
      "outputs": [
        {
          "output_type": "stream",
          "name": "stdout",
          "text": [
            "[nltk_data] Downloading package punkt to /root/nltk_data...\n",
            "[nltk_data]   Unzipping tokenizers/punkt.zip.\n"
          ]
        },
        {
          "output_type": "execute_result",
          "data": {
            "text/plain": [
              "True"
            ]
          },
          "metadata": {},
          "execution_count": 7
        }
      ]
    },
    {
      "cell_type": "code",
      "metadata": {
        "colab": {
          "base_uri": "https://localhost:8080/"
        },
        "id": "NFu6t8QCb3vH",
        "outputId": "67b143b0-50f3-47bf-f3c3-b45f950e875c"
      },
      "source": [
        "caesar_s = gutenberg.sents('shakespeare-caesar.txt')\n",
        "caesar_s"
      ],
      "execution_count": null,
      "outputs": [
        {
          "output_type": "execute_result",
          "data": {
            "text/plain": [
              "[['[', 'The', 'Tragedie', 'of', 'Julius', 'Caesar', 'by', 'William', 'Shakespeare', '1599', ']'], ['Actus', 'Primus', '.'], ...]"
            ]
          },
          "metadata": {},
          "execution_count": 8
        }
      ]
    },
    {
      "cell_type": "code",
      "metadata": {
        "colab": {
          "base_uri": "https://localhost:8080/"
        },
        "id": "WZJBqoSWcBpA",
        "outputId": "b05e0da9-ca33-4afa-e241-544114b48363"
      },
      "source": [
        "caesar_p = gutenberg.paras('shakespeare-caesar.txt')\n",
        "caesar_p"
      ],
      "execution_count": null,
      "outputs": [
        {
          "output_type": "execute_result",
          "data": {
            "text/plain": [
              "[[['[', 'The', 'Tragedie', 'of', 'Julius', 'Caesar', 'by', 'William', 'Shakespeare', '1599', ']']], [['Actus', 'Primus', '.'], ['Scoena', 'Prima', '.']], ...]"
            ]
          },
          "metadata": {},
          "execution_count": 9
        }
      ]
    },
    {
      "cell_type": "markdown",
      "metadata": {
        "id": "W34ghNATcVNN"
      },
      "source": [
        "Notice that before we could parse the text into sentences, we needed to download the punkt tokenizer. A tokenizer is used to break up, or tokenize, a piece of text. The punkt tokenizer is used to break text into sentences. It is designed to work on texts of numerious languages. \n",
        "\n",
        "If we look at the nltk sub-directory of our home directory using the shell command ls, we can see there are directories for corpora and tokenizers. In the corpora directory we can see the collection we have downloaded. In the tokenizers directory, the tokenizers we have downloaded. In the punkt subdirectory, there are files for each language covered."
      ]
    },
    {
      "cell_type": "code",
      "metadata": {
        "colab": {
          "base_uri": "https://localhost:8080/"
        },
        "id": "l8RpZp7Yeg2Q",
        "outputId": "36c662ce-495a-4005-c800-641a66757704"
      },
      "source": [
        "!ls ~/nltk_data"
      ],
      "execution_count": null,
      "outputs": [
        {
          "output_type": "stream",
          "name": "stdout",
          "text": [
            "corpora  tokenizers\n"
          ]
        }
      ]
    },
    {
      "cell_type": "code",
      "metadata": {
        "colab": {
          "base_uri": "https://localhost:8080/"
        },
        "id": "W1u-gVoqe2-g",
        "outputId": "829d41a9-3240-4376-f589-c8c9418bf51d"
      },
      "source": [
        "!ls ~/nltk_data/corpora"
      ],
      "execution_count": null,
      "outputs": [
        {
          "output_type": "stream",
          "name": "stdout",
          "text": [
            "gutenberg  gutenberg.zip\n"
          ]
        }
      ]
    },
    {
      "cell_type": "code",
      "metadata": {
        "colab": {
          "base_uri": "https://localhost:8080/"
        },
        "id": "TXeXEKlefBlh",
        "outputId": "81ed72eb-3340-4042-d6e8-d1cb5960f70c"
      },
      "source": [
        "!ls ~/nltk_data/tokenizers"
      ],
      "execution_count": null,
      "outputs": [
        {
          "output_type": "stream",
          "name": "stdout",
          "text": [
            "punkt  punkt.zip\n"
          ]
        }
      ]
    },
    {
      "cell_type": "code",
      "metadata": {
        "colab": {
          "base_uri": "https://localhost:8080/"
        },
        "id": "RJmbuOYTfHNV",
        "outputId": "ca9f4822-5425-40dd-e346-1d7973b4aecc"
      },
      "source": [
        "!ls ~/nltk_data/tokenizers/punkt"
      ],
      "execution_count": null,
      "outputs": [
        {
          "output_type": "stream",
          "name": "stdout",
          "text": [
            "czech.pickle\t finnish.pickle  norwegian.pickle   russian.pickle\n",
            "danish.pickle\t french.pickle\t polish.pickle\t    slovene.pickle\n",
            "dutch.pickle\t german.pickle\t portuguese.pickle  spanish.pickle\n",
            "english.pickle\t greek.pickle\t PY3\t\t    swedish.pickle\n",
            "estonian.pickle  italian.pickle  README\t\t    turkish.pickle\n"
          ]
        }
      ]
    },
    {
      "cell_type": "markdown",
      "metadata": {
        "id": "Trv3xS2eyQgf"
      },
      "source": [
        "## Frequency Distributions\n",
        "\n",
        "We can count the number of occurances of each word in the text using the nltk.FreqDist class. Here we use a FreqDist to see the most common words in the text:"
      ]
    },
    {
      "cell_type": "code",
      "metadata": {
        "colab": {
          "base_uri": "https://localhost:8080/"
        },
        "id": "Es2dxfiInuwM",
        "outputId": "5c7d9621-7895-4636-8709-e0234807caa6"
      },
      "source": [
        "ceasar_dist = nltk.FreqDist(caesar_w)\n",
        "ceasar_dist.most_common(15)"
      ],
      "execution_count": null,
      "outputs": [
        {
          "output_type": "execute_result",
          "data": {
            "text/plain": [
              "[(',', 2204),\n",
              " ('.', 1296),\n",
              " ('I', 531),\n",
              " ('the', 502),\n",
              " (':', 499),\n",
              " ('and', 409),\n",
              " (\"'\", 384),\n",
              " ('to', 370),\n",
              " ('you', 342),\n",
              " ('of', 336),\n",
              " ('?', 296),\n",
              " ('not', 249),\n",
              " ('a', 240),\n",
              " ('is', 230),\n",
              " ('And', 218)]"
            ]
          },
          "metadata": {},
          "execution_count": 14
        }
      ]
    },
    {
      "cell_type": "markdown",
      "metadata": {
        "id": "bdR-F3osTeji"
      },
      "source": [
        "If we want to see the most common words without including punctuation marks, we can filter them out. The standard library string module has a punction attribute that we can leverage. In listing ... we loop through the original words of the text. With each item, we check if it is a punctuation mark, and if it is not, add it to a new list, caesar_r. We compare the lengths of the original and the filtered to see that there were 4,960 punctuation marks in the text. We then make a new frequency distribution to see the most common non-punctuation words."
      ]
    },
    {
      "cell_type": "code",
      "metadata": {
        "colab": {
          "base_uri": "https://localhost:8080/",
          "height": 35
        },
        "id": "OoTZWAgDVjeb",
        "outputId": "db8f3ce7-b851-435b-b093-aaf9d7dacb00"
      },
      "source": [
        "import string\n",
        "string.punctuation"
      ],
      "execution_count": null,
      "outputs": [
        {
          "output_type": "execute_result",
          "data": {
            "text/plain": [
              "'!\"#$%&\\'()*+,-./:;<=>?@[\\\\]^_`{|}~'"
            ],
            "application/vnd.google.colaboratory.intrinsic+json": {
              "type": "string"
            }
          },
          "metadata": {},
          "execution_count": 15
        }
      ]
    },
    {
      "cell_type": "code",
      "metadata": {
        "colab": {
          "base_uri": "https://localhost:8080/"
        },
        "id": "I4Kwb0FQVzFK",
        "outputId": "a52b0858-a93b-41e8-8d69-19562831a893"
      },
      "source": [
        "caesar_r = []\n",
        "for word in caesar_w:\n",
        "    if word not in string.punctuation:\n",
        "        caesar_r.append(word)\n",
        "\n",
        "len(caesar_w) - len(caesar_r)"
      ],
      "execution_count": null,
      "outputs": [
        {
          "output_type": "execute_result",
          "data": {
            "text/plain": [
              "4960"
            ]
          },
          "metadata": {},
          "execution_count": 16
        }
      ]
    },
    {
      "cell_type": "code",
      "metadata": {
        "colab": {
          "base_uri": "https://localhost:8080/"
        },
        "id": "uyuiNO87WpWQ",
        "outputId": "b21febd7-66e0-410b-8fe0-7be0dcf7fd9f"
      },
      "source": [
        "ceasar_dist = nltk.FreqDist(caesar_r)\n",
        "ceasar_dist.most_common(15)"
      ],
      "execution_count": null,
      "outputs": [
        {
          "output_type": "execute_result",
          "data": {
            "text/plain": [
              "[('I', 531),\n",
              " ('the', 502),\n",
              " ('and', 409),\n",
              " ('to', 370),\n",
              " ('you', 342),\n",
              " ('of', 336),\n",
              " ('not', 249),\n",
              " ('a', 240),\n",
              " ('is', 230),\n",
              " ('And', 218),\n",
              " ('d', 215),\n",
              " ('in', 204),\n",
              " ('that', 200),\n",
              " ('Caesar', 189),\n",
              " ('my', 188)]"
            ]
          },
          "metadata": {},
          "execution_count": 17
        }
      ]
    },
    {
      "cell_type": "markdown",
      "metadata": {
        "id": "wcRPRWgxYIWr"
      },
      "source": [
        "We see that 'Caesar' is in the text 189 times. The other common words do not give us much insight. If we wish to filter out common words such as 'the' and 'is', nltk supplies us with a corpus called stopwords. In listing ... we download this corpus, and filter these words out before making a new frequency distribution."
      ]
    },
    {
      "cell_type": "code",
      "metadata": {
        "colab": {
          "base_uri": "https://localhost:8080/"
        },
        "id": "jnSB2IYZBhnr",
        "outputId": "75755d52-a159-4517-992c-7aef2fc1b097"
      },
      "source": [
        "nltk.download('stopwords')\n",
        "from nltk.corpus import stopwords"
      ],
      "execution_count": null,
      "outputs": [
        {
          "output_type": "stream",
          "name": "stdout",
          "text": [
            "[nltk_data] Downloading package stopwords to /root/nltk_data...\n",
            "[nltk_data]   Unzipping corpora/stopwords.zip.\n"
          ]
        }
      ]
    },
    {
      "cell_type": "code",
      "metadata": {
        "colab": {
          "base_uri": "https://localhost:8080/"
        },
        "id": "Xn6bTYrkY2Gx",
        "outputId": "b525bf4b-d13d-4ff6-f725-c8c6b9247324"
      },
      "source": [
        "english_stopwords = stopwords.words('english')\n",
        "english_stopwords[:10]"
      ],
      "execution_count": null,
      "outputs": [
        {
          "output_type": "execute_result",
          "data": {
            "text/plain": [
              "['i', 'me', 'my', 'myself', 'we', 'our', 'ours', 'ourselves', 'you', \"you're\"]"
            ]
          },
          "metadata": {},
          "execution_count": 19
        }
      ]
    },
    {
      "cell_type": "code",
      "metadata": {
        "colab": {
          "base_uri": "https://localhost:8080/"
        },
        "id": "llAhT6TrWGQD",
        "outputId": "187fddb3-22ab-4906-ee9d-505696d50667"
      },
      "source": [
        "caesar_r = []\n",
        "for word in caesar_w:\n",
        "    if word not in string.punctuation:\n",
        "        if word.lower() not in english_stopwords:\n",
        "            caesar_r.append(word)\n",
        "\n",
        "len(caesar_w) - len(caesar_r)"
      ],
      "execution_count": null,
      "outputs": [
        {
          "output_type": "execute_result",
          "data": {
            "text/plain": [
              "14706"
            ]
          },
          "metadata": {},
          "execution_count": 20
        }
      ]
    },
    {
      "cell_type": "code",
      "metadata": {
        "colab": {
          "base_uri": "https://localhost:8080/"
        },
        "id": "ySRV9EorDU_7",
        "outputId": "fb248e69-4bfc-4508-e4f1-0340d4c913f6"
      },
      "source": [
        "caesar_dist = nltk.FreqDist(caesar_r)\n",
        "caesar_dist.most_common(15)"
      ],
      "execution_count": null,
      "outputs": [
        {
          "output_type": "execute_result",
          "data": {
            "text/plain": [
              "[('Caesar', 189),\n",
              " ('Brutus', 161),\n",
              " ('Bru', 153),\n",
              " ('haue', 128),\n",
              " ('shall', 107),\n",
              " ('Cassi', 107),\n",
              " ('thou', 100),\n",
              " ('Cassius', 85),\n",
              " ('Antony', 75),\n",
              " ('know', 66),\n",
              " ('Enter', 63),\n",
              " ('men', 62),\n",
              " ('vs', 62),\n",
              " ('man', 58),\n",
              " ('thee', 55)]"
            ]
          },
          "metadata": {},
          "execution_count": 21
        }
      ]
    },
    {
      "cell_type": "markdown",
      "metadata": {
        "id": "R9VN2JpnZ-Pq"
      },
      "source": [
        "Our most common words now give us more insight into the text, we can see which characters are mentioned the most. Not surprisingly Caesar and Brutus are at the top. \n",
        "\n",
        "In listing ... we look at some of the methods of the FreqDist class. "
      ]
    },
    {
      "cell_type": "code",
      "metadata": {
        "colab": {
          "base_uri": "https://localhost:8080/",
          "height": 35
        },
        "id": "vQwSmr18DrDh",
        "outputId": "455b05ee-75fa-4621-d103-9d1137df1fe9"
      },
      "source": [
        "caesar_dist.max()"
      ],
      "execution_count": null,
      "outputs": [
        {
          "output_type": "execute_result",
          "data": {
            "text/plain": [
              "'Caesar'"
            ],
            "application/vnd.google.colaboratory.intrinsic+json": {
              "type": "string"
            }
          },
          "metadata": {},
          "execution_count": 22
        }
      ]
    },
    {
      "cell_type": "code",
      "metadata": {
        "colab": {
          "base_uri": "https://localhost:8080/"
        },
        "id": "wtmbB58mFqoX",
        "outputId": "70e91e1a-adad-4220-e5ec-8f88bb0f9358"
      },
      "source": [
        "caesar_dist['Cassi']"
      ],
      "execution_count": null,
      "outputs": [
        {
          "output_type": "execute_result",
          "data": {
            "text/plain": [
              "107"
            ]
          },
          "metadata": {},
          "execution_count": 23
        }
      ]
    },
    {
      "cell_type": "code",
      "metadata": {
        "colab": {
          "base_uri": "https://localhost:8080/"
        },
        "id": "xH4GdoYEGF6t",
        "outputId": "d902da34-b426-4319-adb0-66406eb51d49"
      },
      "source": [
        "caesar_dist.freq('Cassi')"
      ],
      "execution_count": null,
      "outputs": [
        {
          "output_type": "execute_result",
          "data": {
            "text/plain": [
              "0.009616248764267098"
            ]
          },
          "metadata": {},
          "execution_count": 24
        }
      ]
    },
    {
      "cell_type": "code",
      "metadata": {
        "colab": {
          "base_uri": "https://localhost:8080/"
        },
        "id": "VbX3VISPGPQY",
        "outputId": "4c3c81b2-104f-4d30-8274-cb974b4a4774"
      },
      "source": [
        "caesar_dist.N()"
      ],
      "execution_count": null,
      "outputs": [
        {
          "output_type": "execute_result",
          "data": {
            "text/plain": [
              "11127"
            ]
          },
          "metadata": {},
          "execution_count": 25
        }
      ]
    },
    {
      "cell_type": "code",
      "metadata": {
        "colab": {
          "base_uri": "https://localhost:8080/"
        },
        "id": "nRiF_3mlHpdq",
        "outputId": "ec8e7fa5-738e-4763-e498-ca8e82ef5386"
      },
      "source": [
        "caesar_dist.tabulate(10)"
      ],
      "execution_count": null,
      "outputs": [
        {
          "output_type": "stream",
          "name": "stdout",
          "text": [
            " Caesar  Brutus     Bru    haue   shall   Cassi    thou Cassius  Antony    know \n",
            "    189     161     153     128     107     107     100      85      75      66 \n"
          ]
        }
      ]
    },
    {
      "cell_type": "code",
      "metadata": {
        "colab": {
          "base_uri": "https://localhost:8080/",
          "height": 275
        },
        "id": "Tl2RSFh6Hvrw",
        "outputId": "efa0b92c-ec86-4c7c-c612-a20ba18d39fd"
      },
      "source": [
        "import matplotlib.pyplot as plt\n",
        "fig = plt.figure()\n",
        "plt.gcf().subplots_adjust(bottom=0.30) # to avoid x-ticks cut-off\n",
        "\n",
        "caesar_dist.plot(10)\n",
        "plt.tight_layout()"
      ],
      "execution_count": null,
      "outputs": [
        {
          "output_type": "display_data",
          "data": {
            "text/plain": [
              "<Figure size 432x288 with 1 Axes>"
            ],
            "image/png": "[encoded data removed]"
          },
          "metadata": {
            "needs_background": "light"
          }
        },
        {
          "output_type": "display_data",
          "data": {
            "text/plain": [
              "<Figure size 432x288 with 0 Axes>"
            ]
          },
          "metadata": {}
        }
      ]
    },
    {
      "cell_type": "markdown",
      "metadata": {
        "id": "hNN09u1pcPC_"
      },
      "source": [
        "## Text Objects\n",
        "\n",
        "The nltk library offers a Text class. This class wraps up functionality useful when first exploring a new text. The Text class takes a list of words as an argument during initialization."
      ]
    },
    {
      "cell_type": "code",
      "metadata": {
        "colab": {
          "base_uri": "https://localhost:8080/"
        },
        "id": "NJ9Z3UC2IUpc",
        "outputId": "9f910969-3beb-419b-8fa1-3468568c6c5a"
      },
      "source": [
        "from nltk.text import Text  \n",
        "caesar_t = Text(caesar_w)\n",
        "type(caesar_t)"
      ],
      "execution_count": null,
      "outputs": [
        {
          "output_type": "execute_result",
          "data": {
            "text/plain": [
              "nltk.text.Text"
            ]
          },
          "metadata": {},
          "execution_count": 30
        }
      ]
    },
    {
      "cell_type": "markdown",
      "metadata": {
        "id": "Pnjf4VdfYAJT"
      },
      "source": [
        "The concordance method shows the context around a given word. Here we get five examples of 'Antony' in context:"
      ]
    },
    {
      "cell_type": "code",
      "metadata": {
        "colab": {
          "base_uri": "https://localhost:8080/"
        },
        "id": "q0g_4YwGPOkm",
        "outputId": "7a46a760-2a3d-477d-ecc0-286f78fbcd5e"
      },
      "source": [
        "caesar_t.concordance('Antony', lines=5)"
      ],
      "execution_count": null,
      "outputs": [
        {
          "output_type": "stream",
          "name": "stdout",
          "text": [
            "Displaying 5 of 75 matches:\n",
            "efulnesse . Exeunt . Enter Caesar , Antony for the Course , Calphurnia , Porti\n",
            "rt Of that quicke Spirit that is in Antony : Let me not hinder Cassius your de\n",
            ". He loues no Playes , As thou dost Antony : he heares no Musicke ; Seldome he\n",
            "fer ' d him the Crowne ? Cask . Why Antony Bru . Tell vs the manner of it , ge\n",
            ", I did not marke it . I sawe Marke Antony offer him a Crowne , yet ' twas not\n"
          ]
        }
      ]
    },
    {
      "cell_type": "markdown",
      "metadata": {
        "id": "HuxoslNFYlRH"
      },
      "source": [
        "The collocations method displays words that most appear together:"
      ]
    },
    {
      "cell_type": "code",
      "metadata": {
        "colab": {
          "base_uri": "https://localhost:8080/"
        },
        "id": "1FITaITbPfI8",
        "outputId": "aea4d8a5-ab9a-4e10-de71-118f2872a965"
      },
      "source": [
        "caesar_t.collocations(num=5)"
      ],
      "execution_count": null,
      "outputs": [
        {
          "output_type": "stream",
          "name": "stdout",
          "text": [
            "Mark Antony; Marke Antony; Good morrow; Caius Ligarius; Metellus\n",
            "Cymber\n"
          ]
        }
      ]
    },
    {
      "cell_type": "markdown",
      "metadata": {
        "id": "-Lq8TdBEZWe1"
      },
      "source": [
        "The similar methods finds words that appear in contexts similar to a given word:"
      ]
    },
    {
      "cell_type": "code",
      "metadata": {
        "colab": {
          "base_uri": "https://localhost:8080/"
        },
        "id": "0Fwgr22aQGVE",
        "outputId": "134a44d2-070b-4a2c-a208-c6b4504491d4"
      },
      "source": [
        "caesar_t.similar('Caesar')"
      ],
      "execution_count": null,
      "outputs": [
        {
          "output_type": "stream",
          "name": "stdout",
          "text": [
            "me it brutus you he rome that cassius this if men worke him vs feare\n",
            "world thee what know day\n"
          ]
        }
      ]
    },
    {
      "cell_type": "markdown",
      "metadata": {
        "id": "cKYGeBd-ZjM2"
      },
      "source": [
        "The findall method prints text which matches a regular expression. Regular expressions are a powerful language for searching text. We define the regular expression match pattern using '<' and '>' to define word boundries and '.*' as a wildcard matching anything. Our pattern then matches all occurances to the word 'O' followed by a word starting with 'C'."
      ]
    },
    {
      "cell_type": "code",
      "metadata": {
        "colab": {
          "base_uri": "https://localhost:8080/"
        },
        "id": "On9bZkjIWSXz",
        "outputId": "c00d655d-d4c4-4e2b-8ff3-0c9ef85c0a2c"
      },
      "source": [
        "caesar_t.findall(r'<O><C.*>')"
      ],
      "execution_count": null,
      "outputs": [
        {
          "output_type": "stream",
          "name": "stdout",
          "text": [
            "O Cicero; O Cassius; O Conspiracie; O Caesar; O Caesar; O Caesar; O\n",
            "Constancie; O Caesar; O Caesar; O Caesar; O Cassius; O Cassius; O\n",
            "Cassius; O Coward; O Cassius; O Clitus\n"
          ]
        }
      ]
    },
    {
      "cell_type": "markdown",
      "metadata": {
        "id": "NL_Y1RjFa_Aw"
      },
      "source": [
        "The dispersion_plot method lets us compare where in a text given words occur:"
      ]
    },
    {
      "cell_type": "code",
      "metadata": {
        "colab": {
          "base_uri": "https://localhost:8080/",
          "height": 263
        },
        "id": "BxeBtRfvQMXb",
        "outputId": "a3b8f123-6d3b-49ff-bdd7-fb0f68356412"
      },
      "source": [
        "\n",
        "\n",
        "fig = plt.figure()\n",
        "plt.gcf().subplots_adjust(bottom=0.30) # to avoid x-ticks cut-off\n",
        "\n",
        "caesar_t.dispersion_plot(['Caesar', 'Antony', 'Brutus', 'Cassi'])\n",
        "plt.tight_layout()"
      ],
      "execution_count": null,
      "outputs": [
        {
          "output_type": "display_data",
          "data": {
            "text/plain": [
              "<Figure size 432x288 with 1 Axes>"
            ],
            "image/png": "[encoded data removed]"
          },
          "metadata": {
            "needs_background": "light"
          }
        },
        {
          "output_type": "display_data",
          "data": {
            "text/plain": [
              "<Figure size 432x288 with 0 Axes>"
            ]
          },
          "metadata": {}
        }
      ]
    },
    {
      "cell_type": "markdown",
      "metadata": {
        "id": "SLPqeWB0dd4E"
      },
      "source": [
        "# Classifying Text\n",
        "\n",
        "NLTK offers classifier classes that implement different algorithms for solving the labeling of text data. Generally to create a model for classifying text, we need to prepare a set of features paired with a category or label. Let's walk through a simple example using the brown corpus made available through nltk. This corpus has pre-categorized texts. Let us suppose that we believe we can label a paragraph from one of these texts as either 'editorial' or 'fiction' based on the appearance of certain words, pointed to by the variable tell_words."
      ]
    },
    {
      "cell_type": "code",
      "metadata": {
        "id": "_FwObHT0kYa2"
      },
      "source": [
        "tell_words = ['american', 'city', 'congress', 'country', 'county', 'editor', 'fact',\n",
        "              'government', 'national', 'nuclear', 'party', 'peace', 'political', 'power', 'president',\n",
        "              'public', 'state', 'states', 'united', 'war', 'washington', 'world', 'big',\n",
        "              'church', 'every', 'eyes', 'face', 'felt', 'found', 'god', 'hand', 'head',\n",
        "              'home', 'house', 'knew', 'moment', 'night', 'room', 'seemed', 'stood', 'think',\n",
        "              'though', 'thought', 'told', 'voice']\n"
      ],
      "execution_count": null,
      "outputs": []
    },
    {
      "cell_type": "markdown",
      "metadata": {
        "id": "aKLZh5XyPH92"
      },
      "source": [
        "In listing... we download the corpuses we will use and get paragraphs for the editorial and fiction categories."
      ]
    },
    {
      "cell_type": "code",
      "metadata": {
        "colab": {
          "base_uri": "https://localhost:8080/"
        },
        "id": "I8MIRTUvdglI",
        "outputId": "36e1084b-e5c1-43eb-ec61-e450f3576fd7"
      },
      "source": [
        "nltk.download('brown')\n",
        "from nltk.corpus import brown"
      ],
      "execution_count": null,
      "outputs": [
        {
          "output_type": "stream",
          "name": "stdout",
          "text": [
            "[nltk_data] Downloading package brown to /root/nltk_data...\n",
            "[nltk_data]   Unzipping corpora/brown.zip.\n"
          ]
        }
      ]
    },
    {
      "cell_type": "code",
      "metadata": {
        "colab": {
          "base_uri": "https://localhost:8080/"
        },
        "id": "ZIlMNMNiMJU1",
        "outputId": "4057ad8c-4aa2-43a8-bc1f-c66f3e62e409"
      },
      "source": [
        "nltk.download('stopwords')\n",
        "from nltk.corpus import stopwords\n",
        "english_stopwords = stopwords.words('english')"
      ],
      "execution_count": null,
      "outputs": [
        {
          "output_type": "stream",
          "name": "stdout",
          "text": [
            "[nltk_data] Downloading package stopwords to /root/nltk_data...\n",
            "[nltk_data]   Package stopwords is already up-to-date!\n"
          ]
        }
      ]
    },
    {
      "cell_type": "code",
      "metadata": {
        "id": "XvSi45JseXcA"
      },
      "source": [
        "ed_p = brown.paras(categories='editorial')"
      ],
      "execution_count": null,
      "outputs": []
    },
    {
      "cell_type": "code",
      "metadata": {
        "id": "vEk8cSv7gmJ5"
      },
      "source": [
        "fic_p = brown.paras(categories='fiction')"
      ],
      "execution_count": null,
      "outputs": []
    },
    {
      "cell_type": "code",
      "metadata": {
        "colab": {
          "base_uri": "https://localhost:8080/"
        },
        "id": "DPzQtIPTnchf",
        "outputId": "e474a214-ec6e-4d2d-c1b1-f5b5ce16a914"
      },
      "source": [
        "print(len(ed_p))\n",
        "print(len(fic_p))"
      ],
      "execution_count": null,
      "outputs": [
        {
          "output_type": "stream",
          "name": "stdout",
          "text": [
            "1003\n",
            "1043\n"
          ]
        }
      ]
    },
    {
      "cell_type": "markdown",
      "metadata": {
        "id": "2TWfiK1cPmn5"
      },
      "source": [
        "The format of the supplied paragraphs is lists of lists, with the sub-lists representing sentences. For the purpose of this exercise, we want a set of words for each paragraph. In listing... we define a flatten method and then flatten the paragraphs in each data set."
      ]
    },
    {
      "cell_type": "code",
      "metadata": {
        "id": "N7kWblmMu4nF"
      },
      "source": [
        "def flatten(paragraph):\n",
        "    output = set([])\n",
        "    for item in paragraph:\n",
        "       if isinstance(item, (list, tuple)):\n",
        "           output.update(item)\n",
        "       else:\n",
        "           output.add(item)\n",
        "    return output"
      ],
      "execution_count": null,
      "outputs": []
    },
    {
      "cell_type": "code",
      "metadata": {
        "id": "hh1zmJkPvldD"
      },
      "source": [
        "ed_flat = []\n",
        "for paragraph in ed_p:\n",
        "    ed_flat.append(flatten(paragraph))\n",
        "\n"
      ],
      "execution_count": null,
      "outputs": []
    },
    {
      "cell_type": "code",
      "metadata": {
        "id": "M2Fk4tcPwsrp"
      },
      "source": [
        "fic_flat = []\n",
        "for paragraph in fic_p:\n",
        "    fic_flat.append(flatten(paragraph))\n"
      ],
      "execution_count": null,
      "outputs": []
    },
    {
      "cell_type": "markdown",
      "metadata": {
        "id": "P0Lf4HjHQepY"
      },
      "source": [
        "We next need to pair each paragraph with the label based on it's source category. in list... we do this for both editorial and fiction texts. We then shuffle the order, using the shuffle method from the random module, to ensure that the order will not influence the classifier. "
      ]
    },
    {
      "cell_type": "code",
      "metadata": {
        "id": "5W2ZKC__ng9W"
      },
      "source": [
        "labeled_data = []\n",
        "for paragraph in ed_flat:\n",
        "    labeled_data.append((paragraph, 'editorial'))\n",
        "\n",
        "for paragraph in fic_flat:\n",
        "    labeled_data.append((paragraph, 'fiction'))\n",
        "\n",
        "from random import shuffle\n",
        "shuffle(labeled_data)"
      ],
      "execution_count": null,
      "outputs": []
    },
    {
      "cell_type": "markdown",
      "metadata": {
        "id": "g712HMMoVIzw"
      },
      "source": [
        "The classifier does not use the original paragraphs, but rather expects feature set. This will be in the form of a dictionary mapping features to values. In listing... we define a function to create a feature dictionary whose values are set to True if a tell word is found in the paragraph, and False if not. We then use this to a list of paired features and labels. We split this into training an test data, and then we are ready to train our classifier.  "
      ]
    },
    {
      "cell_type": "code",
      "metadata": {
        "id": "OjomT_EcpQ7S"
      },
      "source": [
        " def define_features(paragraph):\n",
        "    features = {}\n",
        "    for tell_word in tell_words:\n",
        "        features[tell_word] = tell_word in paragraph\n",
        "    return features"
      ],
      "execution_count": null,
      "outputs": []
    },
    {
      "cell_type": "code",
      "metadata": {
        "id": "zWAYLr9ypUdC"
      },
      "source": [
        "feature_data = []\n",
        "for labeled_paragraph in labeled_data:\n",
        "    paragraph, label = labeled_paragraph\n",
        "    feature_data.append((define_features(paragraph), label,))"
      ],
      "execution_count": null,
      "outputs": []
    },
    {
      "cell_type": "code",
      "metadata": {
        "id": "LR1OjG0opejh"
      },
      "source": [
        "train_data = feature_data[:1400]\n",
        "test_data = feature_data[1400:]"
      ],
      "execution_count": null,
      "outputs": []
    },
    {
      "cell_type": "markdown",
      "metadata": {
        "id": "aD4HToWMWVYp"
      },
      "source": [
        "In listing ... we train our model, using the nltk.NaiveBayesClassifier class. We then use the trained model to classify an individual feature set, check which of the tell words had the most influence on the training and then check the accuracy using the test data."
      ]
    },
    {
      "cell_type": "code",
      "metadata": {
        "id": "57Pf8GDRzMkK"
      },
      "source": [
        "decision_tree = nltk.NaiveBayesClassifier.train(train_data)"
      ],
      "execution_count": null,
      "outputs": []
    },
    {
      "cell_type": "code",
      "metadata": {
        "colab": {
          "base_uri": "https://localhost:8080/",
          "height": 35
        },
        "id": "eXaKxdFnLxh3",
        "outputId": "a3d12200-bb7d-4d1b-88b9-bbc66573ba7d"
      },
      "source": [
        "decision_tree.classify(train_data[0][0])"
      ],
      "execution_count": null,
      "outputs": [
        {
          "output_type": "execute_result",
          "data": {
            "text/plain": [
              "'editorial'"
            ],
            "application/vnd.google.colaboratory.intrinsic+json": {
              "type": "string"
            }
          },
          "metadata": {},
          "execution_count": 51
        }
      ]
    },
    {
      "cell_type": "code",
      "metadata": {
        "colab": {
          "base_uri": "https://localhost:8080/"
        },
        "id": "mGop4ChJMnXU",
        "outputId": "ba834181-aa07-4b4b-8660-e0bb3be20cd9"
      },
      "source": [
        "decision_tree.show_most_informative_features()"
      ],
      "execution_count": null,
      "outputs": [
        {
          "output_type": "stream",
          "name": "stdout",
          "text": [
            "Most Informative Features\n",
            "                  editor = True           editor : fictio =     21.1 : 1.0\n",
            "              government = True           editor : fictio =     18.1 : 1.0\n",
            "               political = True           editor : fictio =     16.6 : 1.0\n",
            "                   stood = True           fictio : editor =     14.1 : 1.0\n",
            "                  seemed = True           fictio : editor =     12.8 : 1.0\n",
            "                 thought = True           fictio : editor =     12.0 : 1.0\n",
            "                    knew = True           fictio : editor =     11.5 : 1.0\n",
            "                 nuclear = True           editor : fictio =      8.2 : 1.0\n",
            "                    felt = True           fictio : editor =      7.7 : 1.0\n",
            "                   peace = True           editor : fictio =      7.3 : 1.0\n"
          ]
        }
      ]
    },
    {
      "cell_type": "code",
      "metadata": {
        "colab": {
          "base_uri": "https://localhost:8080/"
        },
        "id": "QFAPMetKzskx",
        "outputId": "6089c89f-3a3d-43bd-ae53-5ec982e05a2f"
      },
      "source": [
        "nltk.classify.accuracy(decision_tree, test_data)"
      ],
      "execution_count": null,
      "outputs": [
        {
          "output_type": "execute_result",
          "data": {
            "text/plain": [
              "0.6486068111455109"
            ]
          },
          "metadata": {},
          "execution_count": 53
        }
      ]
    },
    {
      "cell_type": "markdown",
      "metadata": {
        "id": "wCIJWzezXDKI"
      },
      "source": [
        "We that our model is about %66 accurant in predicting the labels for our test data, better than a coin flip. This example should give you a sense of using a nltk classifier. There is much more to nltk than we have covered here. If you want to learn more about natural language processing using nltk, we recomend checking out the book [Natural Language Processing with Python](http://www.nltk.org/book/) authored by the creators of the library."
      ]
    },
    {
      "cell_type": "markdown",
      "metadata": {
        "id": "HOLuVk5eYTAb"
      },
      "source": [
        "## Summary\n",
        "\n",
        "The library nltk contains tools for processing text. This library comes with example texts that you can download and work with. The FreqDist class lets you gain insights into the frequencey different words appear. The Text class is a handy way to explore a new text. Nltk comes with built in classifier classes which can be used to categorize text based on training data."
      ]
    },
    {
      "cell_type": "markdown",
      "metadata": {
        "id": "KC2vgp3nIPkQ"
      },
      "source": [
        "1. Load the text Emma by Jane Austen as words, sentences, and paragraphs\n",
        "2. Count the accurance of the word Alice in Alice in Wonderland by Lewis Carroll.\n",
        "3. Use tabulate to view the top ten words in Alice in Wonderland excluding punctuation, and stopwords.\n",
        "4. Find the words that are similar to 'Rabbit' in Alice in Wonderland.\n",
        "5. Use the corpus 'names' to find the ten most frequent names in Hamlet."
      ]
    }
  ]
}