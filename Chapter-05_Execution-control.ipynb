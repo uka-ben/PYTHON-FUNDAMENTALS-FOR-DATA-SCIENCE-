{
  "nbformat": 4,
  "nbformat_minor": 0,
  "metadata": {
    "colab": {
      "name": "Chapter5_Execution_control.ipynb",
      "provenance": [],
      "authorship_tag": "ABX9TyNv6wrqmHXenMP2kq5iELyl",
      "include_colab_link": true
    },
    "kernelspec": {
      "name": "python3",
      "display_name": "Python 3"
    }
  },
  "cells": [
    {
      "cell_type": "markdown",
      "metadata": {
        "id": "view-in-github",
        "colab_type": "text"
      },
      "source": [
        "<a href=\"https://colab.research.google.com/github/kbehrman/foundational-python-for-data-science/blob/main/Chapter5_Execution_control.ipynb\" target=\"_parent\"><img src=\"https://colab.research.google.com/assets/colab-badge.svg\" alt=\"Open In Colab\"/></a>"
      ]
    },
    {
      "cell_type": "markdown",
      "metadata": {
        "id": "x0h_M_fphoRp"
      },
      "source": [
        "### Execution Control`\n",
        "- Code block: group of statements to execute together\n",
        "- Control and repeat execution of a block of code"
      ]
    },
    {
      "cell_type": "code",
      "metadata": {
        "id": "srvWdQdYss81",
        "colab": {
          "base_uri": "https://localhost:8080/"
        },
        "outputId": "cf8d3748-18ae-41ac-882b-5c00fc49b655"
      },
      "source": [
        "a, b, c = 1, 1, 2\n",
        "a == b"
      ],
      "execution_count": 1,
      "outputs": [
        {
          "output_type": "execute_result",
          "data": {
            "text/plain": [
              "True"
            ]
          },
          "metadata": {
            "tags": []
          },
          "execution_count": 1
        }
      ]
    },
    {
      "cell_type": "code",
      "metadata": {
        "id": "l8acMoQVs6h6",
        "colab": {
          "base_uri": "https://localhost:8080/"
        },
        "outputId": "7e88197e-da93-474e-8e11-1002f0e249b9"
      },
      "source": [
        "a == c"
      ],
      "execution_count": 2,
      "outputs": [
        {
          "output_type": "execute_result",
          "data": {
            "text/plain": [
              "False"
            ]
          },
          "metadata": {
            "tags": []
          },
          "execution_count": 2
        }
      ]
    },
    {
      "cell_type": "code",
      "metadata": {
        "id": "kOg3ZFXLtDpE",
        "colab": {
          "base_uri": "https://localhost:8080/"
        },
        "outputId": "d8c6e35c-a942-4671-829e-4ad932788268"
      },
      "source": [
        "a != b"
      ],
      "execution_count": 3,
      "outputs": [
        {
          "output_type": "execute_result",
          "data": {
            "text/plain": [
              "False"
            ]
          },
          "metadata": {
            "tags": []
          },
          "execution_count": 3
        }
      ]
    },
    {
      "cell_type": "code",
      "metadata": {
        "id": "GIMCy6was9sq",
        "colab": {
          "base_uri": "https://localhost:8080/"
        },
        "outputId": "a90a0225-7285-42cc-c55d-63744c1aa6a0"
      },
      "source": [
        "a != c"
      ],
      "execution_count": 4,
      "outputs": [
        {
          "output_type": "execute_result",
          "data": {
            "text/plain": [
              "True"
            ]
          },
          "metadata": {
            "tags": []
          },
          "execution_count": 4
        }
      ]
    },
    {
      "cell_type": "code",
      "metadata": {
        "id": "qk_qxgyPy1c9",
        "colab": {
          "base_uri": "https://localhost:8080/"
        },
        "outputId": "05073ba1-50ab-4c25-cf7f-aea363997195"
      },
      "source": [
        "1 == 1.0"
      ],
      "execution_count": 5,
      "outputs": [
        {
          "output_type": "execute_result",
          "data": {
            "text/plain": [
              "True"
            ]
          },
          "metadata": {
            "tags": []
          },
          "execution_count": 5
        }
      ]
    },
    {
      "cell_type": "code",
      "metadata": {
        "id": "hm6w_WXVy2zt",
        "colab": {
          "base_uri": "https://localhost:8080/"
        },
        "outputId": "9784989c-c3b0-49dd-932d-e8bc13308044"
      },
      "source": [
        "'1' == 1"
      ],
      "execution_count": 6,
      "outputs": [
        {
          "output_type": "execute_result",
          "data": {
            "text/plain": [
              "False"
            ]
          },
          "metadata": {
            "tags": []
          },
          "execution_count": 6
        }
      ]
    },
    {
      "cell_type": "code",
      "metadata": {
        "id": "qB5WVst90bkg",
        "colab": {
          "base_uri": "https://localhost:8080/"
        },
        "outputId": "8e2873e2-b0f2-4e86-a74b-edf5c5a005c2"
      },
      "source": [
        "a, b = 1, 1\n",
        "a is b"
      ],
      "execution_count": 7,
      "outputs": [
        {
          "output_type": "execute_result",
          "data": {
            "text/plain": [
              "True"
            ]
          },
          "metadata": {
            "tags": []
          },
          "execution_count": 7
        }
      ]
    },
    {
      "cell_type": "code",
      "metadata": {
        "id": "c7td4E140ZyQ"
      },
      "source": [
        "\n"
      ],
      "execution_count": 7,
      "outputs": []
    },
    {
      "cell_type": "code",
      "metadata": {
        "id": "eEdQeWCj0fzP"
      },
      "source": [
        ""
      ],
      "execution_count": 7,
      "outputs": []
    },
    {
      "cell_type": "markdown",
      "metadata": {
        "id": "fadx3sTriUox"
      },
      "source": [
        "#### For Loops\n"
      ]
    },
    {
      "cell_type": "code",
      "metadata": {
        "id": "PCILpeZQZi-q",
        "colab": {
          "base_uri": "https://localhost:8080/"
        },
        "outputId": "0e2105b3-e950-43c0-e9fc-d49507430d11"
      },
      "source": [
        "for i in range(6):\n",
        "  j = i + 1\n",
        "  print(j)"
      ],
      "execution_count": 8,
      "outputs": [
        {
          "output_type": "stream",
          "text": [
            "1\n",
            "2\n",
            "3\n",
            "4\n",
            "5\n",
            "6\n"
          ],
          "name": "stdout"
        }
      ]
    },
    {
      "cell_type": "code",
      "metadata": {
        "id": "lDDoznW2Z89G",
        "colab": {
          "base_uri": "https://localhost:8080/"
        },
        "outputId": "5c7015a9-f8a8-4e15-b57d-cad31ed4d30e"
      },
      "source": [
        "colors = [\"Green\", \"Red\", \"Blue\"]\n",
        "for color in colors:\n",
        "  print(f\"My favorite color is {color}\")\n",
        "  print(\"No, wait...\")"
      ],
      "execution_count": 9,
      "outputs": [
        {
          "output_type": "stream",
          "text": [
            "My favorite color is Green\n",
            "No, wait...\n",
            "My favorite color is Red\n",
            "No, wait...\n",
            "My favorite color is Blue\n",
            "No, wait...\n"
          ],
          "name": "stdout"
        }
      ]
    },
    {
      "cell_type": "markdown",
      "metadata": {
        "id": "o0KT_rHviYkp"
      },
      "source": [
        "#### While Loops"
      ]
    },
    {
      "cell_type": "code",
      "metadata": {
        "id": "BFugVZ6ua4GL",
        "colab": {
          "base_uri": "https://localhost:8080/"
        },
        "outputId": "6e4ff0d0-16f2-4c15-afcf-68173af0be16"
      },
      "source": [
        "counter = 0\n",
        "while counter < 5:\n",
        "  print(f\"I've counted {counter} so far, I hope there aren't more\")\n",
        "  counter += 1"
      ],
      "execution_count": 10,
      "outputs": [
        {
          "output_type": "stream",
          "text": [
            "I've counted 0 so far, I hope there aren't more\n",
            "I've counted 1 so far, I hope there aren't more\n",
            "I've counted 2 so far, I hope there aren't more\n",
            "I've counted 3 so far, I hope there aren't more\n",
            "I've counted 4 so far, I hope there aren't more\n"
          ],
          "name": "stdout"
        }
      ]
    },
    {
      "cell_type": "markdown",
      "metadata": {
        "id": "PK858dYlie4I"
      },
      "source": [
        "#### If Statements"
      ]
    },
    {
      "cell_type": "code",
      "metadata": {
        "id": "WZb0Fkjddo98",
        "colab": {
          "base_uri": "https://localhost:8080/"
        },
        "outputId": "08a28d5e-3a4d-4ac0-ef48-2fd6b9703eb3"
      },
      "source": [
        "snack = 'apple'\n",
        "fruit = {'orange', 'apple', 'pear'}\n",
        "\n",
        "if snack in fruit:\n",
        "  print(f\"Yeah, {snack} is good!\")"
      ],
      "execution_count": 11,
      "outputs": [
        {
          "output_type": "stream",
          "text": [
            "Yeah, apple is good!\n"
          ],
          "name": "stdout"
        }
      ]
    },
    {
      "cell_type": "code",
      "metadata": {
        "id": "mbkw9Gr4khOC",
        "colab": {
          "base_uri": "https://localhost:8080/"
        },
        "outputId": "7faf9ce0-820a-4cdb-9c37-b1b57acfe6c2"
      },
      "source": [
        "snack = 'cake'\n",
        "fruit = {'orange', 'apple', 'pear'}\n",
        "\n",
        "if snack in fruit:\n",
        "  print(f\"Yeah, {snack} is good!\")\n",
        "else:\n",
        "    print(f\"{snack}!? You should have some fruit\")"
      ],
      "execution_count": 12,
      "outputs": [
        {
          "output_type": "stream",
          "text": [
            "cake!? You should have some fruit\n"
          ],
          "name": "stdout"
        }
      ]
    },
    {
      "cell_type": "code",
      "metadata": {
        "id": "BGjfNAqslEir",
        "colab": {
          "base_uri": "https://localhost:8080/"
        },
        "outputId": "735b8cf7-1dcd-459e-eab9-7f91453efc96"
      },
      "source": [
        "balance = 2000.32\n",
        "account_status = None\n",
        "\n",
        "if balance > 0:\n",
        "    account_status = 'Positive'\n",
        "else:\n",
        "    if balance == 0:\n",
        "        account_status = 'Empty' \n",
        "    else:\n",
        "        account_status = 'Overdrawn'\n",
        "        \n",
        "print(account_status)"
      ],
      "execution_count": 13,
      "outputs": [
        {
          "output_type": "stream",
          "text": [
            "Positive\n"
          ],
          "name": "stdout"
        }
      ]
    },
    {
      "cell_type": "code",
      "metadata": {
        "id": "4ufXWTZZst-0"
      },
      "source": [
        ""
      ],
      "execution_count": 13,
      "outputs": []
    },
    {
      "cell_type": "code",
      "metadata": {
        "id": "OhVgANkDbYWS",
        "colab": {
          "base_uri": "https://localhost:8080/"
        },
        "outputId": "b290e483-366a-4d67-d9ed-f807f8d91541"
      },
      "source": [
        "fish = ['mackerel', 'salmon', 'pike']\n",
        "beasts = ['salmon', 'pike', 'bear', 'mackerel']\n",
        "i = 0\n",
        "\n",
        "while True:\n",
        "  beast = beasts[i] \n",
        "  if beast not in fish:\n",
        "    print(f\"Oh no! It's not a fish, it's a {beast}\")\n",
        "    break\n",
        "  print(f\"I caught a {beast} with my fishing net\")\n",
        "  i += 1"
      ],
      "execution_count": 14,
      "outputs": [
        {
          "output_type": "stream",
          "text": [
            "I caught a salmon with my fishing net\n",
            "I caught a pike with my fishing net\n",
            "Oh no! It's not a fish, it's a bear\n"
          ],
          "name": "stdout"
        }
      ]
    },
    {
      "cell_type": "code",
      "metadata": {
        "id": "h6NQ7ZK7eJbv",
        "colab": {
          "base_uri": "https://localhost:8080/"
        },
        "outputId": "a80f0f22-563e-489d-baa5-a113678c91e9"
      },
      "source": [
        "for name in ['bob', 'billy', 'bonzo', 'fred', 'baxter']:\n",
        "  if not name.startswith('b'):\n",
        "    continue\n",
        "  print(f\"Fine fellow that {name}\")\n"
      ],
      "execution_count": 15,
      "outputs": [
        {
          "output_type": "stream",
          "text": [
            "Fine fellow that bob\n",
            "Fine fellow that billy\n",
            "Fine fellow that bonzo\n",
            "Fine fellow that baxter\n"
          ],
          "name": "stdout"
        }
      ]
    },
    {
      "cell_type": "code",
      "metadata": {
        "id": "KRlUDnX1G5o6",
        "colab": {
          "base_uri": "https://localhost:8080/"
        },
        "outputId": "df8e3b88-26a6-43af-ccfc-9aaa978b41fe"
      },
      "source": [
        "import re\n",
        "s = '2020-12-14'\n",
        "match = re.search(r'(\\d\\d\\d\\d)-(\\d\\d)-(\\d\\d)', s)\n",
        "if match:\n",
        "    print(f\"Matched items: {match.groups(1)}\")\n",
        "else:\n",
        "    print(f\"No match found in {s}\")"
      ],
      "execution_count": 16,
      "outputs": [
        {
          "output_type": "stream",
          "text": [
            "Matched items: ('2020', '12', '14')\n"
          ],
          "name": "stdout"
        }
      ]
    },
    {
      "cell_type": "code",
      "metadata": {
        "id": "8ThNMHc5H1qC",
        "colab": {
          "base_uri": "https://localhost:8080/",
          "height": 130
        },
        "outputId": "bb3ceabb-2df8-4d88-99a8-6f0cb70781d5"
      },
      "source": [
        "# Requires Python 3.8\n",
        "# See https://research.google.com/colaboratory/local-runtimes.html\n",
        "import re\n",
        "s = '2020-12-14'\n",
        "if match := re.search(r'(\\d\\d\\d\\d)-(\\d\\d)-(\\d\\d)', s):\n",
        "    print(f\"Matched items: {match.groups(1)}\")\n",
        "else:\n",
        "    print(f\"No match found in {s}\")"
      ],
      "execution_count": 17,
      "outputs": [
        {
          "output_type": "error",
          "ename": "SyntaxError",
          "evalue": "ignored",
          "traceback": [
            "\u001b[0;36m  File \u001b[0;32m\"<ipython-input-17-599fe207d61c>\"\u001b[0;36m, line \u001b[0;32m3\u001b[0m\n\u001b[0;31m    if match := re.search(r'(\\d\\d\\d\\d)-(\\d\\d)-(\\d\\d)', s):\u001b[0m\n\u001b[0m              ^\u001b[0m\n\u001b[0;31mSyntaxError\u001b[0m\u001b[0;31m:\u001b[0m invalid syntax\n"
          ]
        }
      ]
    },
    {
      "cell_type": "code",
      "metadata": {
        "id": "XRNs_WLnIOZo"
      },
      "source": [
        "a = []"
      ],
      "execution_count": 18,
      "outputs": []
    },
    {
      "cell_type": "code",
      "metadata": {
        "id": "QdSaga2mM_Ev",
        "colab": {
          "base_uri": "https://localhost:8080/"
        },
        "outputId": "c9496280-7ade-4430-81d3-39b627d68321"
      },
      "source": [
        "if a:\n",
        "    print(\"Hiya\")\n",
        "else:\n",
        "    print(\"Biya\")"
      ],
      "execution_count": 19,
      "outputs": [
        {
          "output_type": "stream",
          "text": [
            "Biya\n"
          ],
          "name": "stdout"
        }
      ]
    }
  ]
}
