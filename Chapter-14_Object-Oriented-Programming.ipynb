{
  "nbformat": 4,
  "nbformat_minor": 0,
  "metadata": {
    "colab": {
      "name": "Copy of Chpt14-Object.Oriented.Programming.ipynb",
      "provenance": [],
      "authorship_tag": "ABX9TyPeCczsAPFyJyDku2WqRCpn",
      "include_colab_link": true
    },
    "kernelspec": {
      "name": "python3",
      "display_name": "Python 3"
    }
  },
  "cells": [
    {
      "cell_type": "markdown",
      "metadata": {
        "id": "view-in-github",
        "colab_type": "text"
      },
      "source": [
        "<a href=\"https://colab.research.google.com/github/kbehrman/foundational-python-for-data-science/blob/main/Chapter-14%3AObject-Oriented-Programming.ipynb\" target=\"_parent\"><img src=\"https://colab.research.google.com/assets/colab-badge.svg\" alt=\"Open In Colab\"/></a>"
      ]
    },
    {
      "cell_type": "markdown",
      "metadata": {
        "id": "TA7j5ZN0QPfk"
      },
      "source": [
        "# Object Oriented Programming\n",
        "\n",
        "The object oriented approach to programming is one of the most popular approaches. It is an approach that makes it generally easier for a programmer to model the real world in code. \n",
        "\n"
      ]
    },
    {
      "cell_type": "markdown",
      "metadata": {
        "id": "ggjBsq2hpThT"
      },
      "source": [
        "\n",
        "## Grouping State and Function\n",
        "\n",
        "Unlike the functional approach, object oriented programming bundles data and functionality together. These bundles are known as objects. It can be argued that everything in Python is an object, even basic types such as an int have methods as well as data. For example int objects have a to_bytes method which converts them to their bytes representation:"
      ]
    },
    {
      "cell_type": "code",
      "metadata": {
        "colab": {
          "base_uri": "https://localhost:8080/"
        },
        "id": "BdF_LpePqyCv",
        "outputId": "fc31a71d-bc47-4e3c-db3e-5850eb20d7fc"
      },
      "source": [
        "my_num = 13\n",
        "my_num.to_bytes(8, 'little')"
      ],
      "execution_count": null,
      "outputs": [
        {
          "output_type": "execute_result",
          "data": {
            "text/plain": [
              "b'\\r\\x00\\x00\\x00\\x00\\x00\\x00\\x00'"
            ]
          },
          "metadata": {},
          "execution_count": 1
        }
      ]
    },
    {
      "cell_type": "markdown",
      "metadata": {
        "id": "lGk--Vcmqsv2"
      },
      "source": [
        "And more complex data types, such as lists, strings, dictionaries, and Pandas DataFrames all combine data and functionality. In Python, a function which is attached to an object is refered to as a method. The power in Python's Object Oriented capabilities are not limited to using objects from provided libraries, but in designing your own objects.   \n",
        "\n",
        "## Classes and Instances\n",
        "\n",
        "Objects are defined by classes. Think of a class as a template for an object. When you instantiate a class, you get an object of that class type. The syntax for creating a basic class definition is:\n",
        "\n",
        "```\n",
        "class <class name>():\n",
        "    <statement>\n",
        "```\n",
        "\n",
        "We can use a pass statement to define a simple class which does nothing:\n"
      ]
    },
    {
      "cell_type": "code",
      "metadata": {
        "id": "AktUvqMpuzK2"
      },
      "source": [
        "class DoNothing():\n",
        "    pass"
      ],
      "execution_count": null,
      "outputs": []
    },
    {
      "cell_type": "markdown",
      "metadata": {
        "id": "20o3ISoGun01"
      },
      "source": [
        "The syntax for instantiating a class is \n",
        "\n",
        "```\n",
        "<class name>()\n",
        "```\n",
        "\n",
        "So to create a instance of out DoNothing class, pointed to by the variable do_nothing we would:"
      ]
    },
    {
      "cell_type": "code",
      "metadata": {
        "id": "9ib8s0yDvhXE"
      },
      "source": [
        "do_nothing = DoNothing()"
      ],
      "execution_count": null,
      "outputs": []
    },
    {
      "cell_type": "markdown",
      "metadata": {
        "id": "rWfpsLuAxIpP"
      },
      "source": [
        "If we check the type of this object:"
      ]
    },
    {
      "cell_type": "code",
      "metadata": {
        "colab": {
          "base_uri": "https://localhost:8080/"
        },
        "id": "Ou48xX6Qw1je",
        "outputId": "1510c60b-78dd-40c6-c962-b036e276f65b"
      },
      "source": [
        "type(do_nothing)"
      ],
      "execution_count": null,
      "outputs": [
        {
          "output_type": "execute_result",
          "data": {
            "text/plain": [
              "__main__.DoNothing"
            ]
          },
          "metadata": {},
          "execution_count": 4
        }
      ]
    },
    {
      "cell_type": "markdown",
      "metadata": {
        "id": "jNOyI1xnxRPl"
      },
      "source": [
        "We see that is a new type, defined by our DoNothing class. We can confirm this using the built-in isinstance() function:"
      ]
    },
    {
      "cell_type": "code",
      "metadata": {
        "colab": {
          "base_uri": "https://localhost:8080/"
        },
        "id": "cmwyrJeVsPsr",
        "outputId": "a17392b6-e8f7-4e64-9585-aeb9ef824208"
      },
      "source": [
        "isinstance(do_nothing, DoNothing)"
      ],
      "execution_count": null,
      "outputs": [
        {
          "output_type": "execute_result",
          "data": {
            "text/plain": [
              "True"
            ]
          },
          "metadata": {},
          "execution_count": 5
        }
      ]
    },
    {
      "cell_type": "markdown",
      "metadata": {
        "id": "1h8Qbiyjt4NC"
      },
      "source": [
        "The most common way to define a method attached to a class is to indent the function defintion to the inner scope of the class:\n",
        "\n",
        "```\n",
        "class <CLASS NAME>():\n",
        "    def <FUNCTION NAME>():\n",
        "        <STATEMENT>\n",
        "```\n",
        "\n",
        "The first argument to the function will be the instance from which it is called. By convention,this is named self. In listing 15.1 we define a class, DoSomething, whith the method return_self(). We then make an instance, and demonstrate that the return values of return_self() is in fact the instance itself. Notice that though we are required to have self as a parameter in the method definition, when we call the method, we don't specify it, as  it is passed automatically behind the scenes."
      ]
    },
    {
      "cell_type": "code",
      "metadata": {
        "colab": {
          "base_uri": "https://localhost:8080/"
        },
        "id": "GIpCfO0csyFP",
        "outputId": "bf305e3d-7279-4d15-8d18-0f0f0dbfc2c2"
      },
      "source": [
        "class DoSomething():\n",
        "    def return_self(self):\n",
        "        return self\n",
        "\n",
        "do_something = DoSomething()\n",
        "\n",
        "do_something == do_something.return_self()"
      ],
      "execution_count": null,
      "outputs": [
        {
          "output_type": "execute_result",
          "data": {
            "text/plain": [
              "True"
            ]
          },
          "metadata": {},
          "execution_count": 6
        }
      ]
    },
    {
      "cell_type": "markdown",
      "metadata": {
        "id": "7-zbntravsVP"
      },
      "source": [
        "Outside of the self parameter, you can define methods just as you would other functions. The self object is also used to create and access object attributes. Attributes within the class definition which use the syntax \n",
        "`self.<ATTRIBUTE NAME>`, will be attacthed to the object. "
      ]
    },
    {
      "cell_type": "code",
      "metadata": {
        "colab": {
          "base_uri": "https://localhost:8080/"
        },
        "id": "0kgFIcvutMe1",
        "outputId": "11059b3b-04dd-4cc4-d728-5c6c8c930ff7"
      },
      "source": [
        "class AddAttribute():\n",
        "    def add_score(self):\n",
        "        self.score = 14\n",
        "\n",
        "add_attribute = AddAttribute()\n",
        "add_attribute.add_score()\n",
        "\n",
        "add_attribute.score"
      ],
      "execution_count": null,
      "outputs": [
        {
          "output_type": "execute_result",
          "data": {
            "text/plain": [
              "14"
            ]
          },
          "metadata": {},
          "execution_count": 7
        }
      ]
    },
    {
      "cell_type": "markdown",
      "metadata": {
        "id": "SnUyh0NaxNsw"
      },
      "source": [
        "To call one method from another in the same class, use `self.<METHOD NAME>`. "
      ]
    },
    {
      "cell_type": "code",
      "metadata": {
        "colab": {
          "base_uri": "https://localhost:8080/"
        },
        "id": "3ZoteD6WwtcT",
        "outputId": "eff38477-2c3d-49a0-e399-905a9fe5ebca"
      },
      "source": [
        "class InternalMethodCaller():\n",
        "    def method_one(self):\n",
        "        print('Calling method one')\n",
        "\n",
        "    def method_two(self, n):\n",
        "        print(f'Method two calling method one {n} times')\n",
        "        for _ in range(n):\n",
        "            self.method_one()\n",
        "\n",
        "internal_method_caller = InternalMethodCaller()\n",
        "\n",
        "internal_method_caller.method_one()\n",
        "internal_method_caller.method_two(2)"
      ],
      "execution_count": null,
      "outputs": [
        {
          "output_type": "stream",
          "name": "stdout",
          "text": [
            "Calling method one\n",
            "Method two calling method one 2 times\n",
            "Calling method one\n",
            "Calling method one\n"
          ]
        }
      ]
    },
    {
      "cell_type": "markdown",
      "metadata": {
        "id": "Ry9J22UBvgeg"
      },
      "source": [
        "## Special Methods\n",
        "\n",
        "There are special method names reserved for certain functionality. These include methods for operator and slicing functionality as well as object initialization. The most used of these is the `__init__()` method. This method is called everytime an object is instantiated from a class. It is generally used to setup initial attribute values for an object. In listing 15... we define a class, Initialized, whith an `__init__()` method which takes an extra parameter, n. When we inistantiate an instace of this class, we must supply a value for this parameter and it is then assigned to the attribute count. This attribute can then be accessed by other methods in the class as `self.count`, or from the instantiated object as `<obejct>.<attribute>`."
      ]
    },
    {
      "cell_type": "code",
      "metadata": {
        "colab": {
          "base_uri": "https://localhost:8080/"
        },
        "id": "GJMwVWfN0MIn",
        "outputId": "d5bbb811-e712-42b3-d8f7-4fea6cf3efa6"
      },
      "source": [
        "class Initialized():\n",
        "    def __init__(self, n):\n",
        "        self.count = n \n",
        "\n",
        "    def increment_count(self):\n",
        "        self.count += 1\n",
        "\n",
        "initialized = Initialized(2)\n",
        "print(initialized.count)\n",
        "initialized.increment_count()\n",
        "print(initialized.count)"
      ],
      "execution_count": null,
      "outputs": [
        {
          "output_type": "stream",
          "name": "stdout",
          "text": [
            "2\n",
            "3\n"
          ]
        }
      ]
    },
    {
      "cell_type": "markdown",
      "metadata": {
        "id": "M8ahn1ysSNWn"
      },
      "source": [
        "The methods `__repr__` and `__str__` are used to control how an object is represented. The `__repr__` method is meant to give a technical description of the object. Ideally this description has the information necessary to recreate the object. This is the representation we see if we use an object as a statement. The `__str__` method is meant to define a less strict but more client friendly representation. This is the output when we cast an object to a string, as is done automatically by the print() function. This is demonstrated in listing 15... "
      ]
    },
    {
      "cell_type": "code",
      "metadata": {
        "colab": {
          "base_uri": "https://localhost:8080/"
        },
        "id": "3ddq59zOQMa7",
        "outputId": "40f18883-41c4-4f7e-fab4-76e4dfab698e"
      },
      "source": [
        "class Represented():\n",
        "    def __init__(self, n):\n",
        "        self.n = n\n",
        "\n",
        "    def __repr__(self):\n",
        "        return f\"Represented({self.n})\"\n",
        "\n",
        "    def __str__(self):\n",
        "        return \"Object demonstrating __str__ and __repr__\"\n",
        "\n",
        "represented = Represented(13)\n",
        "\n",
        "represented"
      ],
      "execution_count": null,
      "outputs": [
        {
          "output_type": "execute_result",
          "data": {
            "text/plain": [
              "Represented(13)"
            ]
          },
          "metadata": {},
          "execution_count": 10
        }
      ]
    },
    {
      "cell_type": "code",
      "metadata": {
        "colab": {
          "base_uri": "https://localhost:8080/"
        },
        "id": "tREQlOTJXSQJ",
        "outputId": "b955167a-df63-4e45-9d97-627b56925224"
      },
      "source": [
        "r = eval(represented.__repr__())\n",
        "type(r)"
      ],
      "execution_count": null,
      "outputs": [
        {
          "output_type": "execute_result",
          "data": {
            "text/plain": [
              "__main__.Represented"
            ]
          },
          "metadata": {},
          "execution_count": 11
        }
      ]
    },
    {
      "cell_type": "code",
      "metadata": {
        "colab": {
          "base_uri": "https://localhost:8080/"
        },
        "id": "POGsrR_cXi2Y",
        "outputId": "5cbb3ecd-932d-43d9-bf99-212c84163d0b"
      },
      "source": [
        "r.n"
      ],
      "execution_count": null,
      "outputs": [
        {
          "output_type": "execute_result",
          "data": {
            "text/plain": [
              "13"
            ]
          },
          "metadata": {},
          "execution_count": 12
        }
      ]
    },
    {
      "cell_type": "code",
      "metadata": {
        "colab": {
          "base_uri": "https://localhost:8080/",
          "height": 35
        },
        "id": "Qxr2ECdlQxkk",
        "outputId": "24e81126-7394-44d7-c627-75e99a6b436c"
      },
      "source": [
        "str(represented)"
      ],
      "execution_count": null,
      "outputs": [
        {
          "output_type": "execute_result",
          "data": {
            "text/plain": [
              "'Object demonstrating __str__ and __repr__'"
            ],
            "application/vnd.google.colaboratory.intrinsic+json": {
              "type": "string"
            }
          },
          "metadata": {},
          "execution_count": 13
        }
      ]
    },
    {
      "cell_type": "code",
      "metadata": {
        "colab": {
          "base_uri": "https://localhost:8080/"
        },
        "id": "sVNtvjDuTA13",
        "outputId": "4abd33d7-ae13-4acd-8148-3b4c184a3209"
      },
      "source": [
        "print(represented)"
      ],
      "execution_count": null,
      "outputs": [
        {
          "output_type": "stream",
          "name": "stdout",
          "text": [
            "Object demonstrating __str__ and __repr__\n"
          ]
        }
      ]
    },
    {
      "cell_type": "markdown",
      "metadata": {
        "id": "OnmWJ7hYVBlN"
      },
      "source": [
        "Rich comparison methods"
      ]
    },
    {
      "cell_type": "code",
      "metadata": {
        "id": "h-1Nw4mBUlhi"
      },
      "source": [
        "class CompareMe():\n",
        "    def __init__(self, score, time):\n",
        "        self.score = score\n",
        "        self.time = time\n",
        "\n",
        "    def __lt__(self, O):\n",
        "        print('called __lt__')\n",
        "        if self.score == O.score:\n",
        "            return self.time > O.time\n",
        "        return self.score < O.score\n",
        "\n",
        "    def __le__(self, O):\n",
        "        print('called __le__')\n",
        "        return self.score <= O.score\n",
        "\n",
        "    def __eq__(self, O):\n",
        "        print('called __eq__')\n",
        "        return (self.score, self.time) == (O.score, O.time)\n",
        "\n",
        "    def __ne__(self, O):\n",
        "        print('called __ne__')\n",
        "        return (self.score, self.time) != (O.score, O.time)\n",
        "\n",
        "    def __gt__(self, O):\n",
        "        print('called __gt__')\n",
        "        if self.score == O.score:\n",
        "            return self.time < O.time\n",
        "        return self.score > O.score\n",
        "\n",
        "    def __ge__(self, O):\n",
        "        print('called __ge__')\n",
        "        return self.score >= O.score"
      ],
      "execution_count": null,
      "outputs": []
    },
    {
      "cell_type": "code",
      "metadata": {
        "colab": {
          "base_uri": "https://localhost:8080/"
        },
        "id": "cLFbbZKOfk0N",
        "outputId": "2604ec93-8a20-47ce-9586-6acb79ac972a"
      },
      "source": [
        "high_score  = CompareMe(100, 100)\n",
        "mid_score   = CompareMe(50, 50)\n",
        "mid_score_1 = CompareMe(50, 50)\n",
        "low_time    = CompareMe(100, 25)\n",
        "\n",
        "high_score > mid_score"
      ],
      "execution_count": null,
      "outputs": [
        {
          "output_type": "stream",
          "name": "stdout",
          "text": [
            "called __gt__\n"
          ]
        },
        {
          "output_type": "execute_result",
          "data": {
            "text/plain": [
              "True"
            ]
          },
          "metadata": {},
          "execution_count": 16
        }
      ]
    },
    {
      "cell_type": "code",
      "metadata": {
        "colab": {
          "base_uri": "https://localhost:8080/"
        },
        "id": "T1PY6whCeGI9",
        "outputId": "576ed3bb-f57a-4dc1-c7f7-bcfc89c1ffbb"
      },
      "source": [
        "high_score >= mid_score_1"
      ],
      "execution_count": null,
      "outputs": [
        {
          "output_type": "stream",
          "name": "stdout",
          "text": [
            "called __ge__\n"
          ]
        },
        {
          "output_type": "execute_result",
          "data": {
            "text/plain": [
              "True"
            ]
          },
          "metadata": {},
          "execution_count": 17
        }
      ]
    },
    {
      "cell_type": "code",
      "metadata": {
        "colab": {
          "base_uri": "https://localhost:8080/"
        },
        "id": "UY_1OAMzeLVV",
        "outputId": "3667f046-405a-487c-82f0-2907e1fe3694"
      },
      "source": [
        "high_score == low_time"
      ],
      "execution_count": null,
      "outputs": [
        {
          "output_type": "stream",
          "name": "stdout",
          "text": [
            "called __eq__\n"
          ]
        },
        {
          "output_type": "execute_result",
          "data": {
            "text/plain": [
              "False"
            ]
          },
          "metadata": {},
          "execution_count": 18
        }
      ]
    },
    {
      "cell_type": "code",
      "metadata": {
        "colab": {
          "base_uri": "https://localhost:8080/"
        },
        "id": "2tzx9WYkeQJ9",
        "outputId": "be965ca3-4af5-4764-e7ac-1bc3f840af08"
      },
      "source": [
        "mid_score == mid_score_1"
      ],
      "execution_count": null,
      "outputs": [
        {
          "output_type": "stream",
          "name": "stdout",
          "text": [
            "called __eq__\n"
          ]
        },
        {
          "output_type": "execute_result",
          "data": {
            "text/plain": [
              "True"
            ]
          },
          "metadata": {},
          "execution_count": 19
        }
      ]
    },
    {
      "cell_type": "code",
      "metadata": {
        "colab": {
          "base_uri": "https://localhost:8080/"
        },
        "id": "VCbymSVjeeWh",
        "outputId": "57beb8ad-a3ac-4119-dc3b-6992a5cffa45"
      },
      "source": [
        "low_time > high_score "
      ],
      "execution_count": null,
      "outputs": [
        {
          "output_type": "stream",
          "name": "stdout",
          "text": [
            "called __gt__\n"
          ]
        },
        {
          "output_type": "execute_result",
          "data": {
            "text/plain": [
              "True"
            ]
          },
          "metadata": {},
          "execution_count": 20
        }
      ]
    },
    {
      "cell_type": "markdown",
      "metadata": {
        "id": "oX4h2O3aja2_"
      },
      "source": [
        "It is possible to define comparisons that compare an attribute to an object. In listing ... we create a class which directly compares its score attribute to another object. This lets us compare our object to any other type which is comparable to an int. For the sake of brevity, we have only implemented the `__lt__` and `__eq__` methods for this example."
      ]
    },
    {
      "cell_type": "code",
      "metadata": {
        "colab": {
          "base_uri": "https://localhost:8080/"
        },
        "id": "2S9oRj0Viq-H",
        "outputId": "24808e18-b136-461d-e14a-abf3ebc9458b"
      },
      "source": [
        "class ScoreMatters():\n",
        "    def __init__(self, score):\n",
        "        self.score = score\n",
        "\n",
        "    def __lt__(self, O):\n",
        "        return self.score < O\n",
        "\n",
        "    def __eq__(self, O):\n",
        "        return self.score == O\n",
        "\n",
        "my_score = ScoreMatters(14)\n",
        "my_score == 14.0"
      ],
      "execution_count": null,
      "outputs": [
        {
          "output_type": "execute_result",
          "data": {
            "text/plain": [
              "True"
            ]
          },
          "metadata": {},
          "execution_count": 21
        }
      ]
    },
    {
      "cell_type": "code",
      "metadata": {
        "colab": {
          "base_uri": "https://localhost:8080/"
        },
        "id": "6QDPKbaYjRCg",
        "outputId": "129ef36a-d131-45b6-8b5b-f89c6671f75e"
      },
      "source": [
        "my_score < 15"
      ],
      "execution_count": null,
      "outputs": [
        {
          "output_type": "execute_result",
          "data": {
            "text/plain": [
              "True"
            ]
          },
          "metadata": {},
          "execution_count": 22
        }
      ]
    },
    {
      "cell_type": "markdown",
      "metadata": {
        "id": "aOWGqmkZkT-p"
      },
      "source": [
        "It is important to not define confusing or illogical comparisons. Keep the end user in mind in these definitions. For example, in listing ... we define a class which is allways bigger than anything it is compared to, even itself. This would probaly lead to great confusion for an end user of the class."
      ]
    },
    {
      "cell_type": "code",
      "metadata": {
        "colab": {
          "base_uri": "https://localhost:8080/"
        },
        "id": "eiwi_F7GjWhA",
        "outputId": "c6ad92e4-74ee-46af-ffad-55c9f0e5bf34"
      },
      "source": [
        "class ImAllwaysBigger():\n",
        "    def __gt__(self, O):\n",
        "        return True\n",
        "\n",
        "    def __ge__(self, O):\n",
        "        return True\n",
        "\n",
        "i_am_bigger = ImAllwaysBigger()\n",
        "no_i_am_bigger = ImAllwaysBigger()\n",
        "\n",
        "i_am_bigger > \"Anything\""
      ],
      "execution_count": null,
      "outputs": [
        {
          "output_type": "execute_result",
          "data": {
            "text/plain": [
              "True"
            ]
          },
          "metadata": {},
          "execution_count": 23
        }
      ]
    },
    {
      "cell_type": "code",
      "metadata": {
        "colab": {
          "base_uri": "https://localhost:8080/"
        },
        "id": "eQU15Q3JmwBq",
        "outputId": "97351429-4007-463a-ff2a-2e2c6ddc00e3"
      },
      "source": [
        "i_am_bigger > no_i_am_bigger"
      ],
      "execution_count": null,
      "outputs": [
        {
          "output_type": "execute_result",
          "data": {
            "text/plain": [
              "True"
            ]
          },
          "metadata": {},
          "execution_count": 24
        }
      ]
    },
    {
      "cell_type": "code",
      "metadata": {
        "colab": {
          "base_uri": "https://localhost:8080/"
        },
        "id": "5pdvo5MGm3h8",
        "outputId": "bb3a31d0-14d1-4cd2-a593-db3100d1b62d"
      },
      "source": [
        "no_i_am_bigger > i_am_bigger"
      ],
      "execution_count": null,
      "outputs": [
        {
          "output_type": "execute_result",
          "data": {
            "text/plain": [
              "True"
            ]
          },
          "metadata": {},
          "execution_count": 25
        }
      ]
    },
    {
      "cell_type": "code",
      "metadata": {
        "colab": {
          "base_uri": "https://localhost:8080/"
        },
        "id": "UeidAo5ym5os",
        "outputId": "bc4b3131-7bc2-4815-bc5f-c2be82629e3a"
      },
      "source": [
        "i_am_bigger > i_am_bigger"
      ],
      "execution_count": null,
      "outputs": [
        {
          "output_type": "execute_result",
          "data": {
            "text/plain": [
              "True"
            ]
          },
          "metadata": {},
          "execution_count": 26
        }
      ]
    },
    {
      "cell_type": "markdown",
      "metadata": {
        "id": "BFKK4ieuXTPj"
      },
      "source": [
        "There are special methods for math operations. In listing ... we define a class which implements methods for the +, -, and * operators. This class returns new objects based on the its .value attribute."
      ]
    },
    {
      "cell_type": "code",
      "metadata": {
        "id": "OcXPFPayXT2I"
      },
      "source": [
        "class MathMe():\n",
        "    def __init__(self, value):\n",
        "        self.value = value\n",
        "\n",
        "    def __add__(self, O):\n",
        "        return MathMe(self.value + O.value)\n",
        "\n",
        "    def __sub__(self, O):\n",
        "        return MathMe(self.value - O.value)\n",
        "\n",
        "    def __mul__(self, O):\n",
        "        return MathMe(self.value * O.value)"
      ],
      "execution_count": null,
      "outputs": []
    },
    {
      "cell_type": "code",
      "metadata": {
        "colab": {
          "base_uri": "https://localhost:8080/"
        },
        "id": "1Yfgii3PYCkW",
        "outputId": "39b4e678-802a-41b5-f72d-077ae3d3cb8d"
      },
      "source": [
        "m1 = MathMe(3)\n",
        "m2 = MathMe(4)\n",
        "m3 = m1 + m2\n",
        "m3.value"
      ],
      "execution_count": null,
      "outputs": [
        {
          "output_type": "execute_result",
          "data": {
            "text/plain": [
              "7"
            ]
          },
          "metadata": {},
          "execution_count": 28
        }
      ]
    },
    {
      "cell_type": "code",
      "metadata": {
        "colab": {
          "base_uri": "https://localhost:8080/"
        },
        "id": "MWWCjYBYZkUy",
        "outputId": "09cc9c21-f5f3-4caf-e758-624196d44c1a"
      },
      "source": [
        "m4 = m1 - m3\n",
        "m4.value"
      ],
      "execution_count": null,
      "outputs": [
        {
          "output_type": "execute_result",
          "data": {
            "text/plain": [
              "-4"
            ]
          },
          "metadata": {},
          "execution_count": 29
        }
      ]
    },
    {
      "cell_type": "code",
      "metadata": {
        "colab": {
          "base_uri": "https://localhost:8080/"
        },
        "id": "orKQ3gYrZpui",
        "outputId": "e6ebfb56-65e5-4cdc-a82a-8e6adadd07ce"
      },
      "source": [
        "m5 = m1 * m3\n",
        "m5.value"
      ],
      "execution_count": null,
      "outputs": [
        {
          "output_type": "execute_result",
          "data": {
            "text/plain": [
              "21"
            ]
          },
          "metadata": {},
          "execution_count": 30
        }
      ]
    },
    {
      "cell_type": "markdown",
      "metadata": {
        "id": "Ll4jHJ2naO1r"
      },
      "source": [
        "There are many more special methods, including ones for bitwise operations, and defining container like objects which support slicing. For a full list of special methods consult the Python documentation https://docs.python.org/3/reference/datamodel.html#special-method-names.\n",
        "\n",
        "## Private Methods and Attributes\n",
        "\n",
        "The methods and attribute of an object are accessable to anyone with access to that object. The ones that we seen so far are what is know as public. They represent the data and functionality that are meant to be used directly. Sometimes in the process of defining a class, we need to define variables or methods that we do not wish to be used directly. These are known as private methods/attributes. These are implementation details, which could change as the class evolves. They are used by public methods internally. Python does not have a mechanism to prevent access to private attributes, but there is a naming convention of starting any private attributes name with an underscore. "
      ]
    },
    {
      "cell_type": "code",
      "metadata": {
        "id": "rr146FFJh1ob"
      },
      "source": [
        "class PrivatePublic():\n",
        "    def _private_method(self):\n",
        "        print('private')\n",
        "\n",
        "    def public_method(self):\n",
        "        # Call private\n",
        "        self._private_method()\n",
        "        # ... Do something else"
      ],
      "execution_count": null,
      "outputs": []
    },
    {
      "cell_type": "markdown",
      "metadata": {
        "id": "DiN_BLr0jV4C"
      },
      "source": [
        "## Class Variables\n",
        "The variables we define using the `self.<VARIABLE NAME>` syntax are known as instance variables. These are bound to the individual instances of a class. Each instance can have a different values for it's instance variables. We can bind variables to the class instead. These are know as class variables, and they are shared by all instances of that class. We demonstrate this in listing 15..."
      ]
    },
    {
      "cell_type": "code",
      "metadata": {
        "id": "cTBO1y5fkK71"
      },
      "source": [
        "class ClassyVariables():\n",
        "    class_variable = \"Yellow\"\n",
        "\n",
        "    def __init__(self, color):\n",
        "        self.instance_variable = color\n",
        "\n",
        "red = ClassyVariables('Red')\n",
        "blue = ClassyVariables('Blue')"
      ],
      "execution_count": null,
      "outputs": []
    },
    {
      "cell_type": "code",
      "metadata": {
        "colab": {
          "base_uri": "https://localhost:8080/",
          "height": 35
        },
        "id": "wquYfqKnksDZ",
        "outputId": "375e3e68-d8de-4d5b-99c3-28472de5dd44"
      },
      "source": [
        "red.instance_variable"
      ],
      "execution_count": null,
      "outputs": [
        {
          "output_type": "execute_result",
          "data": {
            "text/plain": [
              "'Red'"
            ],
            "application/vnd.google.colaboratory.intrinsic+json": {
              "type": "string"
            }
          },
          "metadata": {},
          "execution_count": 33
        }
      ]
    },
    {
      "cell_type": "code",
      "metadata": {
        "colab": {
          "base_uri": "https://localhost:8080/",
          "height": 35
        },
        "id": "i1M0GJeVky5i",
        "outputId": "66db694c-a1cb-462e-d4ea-369ac0555c82"
      },
      "source": [
        "red.class_variable"
      ],
      "execution_count": null,
      "outputs": [
        {
          "output_type": "execute_result",
          "data": {
            "text/plain": [
              "'Yellow'"
            ],
            "application/vnd.google.colaboratory.intrinsic+json": {
              "type": "string"
            }
          },
          "metadata": {},
          "execution_count": 34
        }
      ]
    },
    {
      "cell_type": "code",
      "metadata": {
        "colab": {
          "base_uri": "https://localhost:8080/",
          "height": 35
        },
        "id": "kDrRSM9hlEq0",
        "outputId": "8805aca4-eed9-415d-df9c-ea8f02190c15"
      },
      "source": [
        "blue.class_variable"
      ],
      "execution_count": null,
      "outputs": [
        {
          "output_type": "execute_result",
          "data": {
            "text/plain": [
              "'Yellow'"
            ],
            "application/vnd.google.colaboratory.intrinsic+json": {
              "type": "string"
            }
          },
          "metadata": {},
          "execution_count": 35
        }
      ]
    },
    {
      "cell_type": "code",
      "metadata": {
        "colab": {
          "base_uri": "https://localhost:8080/",
          "height": 35
        },
        "id": "9a8VWDtkkvWS",
        "outputId": "91c55f5e-90c1-4537-8795-bd52b28567e6"
      },
      "source": [
        "blue.instance_variable"
      ],
      "execution_count": null,
      "outputs": [
        {
          "output_type": "execute_result",
          "data": {
            "text/plain": [
              "'Blue'"
            ],
            "application/vnd.google.colaboratory.intrinsic+json": {
              "type": "string"
            }
          },
          "metadata": {},
          "execution_count": 36
        }
      ]
    },
    {
      "cell_type": "markdown",
      "metadata": {
        "id": "o27tUutgnUDx"
      },
      "source": [
        "One of the most important and powerful concepts in Object Oriented Programming is inheritence. A class declare another class or classes as a parent. The child can use the methods and variables from it's parents as if they were declared in it's definintion. In listing 15... we define a class, Person, and then use it as a parent class for a other class, Student. "
      ]
    },
    {
      "cell_type": "code",
      "metadata": {
        "colab": {
          "base_uri": "https://localhost:8080/",
          "height": 35
        },
        "id": "5ZeB44PjlN3V",
        "outputId": "a11673a6-3a28-4387-8dbd-91436ca9e346"
      },
      "source": [
        "class Person():\n",
        "    def __init__(self, first_name, last_name):\n",
        "        self.first_name = first_name\n",
        "        self.last_name = last_name\n",
        "\n",
        "class Student(Person):\n",
        "    def introduce_yourself(self):\n",
        "        print(f'Hello, my name is {self.first_name}')\n",
        "\n",
        "\n",
        "barb = Student('Barb', 'Shilala')\n",
        "barb.first_name"
      ],
      "execution_count": null,
      "outputs": [
        {
          "output_type": "execute_result",
          "data": {
            "text/plain": [
              "'Barb'"
            ],
            "application/vnd.google.colaboratory.intrinsic+json": {
              "type": "string"
            }
          },
          "metadata": {},
          "execution_count": 37
        }
      ]
    },
    {
      "cell_type": "code",
      "metadata": {
        "colab": {
          "base_uri": "https://localhost:8080/"
        },
        "id": "zZluaATLp_PS",
        "outputId": "5cc7a061-43e7-474f-ffb6-6b15b5758eb9"
      },
      "source": [
        "barb.introduce_yourself()"
      ],
      "execution_count": null,
      "outputs": [
        {
          "output_type": "stream",
          "name": "stdout",
          "text": [
            "Hello, my name is Barb\n"
          ]
        }
      ]
    },
    {
      "cell_type": "markdown",
      "metadata": {
        "id": "8NyV-cXQsx09"
      },
      "source": [
        "Notice that the method Student.introduce_yourself() uses the variable Person.first_name as if it was declared as part of the Student class. If we check the type of our instance, we see that it is a Student:"
      ]
    },
    {
      "cell_type": "code",
      "metadata": {
        "colab": {
          "base_uri": "https://localhost:8080/"
        },
        "id": "y_6ojAXsqDzv",
        "outputId": "e08b8fdc-0edf-4f60-8460-66cf4b65ad90"
      },
      "source": [
        "type(barb)"
      ],
      "execution_count": null,
      "outputs": [
        {
          "output_type": "execute_result",
          "data": {
            "text/plain": [
              "__main__.Student"
            ]
          },
          "metadata": {},
          "execution_count": 39
        }
      ]
    },
    {
      "cell_type": "markdown",
      "metadata": {
        "id": "kGhyAVZYtk1V"
      },
      "source": [
        "Importantly, if we use the isinstance() function, we can see that the instance is both an instance of Student:"
      ]
    },
    {
      "cell_type": "code",
      "metadata": {
        "colab": {
          "base_uri": "https://localhost:8080/"
        },
        "id": "FneUO7tbtyyF",
        "outputId": "2e694022-6ab6-486a-a7d7-1ca7dc6c0b69"
      },
      "source": [
        "isinstance(barb, Student)"
      ],
      "execution_count": null,
      "outputs": [
        {
          "output_type": "execute_result",
          "data": {
            "text/plain": [
              "True"
            ]
          },
          "metadata": {},
          "execution_count": 40
        }
      ]
    },
    {
      "cell_type": "markdown",
      "metadata": {
        "id": "JN4moEBet2I1"
      },
      "source": [
        "And an instance of the Person class:"
      ]
    },
    {
      "cell_type": "code",
      "metadata": {
        "colab": {
          "base_uri": "https://localhost:8080/"
        },
        "id": "2-Bxns5NtMv8",
        "outputId": "4156d05d-e73a-4c4a-8a95-b91630528c12"
      },
      "source": [
        "isinstance(barb, Person)"
      ],
      "execution_count": null,
      "outputs": [
        {
          "output_type": "execute_result",
          "data": {
            "text/plain": [
              "True"
            ]
          },
          "metadata": {},
          "execution_count": 41
        }
      ]
    },
    {
      "cell_type": "markdown",
      "metadata": {
        "id": "WCBaqmr9uTJw"
      },
      "source": [
        "This is useful if we are writing code which expects some shared behaviours across classes. For example, if we are implements a job orchestration system, we might expect that every type of job has a run method. Instead of testing for every possible job type, we can just define a parent class with a run method. Any job that inherets from, and is therefore an instance of the parent call, will have the run method defined."
      ]
    },
    {
      "cell_type": "code",
      "metadata": {
        "colab": {
          "base_uri": "https://localhost:8080/"
        },
        "id": "3WeAJ7-htPYj",
        "outputId": "603359e2-21e6-49a9-da54-e003a6d2760c"
      },
      "source": [
        "class Job():\n",
        "    def run(self):\n",
        "        print(\"I'm running\")\n",
        "\n",
        "class ExtractJob(Job):\n",
        "    def extract(self, data):\n",
        "        print('Extracting')\n",
        "\n",
        "class TransformJob(Job):\n",
        "    def transform(self, data):\n",
        "        print('Transforming')\n",
        "\n",
        "job_1 = ExtractJob()\n",
        "job_2 = TransformJob()\n",
        "for job in [job_1, job_2]:\n",
        "    if isinstance(job, Job):\n",
        "        job.run()\n"
      ],
      "execution_count": null,
      "outputs": [
        {
          "output_type": "stream",
          "name": "stdout",
          "text": [
            "I'm running\n",
            "I'm running\n"
          ]
        }
      ]
    },
    {
      "cell_type": "markdown",
      "metadata": {
        "id": "PLtKoAO4w0vl"
      },
      "source": [
        "If a child class defines a variable or method with the same name as is defined in it's parent, instances of the child will use the child's definition. For example, if we define a parent class with a run method:"
      ]
    },
    {
      "cell_type": "code",
      "metadata": {
        "id": "QPHqyS8oxM7F"
      },
      "source": [
        "class Parent():\n",
        "    def run(self):\n",
        "        print('I am a parent running carefully')"
      ],
      "execution_count": null,
      "outputs": []
    },
    {
      "cell_type": "markdown",
      "metadata": {
        "id": "37v02AVkxUlP"
      },
      "source": [
        "And a child class which re-defines the method:"
      ]
    },
    {
      "cell_type": "code",
      "metadata": {
        "id": "SBy7drOAxZtF"
      },
      "source": [
        "class Child(Parent):\n",
        "    def run(self):\n",
        "        print('I am a child running wild')"
      ],
      "execution_count": null,
      "outputs": []
    },
    {
      "cell_type": "markdown",
      "metadata": {
        "id": "40m1W3C-xiJc"
      },
      "source": [
        "Instances of the child will use the child classes definition:"
      ]
    },
    {
      "cell_type": "code",
      "metadata": {
        "colab": {
          "base_uri": "https://localhost:8080/"
        },
        "id": "CW7o8tdIxt5Z",
        "outputId": "811e68fe-c026-47d0-8544-9860d1b66ffe"
      },
      "source": [
        "chile = Child()\n",
        "chile.run()"
      ],
      "execution_count": null,
      "outputs": [
        {
          "output_type": "stream",
          "name": "stdout",
          "text": [
            "I am a child running wild\n"
          ]
        }
      ]
    },
    {
      "cell_type": "markdown",
      "metadata": {
        "id": "y0kHXRhU57NS"
      },
      "source": [
        "There are times it is useful to call a parent classes method explicitly. For example, it is not unusual to call a parent classes `__init__()` method from within the child classes `__init__()` method. "
      ]
    },
    {
      "cell_type": "code",
      "metadata": {
        "colab": {
          "base_uri": "https://localhost:8080/",
          "height": 35
        },
        "id": "zSYVv7imxy4Z",
        "outputId": "fb8235a0-3675-4f99-a72c-84a3eb679dc6"
      },
      "source": [
        "class Person():\n",
        "    def __init__(self, first_name, last_name):\n",
        "        self.first_name = first_name\n",
        "        self.last_name = last_name\n",
        "\n",
        "\n",
        "class Student(Person):\n",
        "    def __init__(self, school_name, first_name, last_name):\n",
        "        self.school_name = school_name\n",
        "        super().__init__(first_name, last_name) \n",
        "\n",
        "lydia = Student('BoxFord', 'Lydia', 'Smith')\n",
        "lydia.last_name"
      ],
      "execution_count": null,
      "outputs": [
        {
          "output_type": "execute_result",
          "data": {
            "text/plain": [
              "'Smith'"
            ],
            "application/vnd.google.colaboratory.intrinsic+json": {
              "type": "string"
            }
          },
          "metadata": {},
          "execution_count": 46
        }
      ]
    },
    {
      "cell_type": "markdown",
      "metadata": {
        "id": "Z9KLXo3HAGAO"
      },
      "source": [
        "Inheritence is not limited to one parent or one level. A class can inherit from a class, which itself inherits from another:"
      ]
    },
    {
      "cell_type": "code",
      "metadata": {
        "colab": {
          "base_uri": "https://localhost:8080/"
        },
        "id": "arl4XuS58Cih",
        "outputId": "502fe8d7-b1da-426d-a4c9-31464e101937"
      },
      "source": [
        "class A():\n",
        "    pass\n",
        "\n",
        "class B(A):\n",
        "    pass\n",
        "\n",
        "class C(B):\n",
        "    pass\n",
        "\n",
        "c = C()\n",
        "isinstance(c, B)"
      ],
      "execution_count": null,
      "outputs": [
        {
          "output_type": "execute_result",
          "data": {
            "text/plain": [
              "True"
            ]
          },
          "metadata": {},
          "execution_count": 47
        }
      ]
    },
    {
      "cell_type": "code",
      "metadata": {
        "colab": {
          "base_uri": "https://localhost:8080/"
        },
        "id": "UUmOJM9P--hL",
        "outputId": "170b7b32-b1f2-4ef7-dcb6-db5d847b289c"
      },
      "source": [
        "isinstance(c, A)"
      ],
      "execution_count": null,
      "outputs": [
        {
          "output_type": "execute_result",
          "data": {
            "text/plain": [
              "True"
            ]
          },
          "metadata": {},
          "execution_count": 48
        }
      ]
    },
    {
      "cell_type": "markdown",
      "metadata": {
        "id": "Fjt7B36SAYYi"
      },
      "source": [
        "Or a class can inherit from muliple parents:"
      ]
    },
    {
      "cell_type": "code",
      "metadata": {
        "colab": {
          "base_uri": "https://localhost:8080/"
        },
        "id": "1Lbf0RJ1_AjB",
        "outputId": "c54ded91-28fe-4483-f15c-04c7a4933739"
      },
      "source": [
        "class A():\n",
        "    def a_method(self):\n",
        "        print(\"A's method\")\n",
        "\n",
        "class B():\n",
        "    def b_method(self):\n",
        "        print(\"B's method\")\n",
        "\n",
        "class C(A, B):\n",
        "    pass\n",
        "\n",
        "c = C()\n",
        "c.a_method()"
      ],
      "execution_count": null,
      "outputs": [
        {
          "output_type": "stream",
          "name": "stdout",
          "text": [
            "A's method\n"
          ]
        }
      ]
    },
    {
      "cell_type": "code",
      "metadata": {
        "colab": {
          "base_uri": "https://localhost:8080/"
        },
        "id": "t4ueHPea8auf",
        "outputId": "aaa710b6-7ef0-4de2-9adb-384ea94687f0"
      },
      "source": [
        "c.b_method()"
      ],
      "execution_count": null,
      "outputs": [
        {
          "output_type": "stream",
          "name": "stdout",
          "text": [
            "B's method\n"
          ]
        }
      ]
    },
    {
      "cell_type": "markdown",
      "metadata": {
        "id": "sEBtsfHFAjBi"
      },
      "source": [
        "In general we advise against constructing over complex inheritence trees when possible. These can become very difficult to debug as you trace the interactions between variables and methods defined through the tree. \n",
        "\n",
        "There has been much writing on Object Oriented design. I would recomend researching it more before enbarking on a large Object oriented project to avoid unnecessary pitfalls.\n",
        "\n",
        "\n",
        "## Summary\n",
        "\n",
        "Object Oriented Programming groups data and functionality in objects. These objects are defined by classes. There are special methods which let you define classes which will work with Python's operators and classes which implement container behaviour. Classes can inheirit definitions from other classes."
      ]
    }
  ]
}