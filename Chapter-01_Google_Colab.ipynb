{
  "nbformat": 4,
  "nbformat_minor": 0,
  "metadata": {
    "colab": {
      "name": "Chpt.1.Google.Colab.ipynb",
      "provenance": [],
      "include_colab_link": true
    },
    "kernelspec": {
      "name": "python3",
      "display_name": "Python 3"
    }
  },
  "cells": [
    {
      "cell_type": "markdown",
      "metadata": {
        "id": "view-in-github",
        "colab_type": "text"
      },
      "source": [
        "<a href=\"https://colab.research.google.com/github/kbehrman/foundational-python-for-data-science/blob/main/Chpt_1_Google_Colab.ipynb\" target=\"_parent\"><img src=\"https://colab.research.google.com/assets/colab-badge.svg\" alt=\"Open In Colab\"/></a>"
      ]
    },
    {
      "cell_type": "markdown",
      "metadata": {
        "id": "_BVYiC2JI24d"
      },
      "source": [
        "# Introduction to Google Colab\n"
      ]
    },
    {
      "cell_type": "markdown",
      "metadata": {
        "id": "p1FX8n0icSU6"
      },
      "source": [
        "\n",
        "## Running Python Statements\n",
        "Historically Python was invoked either in an interactive Python shell, or supplying text files to the interpreter. If you have Python installed on your system, you can open the PYthon built-in interactive shell by typing 'python' on the command line:\n",
        "\n",
        "```python\n",
        "% python\n",
        "Python 3.9.1 (default, Mar  7 2021, 09:53:19) \n",
        "[Clang 12.0.0 (clang-1200.0.32.29)] on darwin\n",
        "Type \"help\", \"copyright\", \"credits\" or \"license\" for more information.\n",
        ">>>\n",
        "```\n",
        "Python statements can then be typed in and run by hitting Enter:\n",
        "```\n",
        ">>> print(\"Hello\")\n",
        "Hello\n",
        "```\n",
        "The result of each statement is displaying directly after the statements line. The IPython project is a more feature rich version of the Python interactive shell. \n",
        "\n",
        "If Python commands are stored in a text file with the extension .py, they can be run on the command line by typing 'python' followed by the file name. If we have a file named hello.py, an in it we have the statement\n",
        "```\n",
        "print(\"Hello\")\n",
        "```\n",
        "We can invoke it on the command line and its output is displayed on the next line:\n",
        "```\n",
        "% python hello.py \n",
        "Hello\n",
        "```\n",
        "For traditional PYthon software projects, the interactive shell was adequete as a place to figure out syntax, or do simple expieriments. The file based code was where the real development took place. This is where software was written. THese files could be distributed to what ever environment needed to run the code. For scientic computing, neither of these solutions was ideal. Scientists wanted to have interactive engagement with data while still be able to persist and share in a document based format. That's were notebook based development filled the gap.\n"
      ]
    },
    {
      "cell_type": "markdown",
      "metadata": {
        "id": "9a6HyKL1cVdO"
      },
      "source": [
        "\n",
        "## Jupyter Notebooks\n",
        "\n",
        "The Jupyter project sprung from the IPython project. Jupyter notebooks combine the interactive nature of the PYthon shell with the persistance of a document based format. Notebooks are executable documents, combing executable code with formatted text. THese documents are composed of cells. Cells contain code or text. When a code cell is executed, any output is displayed directly below. Any state changes performed by a code cell are shared by any cells executed subsequently. This allows you to build up your code cell by cell, without having to rerun the whole document when you make a change. This is espicially useful when you are exploring and experiementing with data. Jupyter notebooks have been widely adopted for data science work. They can be run locally from your machine, or from hosted services such as those provided by AWS, kaggle, DataBricks, or Google. \n"
      ]
    },
    {
      "cell_type": "markdown",
      "metadata": {
        "id": "L3oZiqfCcXVB"
      },
      "source": [
        "\n",
        "## Google Colab\n",
        "\n",
        "Colab is Googles hosted notebook service. It is a great way to get started with Python, as you don't need to install anything, or deal with library dependencis or environment management. This book will use Colab notebooks for all of it's examples. To use Colab, you must be signed into a Google account. Follow this link to access Colab:\n",
        "\n",
        "https://colab.research.google.com\n",
        "\n",
        "From here you can create a new notebook, or open existing notebooks. The existing notebooks can include examples supplied by Google, notebooks you have previously created, or notebooks you have copied to your Google Drive.\n",
        "\n",
        "Figure 1.1-Colab.Dialogue\n",
        "\n",
        "When you choose to create a new notebook, it is opened in a new browser tab. The notebook will have a default title, 'Untitled0.ipynb' if it is your first. To change it's name, double click on the title and type the new name.\n",
        "\n",
        "Figure 1.3. nameing notebook. \n",
        "\n",
        "Colab will automatically save your notebooks to your Google Drive. THe default location will be a directory named 'Colab Notebooks'. You can access your drive at Drive.Google.com.\n",
        "\n",
        "Figure 1.4 Google Drive\n",
        "\n"
      ]
    },
    {
      "cell_type": "markdown",
      "metadata": {
        "id": "QL_jr1CJcm7D"
      },
      "source": [
        "### Text Cells\n",
        "Your new notebook will have a single code cell. Cells can be of two types, text and code. You can add new cells by using the '+ Code' and '+ Text' buttons in the upper left of the notebook interface.  Text cells are formatted using a language called Markdown (https://colab.research.google.com/notebooks/markdown_guide.ipynb) . To edit a cell, double click on it. The Markdown will appear to the right, and a preview of its output to the left.\n",
        "\n",
        "\n"
      ]
    },
    {
      "cell_type": "markdown",
      "metadata": {
        "id": "liDzGlQXnkHQ"
      },
      "source": [
        "**Bold**\n",
        "\n",
        "_italic_\n",
        "\n",
        "~strikethrough~\n",
        "\n",
        "`monospace`"
      ]
    },
    {
      "cell_type": "markdown",
      "metadata": {
        "id": "Ximyn_F0DUi4"
      },
      "source": [
        "Lists can be created by prefacing items with either numbers or stars."
      ]
    },
    {
      "cell_type": "markdown",
      "metadata": {
        "id": "U5YwrpMuDjB1"
      },
      "source": [
        "1. Ordered item\n",
        "2. Ordered item\n",
        "\n",
        "* Unordered item\n",
        "* Unordered item"
      ]
    },
    {
      "cell_type": "markdown",
      "metadata": {
        "id": "oIO1Mxc6p7lY"
      },
      "source": [
        "Headings are designated text preceeded by hashsigns. A single hashsign is a top level heading, two hashes a first level heading and so forth."
      ]
    },
    {
      "cell_type": "markdown",
      "metadata": {
        "id": "ABw0v-XIqLjF"
      },
      "source": [
        "A heading which at the top of a cell determines its hierarchy in the document. You can view this hierarchy in the table of contents, which is opened by a button in the top left of the notebook interface. You can the table of contents to navigate the document by clicking on the displayed headings. A heading cell which has child cells will have a triangle next to the heading text. This triangle can be used to hide or view the children."
      ]
    },
    {
      "cell_type": "markdown",
      "metadata": {
        "id": "F7BNm0r3hdMB"
      },
      "source": [
        "#### Latex\n",
        "\n",
        "The LaTex language (https://www.latex-project.org/about/) is a designed for the preparation of technical documents. It excels at the presentation of mathematical text using a code based approach designed to allow an author to concentrate on content rather than layout. LaTex code can be inserted in Colab text cells by surrounding it in dollar signs, $. Figure.. takes an example from the LaTex documentation and embeds it in a Colab text cell.\n"
      ]
    },
    {
      "cell_type": "markdown",
      "metadata": {
        "id": "zRqu8X5-GLxy"
      },
      "source": [
        "$\\begin{equation*}\n",
        "\\left.\\begin{aligned}\n",
        "B’&=-\\partial\\times E,\\\\\n",
        "E’&=\\partial\\times B - 4\\pi j,\n",
        "\\end{aligned}\n",
        "\\right\\}\n",
        "\\qquad \\text{Maxwell’s equations}\n",
        "\\end{equation*}$"
      ]
    },
    {
      "cell_type": "code",
      "metadata": {
        "id": "eIazTffqgbfy"
      },
      "source": [
        ""
      ],
      "execution_count": null,
      "outputs": []
    },
    {
      "cell_type": "markdown",
      "metadata": {
        "id": "3Wlr91r1tHGl"
      },
      "source": [
        "### Code Cells\n",
        "\n",
        "Code cells are used to write and execute Python code. Python statements are typed into a cell. To execute them, either use the play button at the left of the cell, or press Shift-Enter. The latter will take you to the next cell, or create a new cell if there are none following. Any output from the code executed will be displayed below the cell itself."
      ]
    },
    {
      "cell_type": "code",
      "metadata": {
        "colab": {
          "base_uri": "https://localhost:8080/"
        },
        "id": "rOgLWSsjHinw",
        "outputId": "97829a8d-4464-4438-8c95-3656d972da5d"
      },
      "source": [
        "print(\"Hello\")"
      ],
      "execution_count": null,
      "outputs": [
        {
          "output_type": "stream",
          "text": [
            "Hello\n"
          ],
          "name": "stdout"
        }
      ]
    },
    {
      "cell_type": "markdown",
      "metadata": {
        "id": "Vg6j3k-ZeVfS"
      },
      "source": [
        "We will be using only code cells for the subsequent chapters of this book."
      ]
    },
    {
      "cell_type": "markdown",
      "metadata": {
        "id": "PoTYa97_ibjo"
      },
      "source": [
        "### Files\n",
        "To see files and folders available in Colab, click the files button on the left of the interface. By default you will have access to the sample_data folder which Google supplies. You can also use the upload button to upload files to the session \n",
        "**TAKE FIGURE**. These files will only be available in the current session of your document. If you come back to the same document later, you will need to re-upload them. All files available in colab have a path root of '/content/'. So if you upload a file named 'heights.over.time.csv', it's path would be '/content/heights.over.time.csv'. You can also mount your Google Drive using the Mount Drive button **TAKE FIGURE**. The contents of you drive will have the root path of '/content/drive'. "
      ]
    },
    {
      "cell_type": "markdown",
      "metadata": {
        "id": "DJkS-qihK96l"
      },
      "source": [
        "#### Manage Colab Documents\n",
        "By default notebooks are saved to your Google Drive. Under the File menu there are other options for saveing notebooks. You can save them to GitHub, either as a Gist or as a tracked file. You can also download them either in Jupyter notebook format, .ipynb, or as Python files, .py. You can also share notebooks using the share button in the upper right of the notebook interface. \n"
      ]
    },
    {
      "cell_type": "markdown",
      "metadata": {
        "id": "T0NUKNVvhOsk"
      },
      "source": [
        "### Code Snippets\n",
        "\n",
        "The Code snippets section of the left navigation section lets you search and select examplte code snipper. Selected snippets can be inserted using the INSERT button. Code snippets are a great way to see examples of what can be done in Colab, including making interactive forms, downloading data, and various visualization options. **TAKE FIGURE**"
      ]
    },
    {
      "cell_type": "markdown",
      "metadata": {
        "id": "JDjQ-HLK-ZM9"
      },
      "source": [
        "### Existing Collections\n",
        "\n",
        "Notebooks are a great way to explain and demonstrate techniques, concepts, and workflows. There are many collections of notebooks available around the web where Data Science work is shared. Kaggle has plenty of shared notebooks, as does the Google Seedbank.\n",
        "https://research.google.com/seedbank/"
      ]
    },
    {
      "cell_type": "markdown",
      "metadata": {
        "id": "cLVqdEYajvzO"
      },
      "source": [
        "### System aliases\n",
        "You can run shell commands from within a code cell by prepending the command with an exclamation point, for example, to print the working directory:"
      ]
    },
    {
      "cell_type": "code",
      "metadata": {
        "colab": {
          "base_uri": "https://localhost:8080/"
        },
        "id": "Y_YjIR0ecRQL",
        "outputId": "6c8f7da7-027a-4c77-93b4-e2bd48949011"
      },
      "source": [
        "!pwd"
      ],
      "execution_count": null,
      "outputs": [
        {
          "output_type": "stream",
          "text": [
            "/content\n"
          ],
          "name": "stdout"
        }
      ]
    },
    {
      "cell_type": "markdown",
      "metadata": {
        "id": "Rx1p3YEKcWke"
      },
      "source": [
        "Any output from running a shell command can be captured in a Python variable and used in subsequent code, don't worry about variables yet, we will cover them in a later chapter."
      ]
    },
    {
      "cell_type": "code",
      "metadata": {
        "id": "4zkTWpFuxePQ",
        "colab": {
          "base_uri": "https://localhost:8080/"
        },
        "outputId": "25f32478-d0a3-48b8-d373-18c6184535b3"
      },
      "source": [
        "var = !ls sample_data\n",
        "print(var)"
      ],
      "execution_count": null,
      "outputs": [
        {
          "output_type": "stream",
          "text": [
            "['anscombe.json\\t\\t      mnist_test.csv', 'california_housing_test.csv   mnist_train_small.csv', 'california_housing_train.csv  README.md']\n"
          ],
          "name": "stdout"
        }
      ]
    },
    {
      "cell_type": "markdown",
      "metadata": {
        "id": "Gd-ORjWHdM2c"
      },
      "source": [
        "### Magic Functions\n",
        "Magic functions are functions which change the way a code cell is run. For example, you can time a python statement using the magic function `%timeit()`:"
      ]
    },
    {
      "cell_type": "code",
      "metadata": {
        "id": "ZE7cOOH6PHL2",
        "colab": {
          "base_uri": "https://localhost:8080/"
        },
        "outputId": "41dfbddc-cd6a-41ab-ea94-58ffec9c7ed2"
      },
      "source": [
        "import time\n",
        "%timeit(time.sleep(1))"
      ],
      "execution_count": null,
      "outputs": [
        {
          "output_type": "stream",
          "text": [
            "1 loop, best of 5: 1 s per loop\n"
          ],
          "name": "stdout"
        }
      ]
    },
    {
      "cell_type": "markdown",
      "metadata": {
        "id": "Ff1L609xdPVg"
      },
      "source": [
        "Or have a cell run html code using the magic function `%%html`:"
      ]
    },
    {
      "cell_type": "code",
      "metadata": {
        "id": "DONtrcwFPLIu"
      },
      "source": [
        "%%html\n",
        "<marquee style='width: 30%; color: blue;'><b>Whee!</b></marquee>"
      ],
      "execution_count": null,
      "outputs": []
    },
    {
      "cell_type": "markdown",
      "metadata": {
        "id": "b_JhnvvXdXjy"
      },
      "source": [
        "You can find more information about magic functions in Cell Magics example notebook\n",
        "(https://nbviewer.jupyter.org/github/ipython/ipython/blob/1.x/examples/notebooks/Cell%20Magics.ipynb)"
      ]
    },
    {
      "cell_type": "markdown",
      "metadata": {
        "id": "9BxXUDdVduKc"
      },
      "source": [
        "## Summary\n",
        "Jupyter notebooks are documents which combine formatted text with executable code. They have become a very popular format for Scientific work and many example around the web. Google colab offers hosted notebooks in an environment including many popular libraries used in Data Science. Notebooks are made up of text cells, formated in markup, and code cells which can execute Python code. We will be using Colab notebooks for the examples in this book."
      ]
    }
  ]
}
