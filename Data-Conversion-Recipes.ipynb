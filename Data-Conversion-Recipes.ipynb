{
  "nbformat": 4,
  "nbformat_minor": 0,
  "metadata": {
    "colab": {
      "name": "Data-Conversion-Recipes.ipynb",
      "provenance": [],
      "include_colab_link": true
    },
    "kernelspec": {
      "name": "python3",
      "display_name": "Python 3"
    }
  },
  "cells": [
    {
      "cell_type": "markdown",
      "metadata": {
        "id": "view-in-github",
        "colab_type": "text"
      },
      "source": [
        "<a href=\"https://colab.research.google.com/github/kbehrman/foundational-python-for-data-science/blob/main/Data-Conversion-Recipes.ipynb\" target=\"_parent\"><img src=\"https://colab.research.google.com/assets/colab-badge.svg\" alt=\"Open In Colab\"/></a>"
      ]
    },
    {
      "cell_type": "markdown",
      "metadata": {
        "id": "m1oI49wGAJj2"
      },
      "source": [
        "## Convert lists to dicts, and dicts to lists "
      ]
    },
    {
      "cell_type": "markdown",
      "metadata": {
        "id": "ODNn01QhGy4q"
      },
      "source": [
        "### Converting Lists to Dictionaries"
      ]
    },
    {
      "cell_type": "markdown",
      "metadata": {
        "id": "kC0DL7jccwTz"
      },
      "source": [
        "#### Create basic dictionary"
      ]
    },
    {
      "cell_type": "code",
      "metadata": {
        "id": "XKmoizujJ3BM",
        "outputId": "c1c7088a-dc7f-4e57-defc-75692becd25c",
        "colab": {
          "base_uri": "https://localhost:8080/",
          "height": 34
        }
      },
      "source": [
        "key_values = [('one', 1), ('two', 2), ('three', 3)]\n",
        "d = dict( key_values )\n",
        "d"
      ],
      "execution_count": null,
      "outputs": [
        {
          "output_type": "execute_result",
          "data": {
            "text/plain": [
              "{'one': 1, 'two': 2, 'three': 3}"
            ]
          },
          "metadata": {
            "tags": []
          },
          "execution_count": 28
        }
      ]
    },
    {
      "cell_type": "markdown",
      "metadata": {
        "id": "db_EeMOXcsMl"
      },
      "source": [
        "#### Zip two lists"
      ]
    },
    {
      "cell_type": "code",
      "metadata": {
        "id": "xLT9Vq-ScC3u",
        "outputId": "50d167d9-9e12-4d10-ba28-99007f0e6b77",
        "colab": {
          "base_uri": "https://localhost:8080/",
          "height": 85
        }
      },
      "source": [
        "instruments = [ 'violin', 'lute', 'banjo', 'accordian']\n",
        "players = [ 'Anne-Sophie Mutter', \n",
        "            'Julian Bream', \n",
        "            'Noam Pikelny', \n",
        "            'Astor Pantaleón Piazzolla' ]\n",
        "\n",
        "d = dict(zip(instruments, players))\n",
        "d"
      ],
      "execution_count": null,
      "outputs": [
        {
          "output_type": "execute_result",
          "data": {
            "text/plain": [
              "{'violin': 'Anne-Sophie Mutter',\n",
              " 'lute': 'Julian Bream',\n",
              " 'banjo': 'Noam Pikelny',\n",
              " 'accordian': 'Astor Pantaleón Piazzolla'}"
            ]
          },
          "metadata": {
            "tags": []
          },
          "execution_count": 29
        }
      ]
    },
    {
      "cell_type": "markdown",
      "metadata": {
        "id": "hnrbuW1OeoaP"
      },
      "source": [
        "#### From keys"
      ]
    },
    {
      "cell_type": "code",
      "metadata": {
        "id": "oOHL-nQBcEiM",
        "outputId": "178b795b-73ce-4a6a-ca51-894788af1993",
        "colab": {
          "base_uri": "https://localhost:8080/",
          "height": 34
        }
      },
      "source": [
        "racers = ['Tom', 'Bill', 'Will', 'Jill']\n",
        "start_distance = 0\n",
        "d = dict.fromkeys(racers, start_distance)\n",
        "d"
      ],
      "execution_count": null,
      "outputs": [
        {
          "output_type": "execute_result",
          "data": {
            "text/plain": [
              "{'Tom': 0, 'Bill': 0, 'Will': 0, 'Jill': 0}"
            ]
          },
          "metadata": {
            "tags": []
          },
          "execution_count": 30
        }
      ]
    },
    {
      "cell_type": "markdown",
      "metadata": {
        "id": "zDeFh7DeHV_k"
      },
      "source": [
        "### Converting Dictionaries to  Lists"
      ]
    },
    {
      "cell_type": "code",
      "metadata": {
        "id": "s13Km8SmH0da"
      },
      "source": [
        "d = {'name': 'toby', 'id' : 14}"
      ],
      "execution_count": null,
      "outputs": []
    },
    {
      "cell_type": "markdown",
      "metadata": {
        "id": "ZcA63r-bKUGZ"
      },
      "source": [
        "#### Get a list of keys"
      ]
    },
    {
      "cell_type": "code",
      "metadata": {
        "id": "HdldSNWZKaKQ",
        "outputId": "7dac2b40-48b6-4a40-a941-a63179e8e401",
        "colab": {
          "base_uri": "https://localhost:8080/",
          "height": 34
        }
      },
      "source": [
        "list(d)"
      ],
      "execution_count": null,
      "outputs": [
        {
          "output_type": "execute_result",
          "data": {
            "text/plain": [
              "['name', 'id']"
            ]
          },
          "metadata": {
            "tags": []
          },
          "execution_count": 32
        }
      ]
    },
    {
      "cell_type": "markdown",
      "metadata": {
        "id": "TSDFCcDjKhun"
      },
      "source": [
        "#### Get keys in sorted order"
      ]
    },
    {
      "cell_type": "code",
      "metadata": {
        "id": "Z-HCbayYKkDi",
        "outputId": "928f7c6a-4519-4705-e06f-13123191f8c0",
        "colab": {
          "base_uri": "https://localhost:8080/",
          "height": 34
        }
      },
      "source": [
        "sorted(d)"
      ],
      "execution_count": null,
      "outputs": [
        {
          "output_type": "execute_result",
          "data": {
            "text/plain": [
              "['id', 'name']"
            ]
          },
          "metadata": {
            "tags": []
          },
          "execution_count": 33
        }
      ]
    },
    {
      "cell_type": "markdown",
      "metadata": {
        "id": "DvTN0dDKKux-"
      },
      "source": [
        "#### Get list of values"
      ]
    },
    {
      "cell_type": "code",
      "metadata": {
        "id": "Hd2aiFbTKxE2",
        "outputId": "4af85c54-741a-474c-ca75-5c92f8fb4226",
        "colab": {
          "base_uri": "https://localhost:8080/",
          "height": 34
        }
      },
      "source": [
        "list(d.values())"
      ],
      "execution_count": null,
      "outputs": [
        {
          "output_type": "execute_result",
          "data": {
            "text/plain": [
              "['toby', 14]"
            ]
          },
          "metadata": {
            "tags": []
          },
          "execution_count": 34
        }
      ]
    },
    {
      "cell_type": "markdown",
      "metadata": {
        "id": "cKAgtsidi8_3"
      },
      "source": [
        "### Get list of items\n"
      ]
    },
    {
      "cell_type": "code",
      "metadata": {
        "id": "8lKJ9RRLi4tz",
        "outputId": "681a01d1-9ce6-489f-8b52-98b80e1220ec",
        "colab": {
          "base_uri": "https://localhost:8080/",
          "height": 34
        }
      },
      "source": [
        "list(d.items())"
      ],
      "execution_count": null,
      "outputs": [
        {
          "output_type": "execute_result",
          "data": {
            "text/plain": [
              "[('name', 'toby'), ('id', 14)]"
            ]
          },
          "metadata": {
            "tags": []
          },
          "execution_count": 35
        }
      ]
    },
    {
      "cell_type": "markdown",
      "metadata": {
        "id": "iA3xuV1YOo_M"
      },
      "source": [
        "## Convert dicts to pandas Dataframe"
      ]
    },
    {
      "cell_type": "markdown",
      "metadata": {
        "id": "xBThaF6Lf6-l"
      },
      "source": [
        "### Create DataFrame using data parameter"
      ]
    },
    {
      "cell_type": "code",
      "metadata": {
        "id": "1k7y_fGvca73",
        "outputId": "809d90f6-13bd-4b6b-9531-fac73e348a8f",
        "colab": {
          "base_uri": "https://localhost:8080/",
          "height": 142
        }
      },
      "source": [
        "from pandas import DataFrame\n",
        "\n",
        "d = {'first': ['Jill', 'Solma', 'Elizabeth'], \n",
        "     'last': ['Stein', 'Smith', 'Tudor']}\n",
        "DataFrame(data=d)"
      ],
      "execution_count": null,
      "outputs": [
        {
          "output_type": "execute_result",
          "data": {
            "text/plain": [
              "       first   last\n",
              "0       Jill  Stein\n",
              "1      Solma  Smith\n",
              "2  Elizabeth  Tudor"
            ],
            "text/html": [
              "<div>\n",
              "<style scoped>\n",
              "    .dataframe tbody tr th:only-of-type {\n",
              "        vertical-align: middle;\n",
              "    }\n",
              "\n",
              "    .dataframe tbody tr th {\n",
              "        vertical-align: top;\n",
              "    }\n",
              "\n",
              "    .dataframe thead th {\n",
              "        text-align: right;\n",
              "    }\n",
              "</style>\n",
              "<table border=\"1\" class=\"dataframe\">\n",
              "  <thead>\n",
              "    <tr style=\"text-align: right;\">\n",
              "      <th></th>\n",
              "      <th>first</th>\n",
              "      <th>last</th>\n",
              "    </tr>\n",
              "  </thead>\n",
              "  <tbody>\n",
              "    <tr>\n",
              "      <th>0</th>\n",
              "      <td>Jill</td>\n",
              "      <td>Stein</td>\n",
              "    </tr>\n",
              "    <tr>\n",
              "      <th>1</th>\n",
              "      <td>Solma</td>\n",
              "      <td>Smith</td>\n",
              "    </tr>\n",
              "    <tr>\n",
              "      <th>2</th>\n",
              "      <td>Elizabeth</td>\n",
              "      <td>Tudor</td>\n",
              "    </tr>\n",
              "  </tbody>\n",
              "</table>\n",
              "</div>"
            ]
          },
          "metadata": {
            "tags": []
          },
          "execution_count": 36
        }
      ]
    },
    {
      "cell_type": "markdown",
      "metadata": {
        "id": "R14wQwcOLMwI"
      },
      "source": [
        "### Use class from_dict method"
      ]
    },
    {
      "cell_type": "code",
      "metadata": {
        "id": "jkWlDXTncVM-",
        "outputId": "97fdfdff-53b4-45f8-e10a-e0c47de79f07",
        "colab": {
          "base_uri": "https://localhost:8080/",
          "height": 142
        }
      },
      "source": [
        "DataFrame.from_dict(d)"
      ],
      "execution_count": null,
      "outputs": [
        {
          "output_type": "execute_result",
          "data": {
            "text/plain": [
              "       first   last\n",
              "0       Jill  Stein\n",
              "1      Solma  Smith\n",
              "2  Elizabeth  Tudor"
            ],
            "text/html": [
              "<div>\n",
              "<style scoped>\n",
              "    .dataframe tbody tr th:only-of-type {\n",
              "        vertical-align: middle;\n",
              "    }\n",
              "\n",
              "    .dataframe tbody tr th {\n",
              "        vertical-align: top;\n",
              "    }\n",
              "\n",
              "    .dataframe thead th {\n",
              "        text-align: right;\n",
              "    }\n",
              "</style>\n",
              "<table border=\"1\" class=\"dataframe\">\n",
              "  <thead>\n",
              "    <tr style=\"text-align: right;\">\n",
              "      <th></th>\n",
              "      <th>first</th>\n",
              "      <th>last</th>\n",
              "    </tr>\n",
              "  </thead>\n",
              "  <tbody>\n",
              "    <tr>\n",
              "      <th>0</th>\n",
              "      <td>Jill</td>\n",
              "      <td>Stein</td>\n",
              "    </tr>\n",
              "    <tr>\n",
              "      <th>1</th>\n",
              "      <td>Solma</td>\n",
              "      <td>Smith</td>\n",
              "    </tr>\n",
              "    <tr>\n",
              "      <th>2</th>\n",
              "      <td>Elizabeth</td>\n",
              "      <td>Tudor</td>\n",
              "    </tr>\n",
              "  </tbody>\n",
              "</table>\n",
              "</div>"
            ]
          },
          "metadata": {
            "tags": []
          },
          "execution_count": 37
        }
      ]
    },
    {
      "cell_type": "markdown",
      "metadata": {
        "id": "ygpgBXkifzj5"
      },
      "source": [
        "### Create DataFrame with index orientation"
      ]
    },
    {
      "cell_type": "code",
      "metadata": {
        "id": "jKTTCaxafbqp",
        "outputId": "94809a6b-9d57-4235-f0a5-289c759bace0",
        "colab": {
          "base_uri": "https://localhost:8080/",
          "height": 142
        }
      },
      "source": [
        "d = {0: ['Edward', 'Tudor'], 1: ['Robert', 'Redford'], 3: ['Earl', 'Scruggs']}\n",
        "df = DataFrame.from_dict(d, orient='index')\n",
        "df.columns=['first', 'last']\n",
        "df"
      ],
      "execution_count": null,
      "outputs": [
        {
          "output_type": "execute_result",
          "data": {
            "text/plain": [
              "    first     last\n",
              "0  Edward    Tudor\n",
              "1  Robert  Redford\n",
              "3    Earl  Scruggs"
            ],
            "text/html": [
              "<div>\n",
              "<style scoped>\n",
              "    .dataframe tbody tr th:only-of-type {\n",
              "        vertical-align: middle;\n",
              "    }\n",
              "\n",
              "    .dataframe tbody tr th {\n",
              "        vertical-align: top;\n",
              "    }\n",
              "\n",
              "    .dataframe thead th {\n",
              "        text-align: right;\n",
              "    }\n",
              "</style>\n",
              "<table border=\"1\" class=\"dataframe\">\n",
              "  <thead>\n",
              "    <tr style=\"text-align: right;\">\n",
              "      <th></th>\n",
              "      <th>first</th>\n",
              "      <th>last</th>\n",
              "    </tr>\n",
              "  </thead>\n",
              "  <tbody>\n",
              "    <tr>\n",
              "      <th>0</th>\n",
              "      <td>Edward</td>\n",
              "      <td>Tudor</td>\n",
              "    </tr>\n",
              "    <tr>\n",
              "      <th>1</th>\n",
              "      <td>Robert</td>\n",
              "      <td>Redford</td>\n",
              "    </tr>\n",
              "    <tr>\n",
              "      <th>3</th>\n",
              "      <td>Earl</td>\n",
              "      <td>Scruggs</td>\n",
              "    </tr>\n",
              "  </tbody>\n",
              "</table>\n",
              "</div>"
            ]
          },
          "metadata": {
            "tags": []
          },
          "execution_count": 38
        }
      ]
    },
    {
      "cell_type": "markdown",
      "metadata": {
        "id": "vO5pY89WLz7k"
      },
      "source": [
        "### Assign column names"
      ]
    },
    {
      "cell_type": "code",
      "metadata": {
        "id": "A6eFFjrifVmb",
        "outputId": "6e1fa941-9a23-4b99-aaa8-2dd0dfc21a1f",
        "colab": {
          "base_uri": "https://localhost:8080/",
          "height": 142
        }
      },
      "source": [
        "d = {'a': 'A', 'b': 'B', 'c': 'C'}\n",
        "df = DataFrame(list(d.items()), columns=['lower', 'upper'])\n",
        "df"
      ],
      "execution_count": null,
      "outputs": [
        {
          "output_type": "execute_result",
          "data": {
            "text/plain": [
              "  lower upper\n",
              "0     a     A\n",
              "1     b     B\n",
              "2     c     C"
            ],
            "text/html": [
              "<div>\n",
              "<style scoped>\n",
              "    .dataframe tbody tr th:only-of-type {\n",
              "        vertical-align: middle;\n",
              "    }\n",
              "\n",
              "    .dataframe tbody tr th {\n",
              "        vertical-align: top;\n",
              "    }\n",
              "\n",
              "    .dataframe thead th {\n",
              "        text-align: right;\n",
              "    }\n",
              "</style>\n",
              "<table border=\"1\" class=\"dataframe\">\n",
              "  <thead>\n",
              "    <tr style=\"text-align: right;\">\n",
              "      <th></th>\n",
              "      <th>lower</th>\n",
              "      <th>upper</th>\n",
              "    </tr>\n",
              "  </thead>\n",
              "  <tbody>\n",
              "    <tr>\n",
              "      <th>0</th>\n",
              "      <td>a</td>\n",
              "      <td>A</td>\n",
              "    </tr>\n",
              "    <tr>\n",
              "      <th>1</th>\n",
              "      <td>b</td>\n",
              "      <td>B</td>\n",
              "    </tr>\n",
              "    <tr>\n",
              "      <th>2</th>\n",
              "      <td>c</td>\n",
              "      <td>C</td>\n",
              "    </tr>\n",
              "  </tbody>\n",
              "</table>\n",
              "</div>"
            ]
          },
          "metadata": {
            "tags": []
          },
          "execution_count": 39
        }
      ]
    },
    {
      "cell_type": "markdown",
      "metadata": {
        "id": "tPHx60a2O-A_"
      },
      "source": [
        "## Convert characters to integers and back "
      ]
    },
    {
      "cell_type": "markdown",
      "metadata": {
        "id": "Nv2oPnYcMlQ2"
      },
      "source": [
        "### Cast str to int"
      ]
    },
    {
      "cell_type": "markdown",
      "metadata": {
        "id": "IK3H12LAMnlh"
      },
      "source": [
        "#### Base 10"
      ]
    },
    {
      "cell_type": "code",
      "metadata": {
        "id": "Cz744KkLMpbR",
        "outputId": "2bd1d427-2556-47d6-db21-f336cfe4ff9a",
        "colab": {
          "base_uri": "https://localhost:8080/",
          "height": 34
        }
      },
      "source": [
        "int('011')"
      ],
      "execution_count": null,
      "outputs": [
        {
          "output_type": "execute_result",
          "data": {
            "text/plain": [
              "11"
            ]
          },
          "metadata": {
            "tags": []
          },
          "execution_count": 40
        }
      ]
    },
    {
      "cell_type": "markdown",
      "metadata": {
        "id": "c-oF4oJoMsdD"
      },
      "source": [
        "#### Base 2"
      ]
    },
    {
      "cell_type": "code",
      "metadata": {
        "id": "VQ-rlW-UMuKd",
        "outputId": "44430f72-cf45-44dc-9103-f3db94d706af",
        "colab": {
          "base_uri": "https://localhost:8080/",
          "height": 34
        }
      },
      "source": [
        "int('011', 2)"
      ],
      "execution_count": null,
      "outputs": [
        {
          "output_type": "execute_result",
          "data": {
            "text/plain": [
              "3"
            ]
          },
          "metadata": {
            "tags": []
          },
          "execution_count": 41
        }
      ]
    },
    {
      "cell_type": "markdown",
      "metadata": {
        "id": "qTxUMxokM0VD"
      },
      "source": [
        "#### Base 6"
      ]
    },
    {
      "cell_type": "code",
      "metadata": {
        "id": "f4RrKcKaM231",
        "outputId": "f3d6bbfc-d866-49fa-ec8b-123a886e1acf",
        "colab": {
          "base_uri": "https://localhost:8080/",
          "height": 34
        }
      },
      "source": [
        "int('011', 6)"
      ],
      "execution_count": null,
      "outputs": [
        {
          "output_type": "execute_result",
          "data": {
            "text/plain": [
              "7"
            ]
          },
          "metadata": {
            "tags": []
          },
          "execution_count": 42
        }
      ]
    },
    {
      "cell_type": "markdown",
      "metadata": {
        "id": "3KfoL3upM_So"
      },
      "source": [
        "#### Base 8"
      ]
    },
    {
      "cell_type": "code",
      "metadata": {
        "id": "r2XsGuB2NBda",
        "outputId": "3c72b131-2146-4b13-c202-511c58426887",
        "colab": {
          "base_uri": "https://localhost:8080/",
          "height": 34
        }
      },
      "source": [
        "int('011', 8)"
      ],
      "execution_count": null,
      "outputs": [
        {
          "output_type": "execute_result",
          "data": {
            "text/plain": [
              "9"
            ]
          },
          "metadata": {
            "tags": []
          },
          "execution_count": 43
        }
      ]
    },
    {
      "cell_type": "markdown",
      "metadata": {
        "id": "SY90ktC3NDcg"
      },
      "source": [
        "#### Base 16"
      ]
    },
    {
      "cell_type": "code",
      "metadata": {
        "id": "oR-XdBNXNFIK",
        "outputId": "5c81b57e-78de-41a3-d619-155c72a67777",
        "colab": {
          "base_uri": "https://localhost:8080/",
          "height": 34
        }
      },
      "source": [
        "int('011', 16)"
      ],
      "execution_count": null,
      "outputs": [
        {
          "output_type": "execute_result",
          "data": {
            "text/plain": [
              "17"
            ]
          },
          "metadata": {
            "tags": []
          },
          "execution_count": 44
        }
      ]
    },
    {
      "cell_type": "markdown",
      "metadata": {
        "id": "3lbw66gCNPTz"
      },
      "source": [
        "### Cast int to string"
      ]
    },
    {
      "cell_type": "code",
      "metadata": {
        "id": "VihfMVYSk1GB",
        "outputId": "84200235-6421-4b83-a296-c7df92f46e5c",
        "colab": {
          "base_uri": "https://localhost:8080/",
          "height": 34
        }
      },
      "source": [
        "one = str(1)\n",
        "type(one)\n"
      ],
      "execution_count": null,
      "outputs": [
        {
          "output_type": "execute_result",
          "data": {
            "text/plain": [
              "str"
            ]
          },
          "metadata": {
            "tags": []
          },
          "execution_count": 45
        }
      ]
    },
    {
      "cell_type": "markdown",
      "metadata": {
        "id": "qLNbYaeLPCMG"
      },
      "source": [
        "### Convert between hexadecimal, binary, and floats"
      ]
    },
    {
      "cell_type": "markdown",
      "metadata": {
        "id": "p7AjiUsq7Nov"
      },
      "source": [
        "### Cast to str from float\n"
      ]
    },
    {
      "cell_type": "code",
      "metadata": {
        "id": "vx2E_TYy9Nt-",
        "outputId": "028c6b99-5591-4913-fbd8-dda644a16a5f",
        "colab": {
          "base_uri": "https://localhost:8080/",
          "height": 34
        }
      },
      "source": [
        "a_str = str(12.4)\n",
        "f\" {a_str!r} is a {type(a_str)}\""
      ],
      "execution_count": null,
      "outputs": [
        {
          "output_type": "execute_result",
          "data": {
            "text/plain": [
              "\" '12.4' is a <class 'str'>\""
            ]
          },
          "metadata": {
            "tags": []
          },
          "execution_count": 46
        }
      ]
    },
    {
      "cell_type": "markdown",
      "metadata": {
        "id": "ip3NuTGqNwAv"
      },
      "source": [
        "### Cast to float from str"
      ]
    },
    {
      "cell_type": "code",
      "metadata": {
        "id": "EMpCWo-tN2pg",
        "outputId": "dd7d1f9d-6c16-4f70-fdd3-19d14aa362a4",
        "colab": {
          "base_uri": "https://localhost:8080/",
          "height": 34
        }
      },
      "source": [
        "a_str = \"12.3\"\n",
        "a_float = float(a_str)\n",
        "f\" {a_float!r} is a {type(a_float)}\""
      ],
      "execution_count": null,
      "outputs": [
        {
          "output_type": "execute_result",
          "data": {
            "text/plain": [
              "\" 12.3 is a <class 'float'>\""
            ]
          },
          "metadata": {
            "tags": []
          },
          "execution_count": 47
        }
      ]
    },
    {
      "cell_type": "markdown",
      "metadata": {
        "id": "fjwdh1uO7U58"
      },
      "source": [
        "### Hexadecimal"
      ]
    },
    {
      "cell_type": "markdown",
      "metadata": {
        "id": "JRLzqsSMOkQ1"
      },
      "source": [
        "#### Int to hex str"
      ]
    },
    {
      "cell_type": "code",
      "metadata": {
        "id": "35D8N6zR-aAA",
        "outputId": "3070d593-979a-4588-cb3a-4626506c90ea",
        "colab": {
          "base_uri": "https://localhost:8080/",
          "height": 34
        }
      },
      "source": [
        "int_hex = hex(18)\n",
        "f\" hex(18) returns the {type(int_hex)}: {int_hex!r}\"\n"
      ],
      "execution_count": null,
      "outputs": [
        {
          "output_type": "execute_result",
          "data": {
            "text/plain": [
              "\" hex(18) returns the <class 'str'>: '0x12'\""
            ]
          },
          "metadata": {
            "tags": []
          },
          "execution_count": 48
        }
      ]
    },
    {
      "cell_type": "markdown",
      "metadata": {
        "id": "J9yOmbk7OrWj"
      },
      "source": [
        "#### Float to hex str"
      ]
    },
    {
      "cell_type": "code",
      "metadata": {
        "id": "EdXjN9MSOtbv",
        "outputId": "d79ac032-af61-4334-b52a-40c8c0e1ad8d",
        "colab": {
          "base_uri": "https://localhost:8080/",
          "height": 34
        }
      },
      "source": [
        "float_hex = 12.0.hex()\n",
        "f\" 12.4.hex() returns the {type(float_hex)}: {float_hex!r}\""
      ],
      "execution_count": null,
      "outputs": [
        {
          "output_type": "execute_result",
          "data": {
            "text/plain": [
              "\" 12.4.hex() returns the <class 'str'>: '0x1.8000000000000p+3'\""
            ]
          },
          "metadata": {
            "tags": []
          },
          "execution_count": 49
        }
      ]
    },
    {
      "cell_type": "markdown",
      "metadata": {
        "id": "UaLcFYpTom-I"
      },
      "source": [
        "[hex function](https://docs.python.org/3/library/functions.html)"
      ]
    },
    {
      "cell_type": "markdown",
      "metadata": {
        "id": "fMGfHTiR7YQg"
      },
      "source": [
        "### Conversion to and from binary"
      ]
    },
    {
      "cell_type": "markdown",
      "metadata": {
        "id": "Gl0_nausl0kh"
      },
      "source": [
        "#### Bytes literal\n",
        "Similar to strings, but limited to ASCII characters."
      ]
    },
    {
      "cell_type": "code",
      "metadata": {
        "id": "ENwjzQW2mDmY",
        "outputId": "5f24319c-95e2-4ace-830b-eff1e589b4ee",
        "colab": {
          "base_uri": "https://localhost:8080/",
          "height": 34
        }
      },
      "source": [
        "bytes_str = b\"some bytes literal\"\n",
        "type(bytes_str)"
      ],
      "execution_count": null,
      "outputs": [
        {
          "output_type": "execute_result",
          "data": {
            "text/plain": [
              "bytes"
            ]
          },
          "metadata": {
            "tags": []
          },
          "execution_count": 50
        }
      ]
    },
    {
      "cell_type": "markdown",
      "metadata": {
        "id": "kYGgEuxnPFBI"
      },
      "source": [
        "#### Encode to bytes"
      ]
    },
    {
      "cell_type": "code",
      "metadata": {
        "id": "-t-2J5Da7tDB",
        "outputId": "e30217ba-5dff-4874-8ee9-a23dda7fc9c3",
        "colab": {
          "base_uri": "https://localhost:8080/",
          "height": 34
        }
      },
      "source": [
        "import base64\n",
        "bytes_str = b\"Encode this string\"\n",
        "encoded_str = base64.b64encode(bytes_str)\n",
        "f\"The encoded string {encoded_str!r} is of type {type(encoded_str)}\"\n",
        "\n"
      ],
      "execution_count": null,
      "outputs": [
        {
          "output_type": "execute_result",
          "data": {
            "text/plain": [
              "\"The encoded string b'RW5jb2RlIHRoaXMgc3RyaW5n' is of type <class 'bytes'>\""
            ]
          },
          "metadata": {
            "tags": []
          },
          "execution_count": 51
        }
      ]
    },
    {
      "cell_type": "markdown",
      "metadata": {
        "id": "CHhv72ZlPKNp"
      },
      "source": [
        "#### Decode from bytes"
      ]
    },
    {
      "cell_type": "code",
      "metadata": {
        "id": "haBNDHcIPOZH",
        "outputId": "4ec66cbc-e212-42d6-d422-fb4102059bba",
        "colab": {
          "base_uri": "https://localhost:8080/",
          "height": 34
        }
      },
      "source": [
        "base64.b64decode(encoded_str)"
      ],
      "execution_count": null,
      "outputs": [
        {
          "output_type": "execute_result",
          "data": {
            "text/plain": [
              "b'Encode this string'"
            ]
          },
          "metadata": {
            "tags": []
          },
          "execution_count": 52
        }
      ]
    }
  ]
}